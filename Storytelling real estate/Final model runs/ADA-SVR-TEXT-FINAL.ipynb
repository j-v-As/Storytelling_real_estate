{
 "cells": [
  {
   "cell_type": "code",
   "execution_count": 1,
   "metadata": {},
   "outputs": [],
   "source": [
    "########################SVR final model text #####################\n",
    "import pandas as pd\n",
    "df = pd.read_csv(r\"C:\\\\Users\\\\JellevanAs\\\\Documents\\\\Studie\\\\Thesis\\\\df-english.csv\")\n"
   ]
  },
  {
   "cell_type": "code",
   "execution_count": 2,
   "metadata": {},
   "outputs": [],
   "source": [
    "\n",
    "import pandas as pd\n",
    "import numpy as np\n",
    "from sklearn.model_selection import train_test_split\n",
    "from sklearn.preprocessing import MinMaxScaler\n",
    "from ast import literal_eval\n",
    "\n",
    "df[\"ada_embedding_eng\"] = df[\"ada_embedding_eng\"].apply(literal_eval).apply(np.array)\n",
    "\n",
    "x = df[\"ada_embedding_eng\"]\n",
    "y = df['numerical_price']\n",
    "\n",
    "\n",
    "###### deleting original dataframe for memory purpose ####\n",
    "del df\n",
    "import pandas as pd\n",
    "# Explode the embedding arrays into separate rows\n",
    "x = x.apply(pd.Series)"
   ]
  },
  {
   "cell_type": "code",
   "execution_count": 3,
   "metadata": {},
   "outputs": [],
   "source": [
    "from sklearn.preprocessing import StandardScaler\n",
    "\n",
    "\n",
    "x_train, x_test, y_train, y_test = train_test_split(x, y, test_size=0.2, random_state=42)"
   ]
  },
  {
   "cell_type": "code",
   "execution_count": 5,
   "metadata": {},
   "outputs": [
    {
     "name": "stdout",
     "output_type": "stream",
     "text": [
      "R2 Score on Test Data: 0.5164697863442488\n",
      "Mean Squared Error: 77254980068.57874\n",
      "Root Mean Squared Error: 277947.800978131\n",
      "Mean Absolute Error: 162413.97705353846\n",
      "Mean Absolute percentage Error: 32.77733510852946\n",
      "explained variance 0.5164699590114533\n"
     ]
    }
   ],
   "source": [
    "from sklearn.svm import LinearSVR\n",
    "from sklearn.metrics import mean_squared_error, r2_score, mean_absolute_error, explained_variance_score\n",
    "from sklearn.preprocessing import StandardScaler\n",
    "import numpy as np\n",
    "\n",
    "\n",
    "def run_svr_and_evaluate(x_train,x_test, y_train,y_test, ):\n",
    "    # Split data into training and testing sets\n",
    "    \n",
    "\n",
    "    # Initialize SVR with your predefined parameters\n",
    "    clf_svr_opt = clf_linear_svr = LinearSVR(**linear_svr_params, random_state=0)\n",
    "\n",
    "    # StandardScaler for y\n",
    "    scaler = StandardScaler()\n",
    "\n",
    "    # Scaling \n",
    "    y_train_scaled = scaler.fit_transform(y_train.values.reshape(-1, 1)).ravel()\n",
    "    \n",
    "\n",
    "    # Fitting the model\n",
    "    clf_svr_opt.fit(x_train, y_train_scaled)\n",
    "\n",
    "    # Predicting and inverse transformation for the test set\n",
    "    y_pred_scaled = clf_svr_opt.predict(x_test)\n",
    "    y_pred = scaler.inverse_transform(y_pred_scaled.reshape(-1, 1)).flatten()\n",
    "\n",
    "     # Mean Squared Error\n",
    "    mse = mean_squared_error(y_test, y_pred)\n",
    "    # Root Mean Squared Error\n",
    "    rmse = np.sqrt(mse)\n",
    "    # R-squared Score\n",
    "    r2_score_value = r2_score(y_test, y_pred)\n",
    "    # Mean Absolute Error\n",
    "    mae = mean_absolute_error(y_test, y_pred)\n",
    "    # Mean Absolute Percentage Error\n",
    "    mape = np.mean(np.abs((y_test - y_pred) / y_test)) * 100\n",
    "    # Explained Variance Score\n",
    "    explained_variance = explained_variance_score(y_test, y_pred)\n",
    "\n",
    "\n",
    "    return r2_score_value, mse, rmse, mae, mape, explained_variance\n",
    "\n",
    "\n",
    "linear_svr_params = {'C': 5.511948501137657, 'epsilon': 0.009607856651966368, 'tol': 0.0001421636488111167, 'loss': 'squared_epsilon_insensitive', 'dual': True, 'fit_intercept': False, 'intercept_scaling': 0.1092834253705439, 'max_iter': 8768}\n",
    "\n",
    "r2_score_value, mse, rmse, mae, mape, explained_variance = run_svr_and_evaluate(x_train=x_train,x_test=x_test, y_train=y_train,y_test=y_test)\n",
    "print(\"R2 Score on Test Data:\", r2_score_value)\n",
    "print(\"Mean Squared Error:\", mse)\n",
    "print(\"Root Mean Squared Error:\", rmse)\n",
    "print(\"Mean Absolute Error:\", mae)\n",
    "print(\"Mean Absolute percentage Error:\", mape)\n",
    "print(\"explained variance\", explained_variance)\n",
    "\n",
    "\n",
    "\n"
   ]
  },
  {
   "cell_type": "code",
   "execution_count": 6,
   "metadata": {},
   "outputs": [],
   "source": [
    "\n",
    "import pandas as pd\n",
    "df = pd.read_csv(r\"C:\\\\Users\\\\JellevanAs\\\\Documents\\\\Studie\\\\Thesis\\\\df-dutch.csv\")\n",
    "\n",
    "\n",
    "# Convert the 'ada_embedding_eng' column to a list of arrays if they are not already\n",
    "df[\"ada_embedding\"] = df[\"ada_embedding\"].apply(literal_eval).apply(np.array)\n",
    "\n",
    "x = df[\"ada_embedding\"]\n",
    "y = df['numerical_price']\n",
    "\n",
    "\n",
    "###### deleting original dataframe for memory purpose ####\n",
    "del df\n",
    "\n",
    "# Explode the embedding arrays into separate rows\n",
    "x = x.apply(pd.Series)\n",
    "\n",
    "\n",
    "x_train, x_test, y_train, y_test = train_test_split(x, y, test_size=0.2, random_state=42)\n"
   ]
  },
  {
   "cell_type": "code",
   "execution_count": 7,
   "metadata": {},
   "outputs": [
    {
     "name": "stdout",
     "output_type": "stream",
     "text": [
      "R2 Score on Test Data: 0.5187225297758423\n",
      "Mean Squared Error: 76895052924.43695\n",
      "Root Mean Squared Error: 277299.57252840645\n",
      "Mean Absolute Error: 160142.55599806717\n",
      "Mean Absolute percentage Error: 32.24955775909502\n",
      "explained variance 0.5187264648972671\n"
     ]
    }
   ],
   "source": [
    "\n",
    "# Assuming x_train and y_train are your training data\n",
    "\n",
    "r2_score_value, mse, rmse, mae, mape, explained_variance = run_svr_and_evaluate(x_train=x_train,x_test=x_test, y_train=y_train,y_test=y_test)\n",
    "print(\"R2 Score on Test Data:\", r2_score_value)\n",
    "print(\"Mean Squared Error:\", mse)\n",
    "print(\"Root Mean Squared Error:\", rmse)\n",
    "print(\"Mean Absolute Error:\", mae)\n",
    "print(\"Mean Absolute percentage Error:\", mape)\n",
    "print(\"explained variance\", explained_variance)\n",
    "\n"
   ]
  },
  {
   "cell_type": "code",
   "execution_count": 8,
   "metadata": {},
   "outputs": [],
   "source": [
    "########################SVR final model text #####################\n",
    "import pandas as pd\n",
    "df = pd.read_csv(r\"C:\\\\Users\\\\JellevanAs\\\\Documents\\\\Studie\\\\Thesis\\\\df-anti1.csv\")\n",
    "\n",
    "import pandas as pd\n",
    "import numpy as np\n",
    "from sklearn.model_selection import train_test_split\n",
    "from sklearn.preprocessing import MinMaxScaler\n",
    "from ast import literal_eval\n",
    "\n",
    "df[\"description_en_anti_prompt_embedding\"] = df[\"description_en_anti_prompt_embedding\"].apply(literal_eval).apply(np.array)\n",
    "\n",
    "x = df[\"description_en_anti_prompt_embedding\"]\n",
    "y = df['numerical_price']\n",
    "\n",
    "\n",
    "###### deleting original dataframe for memory purpose ####\n",
    "del df\n",
    "import pandas as pd\n",
    "# Explode the embedding arrays into separate rows\n",
    "x = x.apply(pd.Series)\n",
    "\n",
    "from sklearn.preprocessing import StandardScaler\n",
    "\n",
    "\n",
    "x_train, x_test, y_train, y_test = train_test_split(x, y, test_size=0.2, random_state=42)\n"
   ]
  },
  {
   "cell_type": "code",
   "execution_count": 9,
   "metadata": {},
   "outputs": [
    {
     "name": "stdout",
     "output_type": "stream",
     "text": [
      "R2 Score on Test Data: 0.5198032324879291\n",
      "Mean Squared Error: 76722386017.33492\n",
      "Root Mean Squared Error: 276988.061145846\n",
      "Mean Absolute Error: 161223.35497227442\n",
      "Mean Absolute percentage Error: 32.42091238281446\n",
      "explained variance 0.5198044915555657\n"
     ]
    }
   ],
   "source": [
    "\n",
    "r2_score_value, mse, rmse, mae, mape, explained_variance = run_svr_and_evaluate(x_train=x_train,x_test=x_test, y_train=y_train,y_test=y_test)\n",
    "print(\"R2 Score on Test Data:\", r2_score_value)\n",
    "print(\"Mean Squared Error:\", mse)\n",
    "print(\"Root Mean Squared Error:\", rmse)\n",
    "print(\"Mean Absolute Error:\", mae)\n",
    "print(\"Mean Absolute percentage Error:\", mape)\n",
    "print(\"explained variance\", explained_variance)\n",
    "\n"
   ]
  },
  {
   "cell_type": "code",
   "execution_count": 10,
   "metadata": {},
   "outputs": [],
   "source": [
    "########################SVR final model text #####################\n",
    "import pandas as pd\n",
    "df = pd.read_csv(r\"C:\\\\Users\\\\JellevanAs\\\\Documents\\\\Studie\\\\Thesis\\\\df-prompt-1.csv\")\n",
    "\n",
    "nan_count = df['ada_embedding_prompt'].isna().sum()\n",
    "\n",
    "df = df.dropna(subset=['ada_embedding_prompt'])\n",
    "\n",
    "# Assuming df is your original DataFrame\n",
    "import pandas as pd\n",
    "import numpy as np\n",
    "from sklearn.model_selection import train_test_split\n",
    "from sklearn.preprocessing import MinMaxScaler\n",
    "from ast import literal_eval\n",
    "\n",
    "df[\"ada_embedding_prompt\"] = df[\"ada_embedding_prompt\"].apply(literal_eval).apply(np.array)\n",
    "\n",
    "x = df[\"ada_embedding_prompt\"]\n",
    "y = df['numerical_price']\n",
    "\n",
    "\n",
    "###### deleting original dataframe for memory purpose ####\n",
    "del df\n",
    "import pandas as pd\n",
    "# Explode the embedding arrays into separate rows\n",
    "x = x.apply(pd.Series)\n",
    "\n",
    "from sklearn.preprocessing import StandardScaler\n",
    "\n",
    "\n",
    "x_train, x_test, y_train, y_test = train_test_split(x, y, test_size=0.2, random_state=42)\n"
   ]
  },
  {
   "cell_type": "code",
   "execution_count": 11,
   "metadata": {},
   "outputs": [
    {
     "name": "stdout",
     "output_type": "stream",
     "text": [
      "R2 Score on Test Data: 0.5120350022723803\n",
      "Mean Squared Error: 75614783963.60709\n",
      "Root Mean Squared Error: 274981.424761032\n",
      "Mean Absolute Error: 162687.2629928006\n",
      "Mean Absolute percentage Error: 32.65291848395212\n",
      "explained variance 0.5121021575240572\n"
     ]
    }
   ],
   "source": [
    "\n",
    "r2_score_value, mse, rmse, mae, mape, explained_variance = run_svr_and_evaluate(x_train=x_train,x_test=x_test, y_train=y_train,y_test=y_test)\n",
    "print(\"R2 Score on Test Data:\", r2_score_value)\n",
    "print(\"Mean Squared Error:\", mse)\n",
    "print(\"Root Mean Squared Error:\", rmse)\n",
    "print(\"Mean Absolute Error:\", mae)\n",
    "print(\"Mean Absolute percentage Error:\", mape)\n",
    "print(\"explained variance\", explained_variance)\n",
    "\n"
   ]
  },
  {
   "cell_type": "code",
   "execution_count": 12,
   "metadata": {},
   "outputs": [],
   "source": [
    "########################SVR final model text #####################\n",
    "import pandas as pd\n",
    "df = pd.read_csv(r\"C:\\\\Users\\\\JellevanAs\\\\Documents\\\\Studie\\\\Thesis\\\\f-string-embedding.csv\")\n",
    "\n",
    "\n",
    "\n",
    "import pandas as pd\n",
    "import numpy as np\n",
    "from sklearn.model_selection import train_test_split\n",
    "from sklearn.preprocessing import MinMaxScaler\n",
    "from ast import literal_eval\n",
    "\n",
    "\n",
    "\n",
    "df[\"f_string_embedding\"] = df[\"f_string_embedding\"].apply(literal_eval).apply(np.array)\n",
    "\n",
    "x = df[\"f_string_embedding\"]\n",
    "y = df['numerical_price']\n",
    "\n",
    "\n",
    "###### deleting original dataframe for memory purpose ####\n",
    "del df\n",
    "import pandas as pd\n",
    "# Explode the embedding arrays into separate rows\n",
    "x = x.apply(pd.Series)\n",
    "\n",
    "from sklearn.preprocessing import StandardScaler\n",
    "\n",
    "\n",
    "x_train, x_test, y_train, y_test = train_test_split(x, y, test_size=0.2, random_state=42)\n",
    "# Then, create and fit your scaler on the training data only"
   ]
  },
  {
   "cell_type": "code",
   "execution_count": 13,
   "metadata": {},
   "outputs": [
    {
     "name": "stdout",
     "output_type": "stream",
     "text": [
      "R2 Score on Test Data: 0.5756013838894167\n",
      "Mean Squared Error: 68290081317.38931\n",
      "Root Mean Squared Error: 261323.70982631735\n",
      "Mean Absolute Error: 150679.35004492753\n",
      "Mean Absolute percentage Error: 30.353450768279306\n",
      "explained variance 0.5756031371020892\n"
     ]
    }
   ],
   "source": [
    "\n",
    "r2_score_value, mse, rmse, mae, mape, explained_variance = run_svr_and_evaluate(x_train=x_train,x_test=x_test, y_train=y_train,y_test=y_test)\n",
    "print(\"R2 Score on Test Data:\", r2_score_value)\n",
    "print(\"Mean Squared Error:\", mse)\n",
    "print(\"Root Mean Squared Error:\", rmse)\n",
    "print(\"Mean Absolute Error:\", mae)\n",
    "print(\"Mean Absolute percentage Error:\", mape)\n",
    "print(\"explained variance\", explained_variance)\n",
    "\n"
   ]
  }
 ],
 "metadata": {
  "kernelspec": {
   "display_name": "Python 3",
   "language": "python",
   "name": "python3"
  },
  "language_info": {
   "codemirror_mode": {
    "name": "ipython",
    "version": 3
   },
   "file_extension": ".py",
   "mimetype": "text/x-python",
   "name": "python",
   "nbconvert_exporter": "python",
   "pygments_lexer": "ipython3",
   "version": "3.9.13"
  }
 },
 "nbformat": 4,
 "nbformat_minor": 2
}
