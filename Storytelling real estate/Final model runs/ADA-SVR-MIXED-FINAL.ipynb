{
 "cells": [
  {
   "cell_type": "code",
   "execution_count": 1,
   "metadata": {},
   "outputs": [
    {
     "data": {
      "text/plain": [
       "['Unnamed: 0',\n",
       " 'numerical_price',\n",
       " 'num_bedrooms',\n",
       " 'num_rooms',\n",
       " 'size_int',\n",
       " 'f_string_embedding',\n",
       " 'building_type_Bestaande bouw',\n",
       " 'building_type_Nieuwbouw',\n",
       " 'building_type_na',\n",
       " 'tag_k.k.',\n",
       " 'tag_v.o.n.',\n",
       " 'house_category_Appartement',\n",
       " 'house_category_Bungalow',\n",
       " 'house_category_Eengezinswoning',\n",
       " 'house_category_Grachtenpand',\n",
       " 'house_category_Herenhuis',\n",
       " 'house_category_Landhuis',\n",
       " 'house_category_Other',\n",
       " 'house_category_Unknown',\n",
       " 'house_category_Villa',\n",
       " 'house_category_Woonboerderij',\n",
       " 'house_category_Woonboot',\n",
       " 'energy_label_encoded',\n",
       " 'size_scaled',\n",
       " 'longitude_scaled',\n",
       " 'latitude_scaled']"
      ]
     },
     "execution_count": 1,
     "metadata": {},
     "output_type": "execute_result"
    }
   ],
   "source": [
    "import pandas as pd\n",
    "\n",
    "df = pd.read_csv(r\"C:\\\\Users\\\\JellevanAs\\\\Documents\\\\Studie\\\\Thesis\\\\df-formatted_cat.csv\")\n",
    "df.columns.tolist()"
   ]
  },
  {
   "cell_type": "code",
   "execution_count": 2,
   "metadata": {},
   "outputs": [
    {
     "data": {
      "text/plain": [
       "['numerical_price',\n",
       " 'num_bedrooms',\n",
       " 'num_rooms',\n",
       " 'f_string_embedding',\n",
       " 'building_type_Bestaande bouw',\n",
       " 'building_type_Nieuwbouw',\n",
       " 'building_type_na',\n",
       " 'tag_k.k.',\n",
       " 'tag_v.o.n.',\n",
       " 'house_category_Appartement',\n",
       " 'house_category_Bungalow',\n",
       " 'house_category_Eengezinswoning',\n",
       " 'house_category_Grachtenpand',\n",
       " 'house_category_Herenhuis',\n",
       " 'house_category_Landhuis',\n",
       " 'house_category_Other',\n",
       " 'house_category_Unknown',\n",
       " 'house_category_Villa',\n",
       " 'house_category_Woonboerderij',\n",
       " 'house_category_Woonboot',\n",
       " 'energy_label_encoded',\n",
       " 'size_scaled',\n",
       " 'longitude_scaled',\n",
       " 'latitude_scaled']"
      ]
     },
     "execution_count": 2,
     "metadata": {},
     "output_type": "execute_result"
    }
   ],
   "source": [
    "\n",
    "df = df.drop(df.columns[0], axis=1)\n",
    "df = df.drop('size_int',axis= 1)\n",
    "df.columns.tolist()"
   ]
  },
  {
   "cell_type": "code",
   "execution_count": 3,
   "metadata": {},
   "outputs": [],
   "source": [
    "import pandas as pd\n",
    "import numpy as np\n",
    "from ast import literal_eval\n",
    "from sklearn.model_selection import train_test_split\n",
    "\n",
    "\n",
    "df[\"f_string_embedding\"] = df[\"f_string_embedding\"].apply(literal_eval).apply(np.array)\n",
    "\n",
    "# Separating the target variable and embeddings\n",
    "x = df[\"f_string_embedding\"]\n",
    "y = df['numerical_price']\n",
    "\n",
    "\n",
    "z = df.drop([\"f_string_embedding\", \"numerical_price\"], axis=1)\n",
    "\n",
    "\n",
    "# Deleting original dataframe for memory purpose\n",
    "del df\n",
    "\n",
    "# Explode the embedding arrays into separate columns\n",
    "x = x.apply(pd.Series)\n",
    "\n",
    "# Concatenating the exploded embeddings with the rest of the data\n",
    "concatenated_df = pd.concat([x, z], axis=1).reset_index(drop=True)\n",
    "concatenated_df.columns = concatenated_df.columns.astype(str)\n",
    "\n",
    "x_train, x_test, y_train, y_test = train_test_split(concatenated_df, y, test_size=0.2, random_state=42)\n"
   ]
  },
  {
   "cell_type": "code",
   "execution_count": 4,
   "metadata": {},
   "outputs": [
    {
     "name": "stderr",
     "output_type": "stream",
     "text": [
      "C:\\Users\\JellevanAs\\AppData\\Local\\Packages\\PythonSoftwareFoundation.Python.3.9_qbz5n2kfra8p0\\LocalCache\\local-packages\\Python39\\site-packages\\sklearn\\svm\\_base.py:1250: ConvergenceWarning: Liblinear failed to converge, increase the number of iterations.\n",
      "  warnings.warn(\n"
     ]
    },
    {
     "name": "stdout",
     "output_type": "stream",
     "text": [
      "R2 Score on Test Data: 0.6720098910888181\n",
      "Mean Squared Error: 52776965707.6538\n",
      "Root Mean Squared Error: 229732.37844860659\n",
      "Mean Absolute Error: 141674.2340696408\n",
      "Mean Absolute percentage Error: 28.99615207652121\n",
      "explained variance 0.6720105822077236\n"
     ]
    }
   ],
   "source": [
    "from sklearn.svm import LinearSVR\n",
    "from sklearn.metrics import mean_squared_error, r2_score, mean_absolute_error, explained_variance_score\n",
    "from sklearn.preprocessing import StandardScaler\n",
    "import numpy as np\n",
    "\n",
    "\n",
    "def run_svr_and_evaluate(x_train,x_test, y_train,y_test ):\n",
    "    # Split data into training and testing sets\n",
    "    \n",
    "\n",
    "    # Initialize SVR with your predefined parameters\n",
    "    clf_svr_opt =  LinearSVR(**linear_svr_params, random_state=0)\n",
    "\n",
    "    # StandardScaler for y\n",
    "    scaler = StandardScaler()\n",
    "\n",
    "    # Scaling \n",
    "    y_train_scaled = scaler.fit_transform(y_train.values.reshape(-1, 1)).ravel()\n",
    "    \n",
    "\n",
    "    # Fitting the model\n",
    "    clf_svr_opt.fit(x_train, y_train_scaled)\n",
    "\n",
    "    # Predicting and inverse transformation for the test set\n",
    "    y_pred_scaled = clf_svr_opt.predict(x_test)\n",
    "    y_pred = scaler.inverse_transform(y_pred_scaled.reshape(-1, 1)).flatten()\n",
    "\n",
    "     # Mean Squared Error\n",
    "    mse = mean_squared_error(y_test, y_pred)\n",
    "    # Root Mean Squared Error\n",
    "    rmse = np.sqrt(mse)\n",
    "    # R-squared Score\n",
    "    r2_score_value = r2_score(y_test, y_pred)\n",
    "    # Mean Absolute Error\n",
    "    mae = mean_absolute_error(y_test, y_pred)\n",
    "    # Mean Absolute Percentage Error\n",
    "    mape = np.mean(np.abs((y_test - y_pred) / y_test)) * 100\n",
    "    # Explained Variance Score\n",
    "    explained_variance = explained_variance_score(y_test, y_pred)\n",
    "\n",
    "\n",
    "    return r2_score_value, mse, rmse, mae, mape, explained_variance\n",
    "\n",
    "\n",
    "linear_svr_params = {'C': 9.82580346607289, 'epsilon': 0.2747116932047959, 'tol': 0.009290961701047389, 'loss': 'squared_epsilon_insensitive', 'dual': True, 'fit_intercept': False, 'intercept_scaling': 8.880260634009302, 'max_iter': 5975}\n",
    "\n",
    "r2_score_value, mse, rmse, mae, mape, explained_variance = run_svr_and_evaluate(x_train=x_train,x_test=x_test, y_train=y_train,y_test=y_test)\n",
    "print(\"R2 Score on Test Data:\", r2_score_value)\n",
    "print(\"Mean Squared Error:\", mse)\n",
    "print(\"Root Mean Squared Error:\", rmse)\n",
    "print(\"Mean Absolute Error:\", mae)\n",
    "print(\"Mean Absolute percentage Error:\", mape)\n",
    "print(\"explained variance\", explained_variance)"
   ]
  },
  {
   "cell_type": "code",
   "execution_count": 5,
   "metadata": {},
   "outputs": [
    {
     "data": {
      "text/plain": [
       "['Unnamed: 0',\n",
       " 'ada_embedding_eng',\n",
       " 'numerical_price',\n",
       " 'num_bedrooms',\n",
       " 'num_rooms',\n",
       " 'building_type_Bestaande bouw',\n",
       " 'building_type_Nieuwbouw',\n",
       " 'building_type_na',\n",
       " 'tag_k.k.',\n",
       " 'tag_v.o.n.',\n",
       " 'house_category_Appartement',\n",
       " 'house_category_Bungalow',\n",
       " 'house_category_Eengezinswoning',\n",
       " 'house_category_Grachtenpand',\n",
       " 'house_category_Herenhuis',\n",
       " 'house_category_Landhuis',\n",
       " 'house_category_Other',\n",
       " 'house_category_Unknown',\n",
       " 'house_category_Villa',\n",
       " 'house_category_Woonboerderij',\n",
       " 'house_category_Woonboot',\n",
       " 'energy_label_encoded',\n",
       " 'size_scaled',\n",
       " 'longitude_scaled',\n",
       " 'latitude_scaled']"
      ]
     },
     "execution_count": 5,
     "metadata": {},
     "output_type": "execute_result"
    }
   ],
   "source": [
    "import pandas as pd\n",
    "\n",
    "df = pd.read_csv(r\"C:\\\\Users\\\\JellevanAs\\\\Documents\\\\Studie\\\\Thesis\\\\df-englisch_cat.csv\")\n",
    "\n",
    "df.columns.tolist()"
   ]
  },
  {
   "cell_type": "code",
   "execution_count": 6,
   "metadata": {},
   "outputs": [
    {
     "data": {
      "text/plain": [
       "['ada_embedding_eng',\n",
       " 'numerical_price',\n",
       " 'num_bedrooms',\n",
       " 'num_rooms',\n",
       " 'building_type_Bestaande bouw',\n",
       " 'building_type_Nieuwbouw',\n",
       " 'building_type_na',\n",
       " 'tag_k.k.',\n",
       " 'tag_v.o.n.',\n",
       " 'house_category_Appartement',\n",
       " 'house_category_Bungalow',\n",
       " 'house_category_Eengezinswoning',\n",
       " 'house_category_Grachtenpand',\n",
       " 'house_category_Herenhuis',\n",
       " 'house_category_Landhuis',\n",
       " 'house_category_Other',\n",
       " 'house_category_Unknown',\n",
       " 'house_category_Villa',\n",
       " 'house_category_Woonboerderij',\n",
       " 'house_category_Woonboot',\n",
       " 'energy_label_encoded',\n",
       " 'size_scaled',\n",
       " 'longitude_scaled',\n",
       " 'latitude_scaled']"
      ]
     },
     "execution_count": 6,
     "metadata": {},
     "output_type": "execute_result"
    }
   ],
   "source": [
    "\n",
    "df = df.drop(df.columns[0], axis=1)\n",
    "df.columns.tolist()"
   ]
  },
  {
   "cell_type": "code",
   "execution_count": 7,
   "metadata": {},
   "outputs": [],
   "source": [
    "import pandas as pd\n",
    "import numpy as np\n",
    "from ast import literal_eval\n",
    "from sklearn.model_selection import train_test_split\n",
    "\n",
    "\n",
    "df[\"ada_embedding_eng\"] = df[\"ada_embedding_eng\"].apply(literal_eval).apply(np.array)\n",
    "\n",
    "\n",
    "x = df[\"ada_embedding_eng\"]\n",
    "y = df['numerical_price']\n",
    "\n",
    "# Dropping the 'ada_embedding_eng' column from df\n",
    "z = df.drop([\"ada_embedding_eng\", \"numerical_price\"], axis=1)\n",
    "\n",
    "\n",
    "# Deleting original dataframe for memory purpose\n",
    "del df\n",
    "\n",
    "# Explode the embedding arrays into separate columns\n",
    "x = x.apply(pd.Series)\n",
    "\n",
    "# Concatenating the exploded embeddings with the rest of the data\n",
    "concatenated_df = pd.concat([x, z], axis=1).reset_index(drop=True)\n",
    "concatenated_df.columns = concatenated_df.columns.astype(str)\n",
    "\n",
    "x_train, x_test, y_train, y_test = train_test_split(concatenated_df, y, test_size=0.2, random_state=42)\n"
   ]
  },
  {
   "cell_type": "code",
   "execution_count": 8,
   "metadata": {},
   "outputs": [
    {
     "name": "stderr",
     "output_type": "stream",
     "text": [
      "C:\\Users\\JellevanAs\\AppData\\Local\\Packages\\PythonSoftwareFoundation.Python.3.9_qbz5n2kfra8p0\\LocalCache\\local-packages\\Python39\\site-packages\\sklearn\\svm\\_base.py:1250: ConvergenceWarning: Liblinear failed to converge, increase the number of iterations.\n",
      "  warnings.warn(\n"
     ]
    },
    {
     "name": "stdout",
     "output_type": "stream",
     "text": [
      "R2 Score on Test Data: 0.663099497063985\n",
      "Mean Squared Error: 54210739309.70364\n",
      "Root Mean Squared Error: 232831.99803657495\n",
      "Mean Absolute Error: 144676.9944798394\n",
      "Mean Absolute percentage Error: 29.449080237734577\n",
      "explained variance 0.6633467155552415\n"
     ]
    }
   ],
   "source": [
    "from sklearn.svm import LinearSVR\n",
    "from sklearn.metrics import mean_squared_error, r2_score\n",
    "from sklearn.preprocessing import StandardScaler\n",
    "import numpy as np\n",
    "\n",
    "\n",
    "def run_svr_and_evaluate(x_train,x_test, y_train,y_test ):\n",
    "    # Split data into training and testing sets\n",
    "    \n",
    "\n",
    "    # Initialize SVR with your predefined parameters\n",
    "    clf_svr_opt =  LinearSVR(**linear_svr_params, random_state=0)\n",
    "\n",
    "    # StandardScaler for y\n",
    "    scaler = StandardScaler()\n",
    "\n",
    "    # Scaling \n",
    "    y_train_scaled = scaler.fit_transform(y_train.values.reshape(-1, 1)).ravel()\n",
    "    \n",
    "\n",
    "    # Fitting the model\n",
    "    clf_svr_opt.fit(x_train, y_train_scaled)\n",
    "\n",
    "    # Predicting and inverse transformation for the test set\n",
    "    y_pred_scaled = clf_svr_opt.predict(x_test)\n",
    "    y_pred = scaler.inverse_transform(y_pred_scaled.reshape(-1, 1)).flatten()\n",
    "\n",
    "     # Mean Squared Error\n",
    "    mse = mean_squared_error(y_test, y_pred)\n",
    "    # Root Mean Squared Error\n",
    "    rmse = np.sqrt(mse)\n",
    "    # R-squared Score\n",
    "    r2_score_value = r2_score(y_test, y_pred)\n",
    "    # Mean Absolute Error\n",
    "    mae = mean_absolute_error(y_test, y_pred)\n",
    "    # Mean Absolute Percentage Error\n",
    "    mape = np.mean(np.abs((y_test - y_pred) / y_test)) * 100\n",
    "    # Explained Variance Score\n",
    "    explained_variance = explained_variance_score(y_test, y_pred)\n",
    "\n",
    "\n",
    "    return r2_score_value, mse, rmse, mae, mape, explained_variance\n",
    "\n",
    "\n",
    "linear_svr_params = {'C': 9.82580346607289, 'epsilon': 0.2747116932047959, 'tol': 0.009290961701047389, 'loss': 'squared_epsilon_insensitive', 'dual': True, 'fit_intercept': False, 'intercept_scaling': 8.880260634009302, 'max_iter': 5975}\n",
    "\n",
    "r2_score_value, mse, rmse, mae, mape, explained_variance = run_svr_and_evaluate(x_train=x_train,x_test=x_test, y_train=y_train,y_test=y_test)\n",
    "print(\"R2 Score on Test Data:\", r2_score_value)\n",
    "print(\"Mean Squared Error:\", mse)\n",
    "print(\"Root Mean Squared Error:\", rmse)\n",
    "print(\"Mean Absolute Error:\", mae)\n",
    "print(\"Mean Absolute percentage Error:\", mape)\n",
    "print(\"explained variance\", explained_variance)"
   ]
  },
  {
   "cell_type": "code",
   "execution_count": 9,
   "metadata": {},
   "outputs": [
    {
     "data": {
      "text/plain": [
       "['Unnamed: 0',\n",
       " 'ada_embedding',\n",
       " 'descrip_en',\n",
       " 'numerical_price',\n",
       " 'num_bedrooms',\n",
       " 'num_rooms',\n",
       " 'building_type_Bestaande bouw',\n",
       " 'building_type_Nieuwbouw',\n",
       " 'building_type_na',\n",
       " 'tag_k.k.',\n",
       " 'tag_v.o.n.',\n",
       " 'house_category_Appartement',\n",
       " 'house_category_Bungalow',\n",
       " 'house_category_Eengezinswoning',\n",
       " 'house_category_Grachtenpand',\n",
       " 'house_category_Herenhuis',\n",
       " 'house_category_Landhuis',\n",
       " 'house_category_Other',\n",
       " 'house_category_Unknown',\n",
       " 'house_category_Villa',\n",
       " 'house_category_Woonboerderij',\n",
       " 'house_category_Woonboot',\n",
       " 'energy_label_encoded',\n",
       " 'size_scaled',\n",
       " 'longitude_scaled',\n",
       " 'latitude_scaled']"
      ]
     },
     "execution_count": 9,
     "metadata": {},
     "output_type": "execute_result"
    }
   ],
   "source": [
    "import pandas as pd\n",
    "\n",
    "df = pd.read_csv(r\"C:\\\\Users\\\\JellevanAs\\\\Documents\\\\Studie\\\\Thesis\\\\df-dutch_cat.csv\")\n",
    "\n",
    "df.columns.tolist()"
   ]
  },
  {
   "cell_type": "code",
   "execution_count": 10,
   "metadata": {},
   "outputs": [
    {
     "data": {
      "text/plain": [
       "['ada_embedding',\n",
       " 'numerical_price',\n",
       " 'num_bedrooms',\n",
       " 'num_rooms',\n",
       " 'building_type_Bestaande bouw',\n",
       " 'building_type_Nieuwbouw',\n",
       " 'building_type_na',\n",
       " 'tag_k.k.',\n",
       " 'tag_v.o.n.',\n",
       " 'house_category_Appartement',\n",
       " 'house_category_Bungalow',\n",
       " 'house_category_Eengezinswoning',\n",
       " 'house_category_Grachtenpand',\n",
       " 'house_category_Herenhuis',\n",
       " 'house_category_Landhuis',\n",
       " 'house_category_Other',\n",
       " 'house_category_Unknown',\n",
       " 'house_category_Villa',\n",
       " 'house_category_Woonboerderij',\n",
       " 'house_category_Woonboot',\n",
       " 'energy_label_encoded',\n",
       " 'size_scaled',\n",
       " 'longitude_scaled',\n",
       " 'latitude_scaled']"
      ]
     },
     "execution_count": 10,
     "metadata": {},
     "output_type": "execute_result"
    }
   ],
   "source": [
    "\n",
    "df = df.drop(df.columns[0], axis=1)\n",
    "df = df.drop('descrip_en',axis= 1)\n",
    "df.columns.tolist()"
   ]
  },
  {
   "cell_type": "code",
   "execution_count": 11,
   "metadata": {},
   "outputs": [],
   "source": [
    "import pandas as pd\n",
    "import numpy as np\n",
    "from ast import literal_eval\n",
    "from sklearn.model_selection import train_test_split\n",
    "\n",
    "\n",
    "df[\"ada_embedding\"] = df[\"ada_embedding\"].apply(literal_eval).apply(np.array)\n",
    "\n",
    "\n",
    "x = df[\"ada_embedding\"]\n",
    "y = df['numerical_price']\n",
    "\n",
    "\n",
    "z = df.drop([\"ada_embedding\", \"numerical_price\"], axis=1)\n",
    "\n",
    "\n",
    "\n",
    "del df\n",
    "\n",
    "\n",
    "x = x.apply(pd.Series)\n",
    "\n",
    "\n",
    "concatenated_df = pd.concat([x, z], axis=1).reset_index(drop=True)\n",
    "concatenated_df.columns = concatenated_df.columns.astype(str)\n",
    "\n",
    "x_train, x_test, y_train, y_test = train_test_split(concatenated_df, y, test_size=0.2, random_state=42)\n"
   ]
  },
  {
   "cell_type": "code",
   "execution_count": 12,
   "metadata": {},
   "outputs": [
    {
     "name": "stderr",
     "output_type": "stream",
     "text": [
      "C:\\Users\\JellevanAs\\AppData\\Local\\Packages\\PythonSoftwareFoundation.Python.3.9_qbz5n2kfra8p0\\LocalCache\\local-packages\\Python39\\site-packages\\sklearn\\svm\\_base.py:1250: ConvergenceWarning: Liblinear failed to converge, increase the number of iterations.\n",
      "  warnings.warn(\n"
     ]
    },
    {
     "name": "stdout",
     "output_type": "stream",
     "text": [
      "R2 Score on Test Data: 0.6620775986240386\n",
      "Mean Squared Error: 54375173228.46051\n",
      "Root Mean Squared Error: 233184.84776773234\n",
      "Mean Absolute Error: 145015.0048587473\n",
      "Mean Absolute percentage Error: 29.54914515144893\n",
      "explained variance 0.6624338783625572\n"
     ]
    }
   ],
   "source": [
    "from sklearn.svm import LinearSVR\n",
    "from sklearn.metrics import mean_squared_error, r2_score\n",
    "from sklearn.preprocessing import StandardScaler\n",
    "import numpy as np\n",
    "\n",
    "\n",
    "def run_svr_and_evaluate(x_train,x_test, y_train,y_test ):\n",
    "    # Split data into training and testing sets\n",
    "    \n",
    "\n",
    "    # Initialize SVR with your predefined parameters\n",
    "    clf_svr_opt =  LinearSVR(**linear_svr_params, random_state=0)\n",
    "\n",
    "    # StandardScaler for y\n",
    "    scaler = StandardScaler()\n",
    "\n",
    "    # Scaling \n",
    "    y_train_scaled = scaler.fit_transform(y_train.values.reshape(-1, 1)).ravel()\n",
    "    \n",
    "\n",
    "    # Fitting the model\n",
    "    clf_svr_opt.fit(x_train, y_train_scaled)\n",
    "\n",
    "    # Predicting and inverse transformation for the test set\n",
    "    y_pred_scaled = clf_svr_opt.predict(x_test)\n",
    "    y_pred = scaler.inverse_transform(y_pred_scaled.reshape(-1, 1)).flatten()\n",
    "\n",
    "     # Mean Squared Error\n",
    "    mse = mean_squared_error(y_test, y_pred)\n",
    "    # Root Mean Squared Error\n",
    "    rmse = np.sqrt(mse)\n",
    "    # R-squared Score\n",
    "    r2_score_value = r2_score(y_test, y_pred)\n",
    "    # Mean Absolute Error\n",
    "    mae = mean_absolute_error(y_test, y_pred)\n",
    "    # Mean Absolute Percentage Error\n",
    "    mape = np.mean(np.abs((y_test - y_pred) / y_test)) * 100\n",
    "    # Explained Variance Score\n",
    "    explained_variance = explained_variance_score(y_test, y_pred)\n",
    "\n",
    "\n",
    "    return r2_score_value, mse, rmse, mae, mape, explained_variance\n",
    "\n",
    "\n",
    "linear_svr_params = {'C': 9.82580346607289, 'epsilon': 0.2747116932047959, 'tol': 0.009290961701047389, 'loss': 'squared_epsilon_insensitive', 'dual': True, 'fit_intercept': False, 'intercept_scaling': 8.880260634009302, 'max_iter': 5975}\n",
    "\n",
    "r2_score_value, mse, rmse, mae, mape, explained_variance = run_svr_and_evaluate(x_train=x_train,x_test=x_test, y_train=y_train,y_test=y_test)\n",
    "print(\"R2 Score on Test Data:\", r2_score_value)\n",
    "print(\"Mean Squared Error:\", mse)\n",
    "print(\"Root Mean Squared Error:\", rmse)\n",
    "print(\"Mean Absolute Error:\", mae)\n",
    "print(\"Mean Absolute percentage Error:\", mape)\n",
    "print(\"explained variance\", explained_variance)"
   ]
  },
  {
   "cell_type": "code",
   "execution_count": 13,
   "metadata": {},
   "outputs": [
    {
     "data": {
      "text/plain": [
       "['Unnamed: 0',\n",
       " 'numerical_price',\n",
       " 'ada_embedding_prompt',\n",
       " 'num_bedrooms',\n",
       " 'num_rooms',\n",
       " 'building_type_Bestaande bouw',\n",
       " 'building_type_Nieuwbouw',\n",
       " 'building_type_na',\n",
       " 'tag_k.k.',\n",
       " 'tag_v.o.n.',\n",
       " 'house_category_Appartement',\n",
       " 'house_category_Bungalow',\n",
       " 'house_category_Eengezinswoning',\n",
       " 'house_category_Grachtenpand',\n",
       " 'house_category_Herenhuis',\n",
       " 'house_category_Landhuis',\n",
       " 'house_category_Other',\n",
       " 'house_category_Unknown',\n",
       " 'house_category_Villa',\n",
       " 'house_category_Woonboerderij',\n",
       " 'house_category_Woonboot',\n",
       " 'energy_label_encoded',\n",
       " 'size_scaled',\n",
       " 'longitude_scaled',\n",
       " 'latitude_scaled']"
      ]
     },
     "execution_count": 13,
     "metadata": {},
     "output_type": "execute_result"
    }
   ],
   "source": [
    "import pandas as pd\n",
    "\n",
    "df = pd.read_csv(r\"C:\\\\Users\\\\JellevanAs\\\\Documents\\\\Studie\\\\Thesis\\\\df-prompt_cat.csv\")\n",
    "\n",
    "df.columns.tolist()"
   ]
  },
  {
   "cell_type": "code",
   "execution_count": 14,
   "metadata": {},
   "outputs": [
    {
     "data": {
      "text/plain": [
       "['numerical_price',\n",
       " 'ada_embedding_prompt',\n",
       " 'num_bedrooms',\n",
       " 'num_rooms',\n",
       " 'building_type_Bestaande bouw',\n",
       " 'building_type_Nieuwbouw',\n",
       " 'building_type_na',\n",
       " 'tag_k.k.',\n",
       " 'tag_v.o.n.',\n",
       " 'house_category_Appartement',\n",
       " 'house_category_Bungalow',\n",
       " 'house_category_Eengezinswoning',\n",
       " 'house_category_Grachtenpand',\n",
       " 'house_category_Herenhuis',\n",
       " 'house_category_Landhuis',\n",
       " 'house_category_Other',\n",
       " 'house_category_Unknown',\n",
       " 'house_category_Villa',\n",
       " 'house_category_Woonboerderij',\n",
       " 'house_category_Woonboot',\n",
       " 'energy_label_encoded',\n",
       " 'size_scaled',\n",
       " 'longitude_scaled',\n",
       " 'latitude_scaled']"
      ]
     },
     "execution_count": 14,
     "metadata": {},
     "output_type": "execute_result"
    }
   ],
   "source": [
    "\n",
    "df = df.drop(df.columns[0], axis=1)\n",
    "df.columns.tolist()"
   ]
  },
  {
   "cell_type": "code",
   "execution_count": 15,
   "metadata": {},
   "outputs": [],
   "source": [
    "import pandas as pd\n",
    "import numpy as np\n",
    "from ast import literal_eval\n",
    "from sklearn.model_selection import train_test_split\n",
    "\n",
    "\n",
    "df[\"ada_embedding_prompt\"] = df[\"ada_embedding_prompt\"].apply(literal_eval).apply(np.array)\n",
    "\n",
    "# Separating the target variable and embeddings\n",
    "x = df[\"ada_embedding_prompt\"]\n",
    "y = df['numerical_price']\n",
    "\n",
    "\n",
    "z = df.drop([\"ada_embedding_prompt\", \"numerical_price\"], axis=1)\n",
    "\n",
    "\n",
    "del df\n",
    "\n",
    "x = x.apply(pd.Series)\n",
    "\n",
    "concatenated_df = pd.concat([x, z], axis=1).reset_index(drop=True)\n",
    "concatenated_df.columns = concatenated_df.columns.astype(str)\n",
    "\n",
    "x_train, x_test, y_train, y_test = train_test_split(concatenated_df, y, test_size=0.2, random_state=42)\n"
   ]
  },
  {
   "cell_type": "code",
   "execution_count": 16,
   "metadata": {},
   "outputs": [
    {
     "name": "stderr",
     "output_type": "stream",
     "text": [
      "C:\\Users\\JellevanAs\\AppData\\Local\\Packages\\PythonSoftwareFoundation.Python.3.9_qbz5n2kfra8p0\\LocalCache\\local-packages\\Python39\\site-packages\\sklearn\\svm\\_base.py:1250: ConvergenceWarning: Liblinear failed to converge, increase the number of iterations.\n",
      "  warnings.warn(\n"
     ]
    },
    {
     "name": "stdout",
     "output_type": "stream",
     "text": [
      "R2 Score on Test Data: 0.6626175641459748\n",
      "Mean Squared Error: 50045114106.00383\n",
      "Root Mean Squared Error: 223707.65321285688\n",
      "Mean Absolute Error: 141599.0868066761\n",
      "Mean Absolute percentage Error: 29.08689986722701\n",
      "explained variance 0.6628736725196603\n"
     ]
    }
   ],
   "source": [
    "from sklearn.svm import LinearSVR\n",
    "from sklearn.metrics import mean_squared_error, r2_score\n",
    "from sklearn.preprocessing import StandardScaler\n",
    "import numpy as np\n",
    "\n",
    "\n",
    "def run_svr_and_evaluate(x_train,x_test, y_train,y_test ):\n",
    "    # Split data into training and testing sets\n",
    "    \n",
    "\n",
    "    # Initialize SVR with your predefined parameters\n",
    "    clf_svr_opt =  LinearSVR(**linear_svr_params, random_state=0)\n",
    "\n",
    "    # StandardScaler for y\n",
    "    scaler = StandardScaler()\n",
    "\n",
    "    # Scaling \n",
    "    y_train_scaled = scaler.fit_transform(y_train.values.reshape(-1, 1)).ravel()\n",
    "    \n",
    "\n",
    "    # Fitting the model\n",
    "    clf_svr_opt.fit(x_train, y_train_scaled)\n",
    "\n",
    "    # Predicting and inverse transformation for the test set\n",
    "    y_pred_scaled = clf_svr_opt.predict(x_test)\n",
    "    y_pred = scaler.inverse_transform(y_pred_scaled.reshape(-1, 1)).flatten()\n",
    "     # Mean Squared Error\n",
    "    mse = mean_squared_error(y_test, y_pred)\n",
    "    # Root Mean Squared Error\n",
    "    rmse = np.sqrt(mse)\n",
    "    # R-squared Score\n",
    "    r2_score_value = r2_score(y_test, y_pred)\n",
    "    # Mean Absolute Error\n",
    "    mae = mean_absolute_error(y_test, y_pred)\n",
    "    # Mean Absolute Percentage Error\n",
    "    mape = np.mean(np.abs((y_test - y_pred) / y_test)) * 100\n",
    "    # Explained Variance Score\n",
    "    explained_variance = explained_variance_score(y_test, y_pred)\n",
    "\n",
    "\n",
    "    return r2_score_value, mse, rmse, mae, mape, explained_variance\n",
    "\n",
    "\n",
    "linear_svr_params = {'C': 9.82580346607289, 'epsilon': 0.2747116932047959, 'tol': 0.009290961701047389, 'loss': 'squared_epsilon_insensitive', 'dual': True, 'fit_intercept': False, 'intercept_scaling': 8.880260634009302, 'max_iter': 5975}\n",
    "\n",
    "r2_score_value, mse, rmse, mae, mape, explained_variance = run_svr_and_evaluate(x_train=x_train,x_test=x_test, y_train=y_train,y_test=y_test)\n",
    "print(\"R2 Score on Test Data:\", r2_score_value)\n",
    "print(\"Mean Squared Error:\", mse)\n",
    "print(\"Root Mean Squared Error:\", rmse)\n",
    "print(\"Mean Absolute Error:\", mae)\n",
    "print(\"Mean Absolute percentage Error:\", mape)\n",
    "print(\"explained variance\", explained_variance)\n"
   ]
  },
  {
   "cell_type": "code",
   "execution_count": 17,
   "metadata": {},
   "outputs": [
    {
     "data": {
      "text/plain": [
       "['Unnamed: 0',\n",
       " 'numerical_price',\n",
       " 'description_en_anti_prompt_embedding',\n",
       " 'num_bedrooms',\n",
       " 'num_rooms',\n",
       " 'building_type_Bestaande bouw',\n",
       " 'building_type_Nieuwbouw',\n",
       " 'building_type_na',\n",
       " 'tag_k.k.',\n",
       " 'tag_v.o.n.',\n",
       " 'house_category_Appartement',\n",
       " 'house_category_Bungalow',\n",
       " 'house_category_Eengezinswoning',\n",
       " 'house_category_Grachtenpand',\n",
       " 'house_category_Herenhuis',\n",
       " 'house_category_Landhuis',\n",
       " 'house_category_Other',\n",
       " 'house_category_Unknown',\n",
       " 'house_category_Villa',\n",
       " 'house_category_Woonboerderij',\n",
       " 'house_category_Woonboot',\n",
       " 'energy_label_encoded',\n",
       " 'size_scaled',\n",
       " 'longitude_scaled',\n",
       " 'latitude_scaled']"
      ]
     },
     "execution_count": 17,
     "metadata": {},
     "output_type": "execute_result"
    }
   ],
   "source": [
    "import pandas as pd\n",
    "\n",
    "df = pd.read_csv(r\"C:\\\\Users\\\\JellevanAs\\\\Documents\\\\Studie\\\\Thesis\\\\df-anti_cat.csv\")\n",
    "\n",
    "df.columns.tolist()"
   ]
  },
  {
   "cell_type": "code",
   "execution_count": 18,
   "metadata": {},
   "outputs": [
    {
     "data": {
      "text/plain": [
       "['numerical_price',\n",
       " 'description_en_anti_prompt_embedding',\n",
       " 'num_bedrooms',\n",
       " 'num_rooms',\n",
       " 'building_type_Bestaande bouw',\n",
       " 'building_type_Nieuwbouw',\n",
       " 'building_type_na',\n",
       " 'tag_k.k.',\n",
       " 'tag_v.o.n.',\n",
       " 'house_category_Appartement',\n",
       " 'house_category_Bungalow',\n",
       " 'house_category_Eengezinswoning',\n",
       " 'house_category_Grachtenpand',\n",
       " 'house_category_Herenhuis',\n",
       " 'house_category_Landhuis',\n",
       " 'house_category_Other',\n",
       " 'house_category_Unknown',\n",
       " 'house_category_Villa',\n",
       " 'house_category_Woonboerderij',\n",
       " 'house_category_Woonboot',\n",
       " 'energy_label_encoded',\n",
       " 'size_scaled',\n",
       " 'longitude_scaled',\n",
       " 'latitude_scaled']"
      ]
     },
     "execution_count": 18,
     "metadata": {},
     "output_type": "execute_result"
    }
   ],
   "source": [
    "\n",
    "df = df.drop(df.columns[0], axis=1)\n",
    "df.columns.tolist()"
   ]
  },
  {
   "cell_type": "code",
   "execution_count": 19,
   "metadata": {},
   "outputs": [],
   "source": [
    "import pandas as pd\n",
    "import numpy as np\n",
    "from ast import literal_eval\n",
    "from sklearn.model_selection import train_test_split\n",
    "\n",
    "\n",
    "df[\"description_en_anti_prompt_embedding\"] = df[\"description_en_anti_prompt_embedding\"].apply(literal_eval).apply(np.array)\n",
    "\n",
    "\n",
    "x = df[\"description_en_anti_prompt_embedding\"]\n",
    "y = df['numerical_price']\n",
    "\n",
    "z = df.drop([\"description_en_anti_prompt_embedding\", \"numerical_price\"], axis=1)\n",
    "\n",
    "\n",
    "del df\n",
    "\n",
    "\n",
    "x = x.apply(pd.Series)\n",
    "\n",
    "\n",
    "concatenated_df = pd.concat([x, z], axis=1).reset_index(drop=True)\n",
    "concatenated_df.columns = concatenated_df.columns.astype(str)\n",
    "\n",
    "x_train, x_test, y_train, y_test = train_test_split(concatenated_df, y, test_size=0.2, random_state=42)\n"
   ]
  },
  {
   "cell_type": "code",
   "execution_count": 20,
   "metadata": {},
   "outputs": [
    {
     "name": "stderr",
     "output_type": "stream",
     "text": [
      "C:\\Users\\JellevanAs\\AppData\\Local\\Packages\\PythonSoftwareFoundation.Python.3.9_qbz5n2kfra8p0\\LocalCache\\local-packages\\Python39\\site-packages\\sklearn\\svm\\_base.py:1250: ConvergenceWarning: Liblinear failed to converge, increase the number of iterations.\n",
      "  warnings.warn(\n"
     ]
    },
    {
     "name": "stdout",
     "output_type": "stream",
     "text": [
      "R2 Score on Test Data: 0.6639297007407294\n",
      "Mean Squared Error: 54077151040.46172\n",
      "Root Mean Squared Error: 232544.94413007936\n",
      "Mean Absolute Error: 144499.254172955\n",
      "Mean Absolute percentage Error: 29.427741739763697\n",
      "explained variance 0.6639353822071379\n"
     ]
    }
   ],
   "source": [
    "from sklearn.svm import LinearSVR\n",
    "from sklearn.metrics import mean_squared_error, r2_score, mean_absolute_error, explained_variance_score\n",
    "from sklearn.preprocessing import StandardScaler\n",
    "import numpy as np\n",
    "\n",
    "\n",
    "def run_svr_and_evaluate(x_train,x_test, y_train,y_test ):\n",
    "    # Split data into training and testing sets\n",
    "    \n",
    "\n",
    "    # Initialize SVR with your predefined parameters\n",
    "    clf_svr_opt =  LinearSVR(**linear_svr_params, random_state=0)\n",
    "\n",
    "    # StandardScaler for y\n",
    "    scaler = StandardScaler()\n",
    "\n",
    "    # Scaling \n",
    "    y_train_scaled = scaler.fit_transform(y_train.values.reshape(-1, 1)).ravel()\n",
    "    \n",
    "\n",
    "    # Fitting the model\n",
    "    clf_svr_opt.fit(x_train, y_train_scaled)\n",
    "\n",
    "    # Predicting and inverse transformation for the test set\n",
    "    y_pred_scaled = clf_svr_opt.predict(x_test)\n",
    "    y_pred = scaler.inverse_transform(y_pred_scaled.reshape(-1, 1)).flatten()\n",
    "\n",
    "     # Mean Squared Error\n",
    "    mse = mean_squared_error(y_test, y_pred)\n",
    "    # Root Mean Squared Error\n",
    "    rmse = np.sqrt(mse)\n",
    "    # R-squared Score\n",
    "    r2_score_value = r2_score(y_test, y_pred)\n",
    "    # Mean Absolute Error\n",
    "    mae = mean_absolute_error(y_test, y_pred)\n",
    "    # Mean Absolute Percentage Error\n",
    "    mape = np.mean(np.abs((y_test - y_pred) / y_test)) * 100\n",
    "    # Explained Variance Score\n",
    "    explained_variance = explained_variance_score(y_test, y_pred)\n",
    "\n",
    "\n",
    "    return r2_score_value, mse, rmse, mae, mape, explained_variance\n",
    "\n",
    "\n",
    "linear_svr_params = {'C': 9.82580346607289, 'epsilon': 0.2747116932047959, 'tol': 0.009290961701047389, 'loss': 'squared_epsilon_insensitive', 'dual': True, 'fit_intercept': False, 'intercept_scaling': 8.880260634009302, 'max_iter': 5975}\n",
    "\n",
    "r2_score_value, mse, rmse, mae, mape, explained_variance = run_svr_and_evaluate(x_train=x_train,x_test=x_test, y_train=y_train,y_test=y_test)\n",
    "print(\"R2 Score on Test Data:\", r2_score_value)\n",
    "print(\"Mean Squared Error:\", mse)\n",
    "print(\"Root Mean Squared Error:\", rmse)\n",
    "print(\"Mean Absolute Error:\", mae)\n",
    "print(\"Mean Absolute percentage Error:\", mape)\n",
    "print(\"explained variance\", explained_variance)\n"
   ]
  }
 ],
 "metadata": {
  "kernelspec": {
   "display_name": "Python 3",
   "language": "python",
   "name": "python3"
  },
  "language_info": {
   "codemirror_mode": {
    "name": "ipython",
    "version": 3
   },
   "file_extension": ".py",
   "mimetype": "text/x-python",
   "name": "python",
   "nbconvert_exporter": "python",
   "pygments_lexer": "ipython3",
   "version": "3.9.13"
  }
 },
 "nbformat": 4,
 "nbformat_minor": 2
}
