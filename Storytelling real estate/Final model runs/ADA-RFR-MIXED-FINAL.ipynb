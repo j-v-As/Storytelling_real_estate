{
 "cells": [
  {
   "cell_type": "code",
   "execution_count": 1,
   "metadata": {},
   "outputs": [],
   "source": [
    "#### RFR Final fits MIXED\n",
    "\n",
    "import pandas as pd\n",
    "df = pd.read_csv(r\"C:\\\\Users\\\\JellevanAs\\\\Documents\\\\Studie\\\\Thesis\\\\df-englisch_cat.csv\")"
   ]
  },
  {
   "cell_type": "code",
   "execution_count": 2,
   "metadata": {},
   "outputs": [
    {
     "data": {
      "text/plain": [
       "['ada_embedding_eng',\n",
       " 'numerical_price',\n",
       " 'num_bedrooms',\n",
       " 'num_rooms',\n",
       " 'building_type_Bestaande bouw',\n",
       " 'building_type_Nieuwbouw',\n",
       " 'building_type_na',\n",
       " 'tag_k.k.',\n",
       " 'tag_v.o.n.',\n",
       " 'house_category_Appartement',\n",
       " 'house_category_Bungalow',\n",
       " 'house_category_Eengezinswoning',\n",
       " 'house_category_Grachtenpand',\n",
       " 'house_category_Herenhuis',\n",
       " 'house_category_Landhuis',\n",
       " 'house_category_Other',\n",
       " 'house_category_Unknown',\n",
       " 'house_category_Villa',\n",
       " 'house_category_Woonboerderij',\n",
       " 'house_category_Woonboot',\n",
       " 'energy_label_encoded',\n",
       " 'size_scaled',\n",
       " 'longitude_scaled',\n",
       " 'latitude_scaled']"
      ]
     },
     "execution_count": 2,
     "metadata": {},
     "output_type": "execute_result"
    }
   ],
   "source": [
    "\n",
    "df = df.drop(df.columns[0], axis=1)\n",
    "df.columns.tolist()"
   ]
  },
  {
   "cell_type": "code",
   "execution_count": 3,
   "metadata": {},
   "outputs": [],
   "source": [
    "import pandas as pd\n",
    "import numpy as np\n",
    "from ast import literal_eval\n",
    "\n",
    "\n",
    "\n",
    "\n",
    "df[\"ada_embedding_eng\"] = df[\"ada_embedding_eng\"].apply(literal_eval).apply(np.array)\n",
    "\n",
    "# Separating the target variable and embeddings\n",
    "x = df[\"ada_embedding_eng\"]\n",
    "y = df['numerical_price']\n",
    "\n",
    "# Dropping the 'ada_embedding_eng' column from df\n",
    "z = df.drop([\"ada_embedding_eng\", \"numerical_price\"], axis=1)\n",
    "\n",
    "\n",
    "# Deleting original dataframe for memory purpose\n",
    "del df\n",
    "\n",
    "# Explode the embedding arrays into separate columns\n",
    "x = x.apply(pd.Series)\n",
    "\n",
    "# Concatenating the exploded embeddings with the rest of the data\n",
    "concatenated_df = pd.concat([x, z], axis=1).reset_index(drop=True)"
   ]
  },
  {
   "cell_type": "code",
   "execution_count": 4,
   "metadata": {},
   "outputs": [],
   "source": [
    "concatenated_df.columns = concatenated_df.columns.astype(str)"
   ]
  },
  {
   "cell_type": "code",
   "execution_count": 5,
   "metadata": {},
   "outputs": [],
   "source": [
    "from sklearn.preprocessing import StandardScaler\n",
    "import pandas as pd\n",
    "import numpy as np\n",
    "from sklearn.model_selection import train_test_split\n",
    "\n",
    "\n",
    "x_train, x_test, y_train, y_test = train_test_split(concatenated_df, y, test_size=0.2, random_state=42)\n"
   ]
  },
  {
   "cell_type": "code",
   "execution_count": 6,
   "metadata": {},
   "outputs": [
    {
     "name": "stdout",
     "output_type": "stream",
     "text": [
      "R2 Score on Test Data: 0.5973460945868343\n",
      "Mean Squared Error: 64791134795.46469\n",
      "Root Mean Squared Error: 254541.02772532505\n",
      "Mean Absolute Error: 120189.23957737623\n",
      "Mean Absolute percentage Error: 24.200456868449606\n",
      "explained variance 0.597661551220633\n"
     ]
    }
   ],
   "source": [
    "from sklearn.ensemble import RandomForestRegressor\n",
    "from sklearn.preprocessing import StandardScaler\n",
    "from sklearn.metrics import mean_squared_error, r2_score, mean_absolute_error, explained_variance_score\n",
    "import numpy as np\n",
    "\n",
    "def train_and_evaluate(x_train, y_train, x_test, y_test, best_params):\n",
    "    \"\"\"\n",
    "    Trains the Random Forest model with the given parameters and evaluates it on the test set.\n",
    "\n",
    "    Parameters:\n",
    "    x_train (list/array): Training features\n",
    "    y_train (list/array): Training target variable\n",
    "    x_test (list/array): Test features\n",
    "    y_test (list/array): Test target variable\n",
    "    best_params (dict): Dictionary of best hyperparameters\n",
    "\n",
    "    Returns:\n",
    "    dict: Dictionary containing R2, MSE, and RMSE metrics\n",
    "    \"\"\"\n",
    "\n",
    "    # Initialize RandomForestRegressor with best parameters\n",
    "    clf_rf_best = RandomForestRegressor(**best_params, random_state=42, n_jobs=-1)\n",
    "\n",
    "    # Initialize and fit StandardScaler on y_train\n",
    "    scaler = StandardScaler()\n",
    "    y_train_scaled = scaler.fit_transform(np.array(y_train).reshape(-1, 1))\n",
    "\n",
    "    # Train the model on the entire training dataset\n",
    "    clf_rf_best.fit(x_train, y_train_scaled.ravel())\n",
    "\n",
    "    # Predict on the test data and inverse transform the predictions\n",
    "    y_pred_scaled = clf_rf_best.predict(x_test)\n",
    "    y_pred = scaler.inverse_transform(y_pred_scaled.reshape(-1, 1)).flatten()\n",
    "\n",
    "     # Mean Squared Error\n",
    "    mse = mean_squared_error(y_test, y_pred)\n",
    "    # Root Mean Squared Error\n",
    "    rmse = np.sqrt(mse)\n",
    "    # R-squared Score\n",
    "    r2_score_value = r2_score(y_test, y_pred)\n",
    "    # Mean Absolute Error\n",
    "    mae = mean_absolute_error(y_test, y_pred)\n",
    "    # Mean Absolute Percentage Error\n",
    "    mape = np.mean(np.abs((y_test - y_pred) / y_test)) * 100\n",
    "    # Explained Variance Score\n",
    "    explained_variance = explained_variance_score(y_test, y_pred)\n",
    "\n",
    "\n",
    "    return r2_score_value, mse, rmse, mae, mape, explained_variance\n",
    "\n",
    "best_params ={'max_depth': 36, 'n_estimators': 750, 'max_features': 'sqrt', 'min_samples_leaf': 2, 'min_samples_split': 4, 'bootstrap': False}\n",
    "\n",
    "\n",
    "\n",
    "\n",
    "r2_score_value, mse, rmse, mae, mape, explained_variance = train_and_evaluate(x_train, y_train, x_test, y_test, best_params)\n",
    "print(\"R2 Score on Test Data:\", r2_score_value)\n",
    "print(\"Mean Squared Error:\", mse)\n",
    "print(\"Root Mean Squared Error:\", rmse)\n",
    "print(\"Mean Absolute Error:\", mae)\n",
    "print(\"Mean Absolute percentage Error:\", mape)\n",
    "print(\"explained variance\", explained_variance)"
   ]
  },
  {
   "cell_type": "code",
   "execution_count": 7,
   "metadata": {},
   "outputs": [],
   "source": [
    "import pandas as pd\n",
    "df = pd.read_csv(r\"C:\\\\Users\\\\JellevanAs\\\\Documents\\\\Studie\\\\Thesis\\\\df-prompt_cat.csv\")"
   ]
  },
  {
   "cell_type": "code",
   "execution_count": 8,
   "metadata": {},
   "outputs": [
    {
     "data": {
      "text/plain": [
       "['Unnamed: 0',\n",
       " 'numerical_price',\n",
       " 'ada_embedding_prompt',\n",
       " 'num_bedrooms',\n",
       " 'num_rooms',\n",
       " 'building_type_Bestaande bouw',\n",
       " 'building_type_Nieuwbouw',\n",
       " 'building_type_na',\n",
       " 'tag_k.k.',\n",
       " 'tag_v.o.n.',\n",
       " 'house_category_Appartement',\n",
       " 'house_category_Bungalow',\n",
       " 'house_category_Eengezinswoning',\n",
       " 'house_category_Grachtenpand',\n",
       " 'house_category_Herenhuis',\n",
       " 'house_category_Landhuis',\n",
       " 'house_category_Other',\n",
       " 'house_category_Unknown',\n",
       " 'house_category_Villa',\n",
       " 'house_category_Woonboerderij',\n",
       " 'house_category_Woonboot',\n",
       " 'energy_label_encoded',\n",
       " 'size_scaled',\n",
       " 'longitude_scaled',\n",
       " 'latitude_scaled']"
      ]
     },
     "execution_count": 8,
     "metadata": {},
     "output_type": "execute_result"
    }
   ],
   "source": [
    "df.columns.tolist()"
   ]
  },
  {
   "cell_type": "code",
   "execution_count": 9,
   "metadata": {},
   "outputs": [],
   "source": [
    "\n",
    "df = df.drop(df.columns[0], axis=1)"
   ]
  },
  {
   "cell_type": "code",
   "execution_count": 10,
   "metadata": {},
   "outputs": [],
   "source": [
    "import pandas as pd\n",
    "import numpy as np\n",
    "from ast import literal_eval\n",
    "\n",
    "\n",
    "\n",
    "df[\"ada_embedding_prompt\"] = df[\"ada_embedding_prompt\"].apply(literal_eval).apply(np.array)\n",
    "\n",
    "\n",
    "x = df[\"ada_embedding_prompt\"]\n",
    "y = df['numerical_price']\n",
    "\n",
    "z = df.drop([\"ada_embedding_prompt\", \"numerical_price\"], axis=1)\n",
    "\n",
    "\n",
    "\n",
    "del df\n",
    "\n",
    "\n",
    "x = x.apply(pd.Series)\n",
    "\n",
    "\n",
    "concatenated_df = pd.concat([x, z], axis=1).reset_index(drop=True)"
   ]
  },
  {
   "cell_type": "code",
   "execution_count": 11,
   "metadata": {},
   "outputs": [],
   "source": [
    "concatenated_df.columns = concatenated_df.columns.astype(str)"
   ]
  },
  {
   "cell_type": "code",
   "execution_count": 12,
   "metadata": {},
   "outputs": [],
   "source": [
    "from sklearn.preprocessing import StandardScaler\n",
    "import pandas as pd\n",
    "import numpy as np\n",
    "from sklearn.model_selection import train_test_split\n",
    "\n",
    "\n",
    "x_train, x_test, y_train, y_test = train_test_split(concatenated_df, y, test_size=0.2, random_state=42)\n"
   ]
  },
  {
   "cell_type": "code",
   "execution_count": 13,
   "metadata": {},
   "outputs": [
    {
     "name": "stdout",
     "output_type": "stream",
     "text": [
      "R2 Score on Test Data: 0.6298649863023468\n",
      "Mean Squared Error: 54903418277.35474\n",
      "Root Mean Squared Error: 234314.78458977942\n",
      "Mean Absolute Error: 117244.29972585841\n",
      "Mean Absolute percentage Error: 24.220715452263757\n",
      "explained variance 0.6305389190538642\n"
     ]
    }
   ],
   "source": [
    "from sklearn.ensemble import RandomForestRegressor\n",
    "from sklearn.preprocessing import StandardScaler\n",
    "from sklearn.metrics import mean_squared_error, r2_score, mean_absolute_error, explained_variance_score\n",
    "import numpy as np\n",
    "\n",
    "def train_and_evaluate(x_train, y_train, x_test, y_test, best_params):\n",
    "    \"\"\"\n",
    "    Trains the Random Forest model with the given parameters and evaluates it on the test set.\n",
    "\n",
    "    Parameters:\n",
    "    x_train (list/array): Training features\n",
    "    y_train (list/array): Training target variable\n",
    "    x_test (list/array): Test features\n",
    "    y_test (list/array): Test target variable\n",
    "    best_params (dict): Dictionary of best hyperparameters\n",
    "\n",
    "    Returns:\n",
    "    dict: Dictionary containing R2, MSE, and RMSE metrics\n",
    "    \"\"\"\n",
    "\n",
    "    # Initialize RandomForestRegressor with best parameters\n",
    "    clf_rf_best = RandomForestRegressor(**best_params, random_state=42, n_jobs=-1)\n",
    "\n",
    "    # Initialize and fit StandardScaler on y_train\n",
    "    scaler = StandardScaler()\n",
    "    y_train_scaled = scaler.fit_transform(np.array(y_train).reshape(-1, 1))\n",
    "\n",
    "    # Train the model on the entire training dataset\n",
    "    clf_rf_best.fit(x_train, y_train_scaled.ravel())\n",
    "\n",
    "    # Predict on the test data and inverse transform the predictions\n",
    "    y_pred_scaled = clf_rf_best.predict(x_test)\n",
    "    y_pred = scaler.inverse_transform(y_pred_scaled.reshape(-1, 1)).flatten()\n",
    "\n",
    "     # Mean Squared Error\n",
    "    mse = mean_squared_error(y_test, y_pred)\n",
    "    # Root Mean Squared Error\n",
    "    rmse = np.sqrt(mse)\n",
    "    # R-squared Score\n",
    "    r2_score_value = r2_score(y_test, y_pred)\n",
    "    # Mean Absolute Error\n",
    "    mae = mean_absolute_error(y_test, y_pred)\n",
    "    # Mean Absolute Percentage Error\n",
    "    mape = np.mean(np.abs((y_test - y_pred) / y_test)) * 100\n",
    "    # Explained Variance Score\n",
    "    explained_variance = explained_variance_score(y_test, y_pred)\n",
    "\n",
    "\n",
    "    return r2_score_value, mse, rmse, mae, mape, explained_variance\n",
    "\n",
    "best_params ={'max_depth': 36, 'n_estimators': 750, 'max_features': 'sqrt', 'min_samples_leaf': 2, 'min_samples_split': 4, 'bootstrap': False}\n",
    "\n",
    "\n",
    "\n",
    "\n",
    "r2_score_value, mse, rmse, mae, mape, explained_variance = train_and_evaluate(x_train, y_train, x_test, y_test, best_params)\n",
    "print(\"R2 Score on Test Data:\", r2_score_value)\n",
    "print(\"Mean Squared Error:\", mse)\n",
    "print(\"Root Mean Squared Error:\", rmse)\n",
    "print(\"Mean Absolute Error:\", mae)\n",
    "print(\"Mean Absolute percentage Error:\", mape)\n",
    "print(\"explained variance\", explained_variance)\n"
   ]
  },
  {
   "cell_type": "code",
   "execution_count": 14,
   "metadata": {},
   "outputs": [],
   "source": [
    "import pandas as pd\n",
    "df = pd.read_csv(r\"C:\\\\Users\\\\JellevanAs\\\\Documents\\\\Studie\\\\Thesis\\\\df-dutch_cat.csv\")"
   ]
  },
  {
   "cell_type": "code",
   "execution_count": 15,
   "metadata": {},
   "outputs": [
    {
     "data": {
      "text/plain": [
       "['ada_embedding',\n",
       " 'descrip_en',\n",
       " 'numerical_price',\n",
       " 'num_bedrooms',\n",
       " 'num_rooms',\n",
       " 'building_type_Bestaande bouw',\n",
       " 'building_type_Nieuwbouw',\n",
       " 'building_type_na',\n",
       " 'tag_k.k.',\n",
       " 'tag_v.o.n.',\n",
       " 'house_category_Appartement',\n",
       " 'house_category_Bungalow',\n",
       " 'house_category_Eengezinswoning',\n",
       " 'house_category_Grachtenpand',\n",
       " 'house_category_Herenhuis',\n",
       " 'house_category_Landhuis',\n",
       " 'house_category_Other',\n",
       " 'house_category_Unknown',\n",
       " 'house_category_Villa',\n",
       " 'house_category_Woonboerderij',\n",
       " 'house_category_Woonboot',\n",
       " 'energy_label_encoded',\n",
       " 'size_scaled',\n",
       " 'longitude_scaled',\n",
       " 'latitude_scaled']"
      ]
     },
     "execution_count": 15,
     "metadata": {},
     "output_type": "execute_result"
    }
   ],
   "source": [
    "# df.columns[0] is the name of the first column\n",
    "df = df.drop(df.columns[0], axis=1)\n",
    "df.columns.tolist()"
   ]
  },
  {
   "cell_type": "code",
   "execution_count": 16,
   "metadata": {},
   "outputs": [],
   "source": [
    "import pandas as pd\n",
    "import numpy as np\n",
    "from ast import literal_eval\n",
    "\n",
    "\n",
    "\n",
    "\n",
    "df[\"ada_embedding\"] = df[\"ada_embedding\"].apply(literal_eval).apply(np.array)\n",
    "\n",
    "\n",
    "x = df[\"ada_embedding\"]\n",
    "y = df['numerical_price']\n",
    "\n",
    "z = df.drop([\"ada_embedding\", \"numerical_price\",\"descrip_en\"], axis=1)\n",
    "\n",
    "\n",
    "\n",
    "del df\n",
    "\n",
    "\n",
    "x = x.apply(pd.Series)\n",
    "\n",
    "\n",
    "concatenated_df = pd.concat([x, z], axis=1).reset_index(drop=True)"
   ]
  },
  {
   "cell_type": "code",
   "execution_count": 17,
   "metadata": {},
   "outputs": [],
   "source": [
    "concatenated_df.columns = concatenated_df.columns.astype(str)"
   ]
  },
  {
   "cell_type": "code",
   "execution_count": 18,
   "metadata": {},
   "outputs": [],
   "source": [
    "from sklearn.preprocessing import StandardScaler\n",
    "import pandas as pd\n",
    "import numpy as np\n",
    "from sklearn.model_selection import train_test_split\n",
    "\n",
    "\n",
    "x_train, x_test, y_train, y_test = train_test_split(concatenated_df, y, test_size=0.2, random_state=42)\n"
   ]
  },
  {
   "cell_type": "code",
   "execution_count": 19,
   "metadata": {},
   "outputs": [
    {
     "name": "stdout",
     "output_type": "stream",
     "text": [
      "R2 Score on Test Data: 0.6030220346464774\n",
      "Mean Squared Error: 63877817943.072655\n",
      "Root Mean Squared Error: 252740.61395642898\n",
      "Mean Absolute Error: 120352.68320980186\n",
      "Mean Absolute percentage Error: 24.089487861454444\n",
      "explained variance 0.6032447842034473\n"
     ]
    }
   ],
   "source": [
    "from sklearn.ensemble import RandomForestRegressor\n",
    "from sklearn.preprocessing import StandardScaler\n",
    "from sklearn.metrics import mean_squared_error, r2_score, mean_absolute_error, explained_variance_score\n",
    "import numpy as np\n",
    "\n",
    "def train_and_evaluate(x_train, y_train, x_test, y_test, best_params):\n",
    "    \"\"\"\n",
    "    Trains the Random Forest model with the given parameters and evaluates it on the test set.\n",
    "\n",
    "    Parameters:\n",
    "    x_train (list/array): Training features\n",
    "    y_train (list/array): Training target variable\n",
    "    x_test (list/array): Test features\n",
    "    y_test (list/array): Test target variable\n",
    "    best_params (dict): Dictionary of best hyperparameters\n",
    "\n",
    "    Returns:\n",
    "    dict: Dictionary containing R2, MSE, and RMSE metrics\n",
    "    \"\"\"\n",
    "\n",
    "    # Initialize RandomForestRegressor with best parameters\n",
    "    clf_rf_best = RandomForestRegressor(**best_params, random_state=42, n_jobs=-1)\n",
    "\n",
    "    # Initialize and fit StandardScaler on y_train\n",
    "    scaler = StandardScaler()\n",
    "    y_train_scaled = scaler.fit_transform(np.array(y_train).reshape(-1, 1))\n",
    "\n",
    "    # Train the model on the entire training dataset\n",
    "    clf_rf_best.fit(x_train, y_train_scaled.ravel())\n",
    "\n",
    "    # Predict on the test data and inverse transform the predictions\n",
    "    y_pred_scaled = clf_rf_best.predict(x_test)\n",
    "    y_pred = scaler.inverse_transform(y_pred_scaled.reshape(-1, 1)).flatten()\n",
    "\n",
    "     # Mean Squared Error\n",
    "    mse = mean_squared_error(y_test, y_pred)\n",
    "    # Root Mean Squared Error\n",
    "    rmse = np.sqrt(mse)\n",
    "    # R-squared Score\n",
    "    r2_score_value = r2_score(y_test, y_pred)\n",
    "    # Mean Absolute Error\n",
    "    mae = mean_absolute_error(y_test, y_pred)\n",
    "    # Mean Absolute Percentage Error\n",
    "    mape = np.mean(np.abs((y_test - y_pred) / y_test)) * 100\n",
    "    # Explained Variance Score\n",
    "    explained_variance = explained_variance_score(y_test, y_pred)\n",
    "\n",
    "\n",
    "    return r2_score_value, mse, rmse, mae, mape, explained_variance\n",
    "\n",
    "best_params = {'max_depth': 36, 'n_estimators': 750, 'max_features': 'sqrt', 'min_samples_leaf': 2, 'min_samples_split': 4, 'bootstrap': False}\n",
    "\n",
    "\n",
    "\n",
    "\n",
    "r2_score_value, mse, rmse, mae, mape, explained_variance = train_and_evaluate(x_train, y_train, x_test, y_test, best_params)\n",
    "print(\"R2 Score on Test Data:\", r2_score_value)\n",
    "print(\"Mean Squared Error:\", mse)\n",
    "print(\"Root Mean Squared Error:\", rmse)\n",
    "print(\"Mean Absolute Error:\", mae)\n",
    "print(\"Mean Absolute percentage Error:\", mape)\n",
    "print(\"explained variance\", explained_variance)"
   ]
  },
  {
   "cell_type": "code",
   "execution_count": 20,
   "metadata": {},
   "outputs": [
    {
     "data": {
      "text/plain": [
       "['Unnamed: 0',\n",
       " 'numerical_price',\n",
       " 'description_en_anti_prompt_embedding',\n",
       " 'num_bedrooms',\n",
       " 'num_rooms',\n",
       " 'building_type_Bestaande bouw',\n",
       " 'building_type_Nieuwbouw',\n",
       " 'building_type_na',\n",
       " 'tag_k.k.',\n",
       " 'tag_v.o.n.',\n",
       " 'house_category_Appartement',\n",
       " 'house_category_Bungalow',\n",
       " 'house_category_Eengezinswoning',\n",
       " 'house_category_Grachtenpand',\n",
       " 'house_category_Herenhuis',\n",
       " 'house_category_Landhuis',\n",
       " 'house_category_Other',\n",
       " 'house_category_Unknown',\n",
       " 'house_category_Villa',\n",
       " 'house_category_Woonboerderij',\n",
       " 'house_category_Woonboot',\n",
       " 'energy_label_encoded',\n",
       " 'size_scaled',\n",
       " 'longitude_scaled',\n",
       " 'latitude_scaled']"
      ]
     },
     "execution_count": 20,
     "metadata": {},
     "output_type": "execute_result"
    }
   ],
   "source": [
    "import pandas as pd\n",
    "df = pd.read_csv(r\"C:\\\\Users\\\\JellevanAs\\\\Documents\\\\Studie\\\\Thesis\\\\df-anti_cat.csv\")\n",
    "df.columns.tolist()"
   ]
  },
  {
   "cell_type": "code",
   "execution_count": 21,
   "metadata": {},
   "outputs": [],
   "source": [
    "\n",
    "df = df.drop(df.columns[0], axis=1)"
   ]
  },
  {
   "cell_type": "code",
   "execution_count": 22,
   "metadata": {},
   "outputs": [],
   "source": [
    "import pandas as pd\n",
    "import numpy as np\n",
    "from ast import literal_eval\n",
    "\n",
    "\n",
    "\n",
    "df[\"description_en_anti_prompt_embedding\"] = df[\"description_en_anti_prompt_embedding\"].apply(literal_eval).apply(np.array)\n",
    "\n",
    "\n",
    "x = df[\"description_en_anti_prompt_embedding\"]\n",
    "y = df['numerical_price']\n",
    "\n",
    "z = df.drop([\"description_en_anti_prompt_embedding\", \"numerical_price\"], axis=1)\n",
    "\n",
    "\n",
    "\n",
    "del df\n",
    "\n",
    "\n",
    "x = x.apply(pd.Series)\n",
    "\n",
    "\n",
    "concatenated_df = pd.concat([x, z], axis=1).reset_index(drop=True)\n",
    "concatenated_df.columns = concatenated_df.columns.astype(str)"
   ]
  },
  {
   "cell_type": "code",
   "execution_count": 23,
   "metadata": {},
   "outputs": [],
   "source": [
    "from sklearn.preprocessing import StandardScaler\n",
    "import pandas as pd\n",
    "import numpy as np\n",
    "from sklearn.model_selection import train_test_split\n",
    "\n",
    "\n",
    "x_train, x_test, y_train, y_test = train_test_split(concatenated_df, y, test_size=0.2, random_state=42)\n"
   ]
  },
  {
   "cell_type": "code",
   "execution_count": 24,
   "metadata": {},
   "outputs": [
    {
     "name": "stdout",
     "output_type": "stream",
     "text": [
      "R2 Score on Test Data: 0.596468332277651\n",
      "Mean Squared Error: 64932375735.45836\n",
      "Root Mean Squared Error: 254818.31907352808\n",
      "Mean Absolute Error: 119904.63260072432\n",
      "Mean Absolute percentage Error: 24.098761834056145\n",
      "explained variance 0.5967703138476483\n"
     ]
    }
   ],
   "source": [
    "from sklearn.ensemble import RandomForestRegressor\n",
    "from sklearn.preprocessing import StandardScaler\n",
    "from sklearn.metrics import mean_squared_error, r2_score, mean_absolute_error, explained_variance_score\n",
    "import numpy as np\n",
    "\n",
    "def train_and_evaluate(x_train, y_train, x_test, y_test, best_params):\n",
    "    \"\"\"\n",
    "    Trains the Random Forest model with the given parameters and evaluates it on the test set.\n",
    "\n",
    "    Parameters:\n",
    "    x_train (list/array): Training features\n",
    "    y_train (list/array): Training target variable\n",
    "    x_test (list/array): Test features\n",
    "    y_test (list/array): Test target variable\n",
    "    best_params (dict): Dictionary of best hyperparameters\n",
    "\n",
    "    Returns:\n",
    "    dict: Dictionary containing R2, MSE, and RMSE metrics\n",
    "    \"\"\"\n",
    "\n",
    "    # Initialize RandomForestRegressor with best parameters\n",
    "    clf_rf_best = RandomForestRegressor(**best_params, random_state=42, n_jobs=-1)\n",
    "\n",
    "    # Initialize and fit StandardScaler on y_train\n",
    "    scaler = StandardScaler()\n",
    "    y_train_scaled = scaler.fit_transform(np.array(y_train).reshape(-1, 1))\n",
    "\n",
    "    # Train the model on the entire training dataset\n",
    "    clf_rf_best.fit(x_train, y_train_scaled.ravel())\n",
    "\n",
    "    # Predict on the test data and inverse transform the predictions\n",
    "    y_pred_scaled = clf_rf_best.predict(x_test)\n",
    "    y_pred = scaler.inverse_transform(y_pred_scaled.reshape(-1, 1)).flatten()\n",
    "\n",
    "     # Mean Squared Error\n",
    "    mse = mean_squared_error(y_test, y_pred)\n",
    "    # Root Mean Squared Error\n",
    "    rmse = np.sqrt(mse)\n",
    "    # R-squared Score\n",
    "    r2_score_value = r2_score(y_test, y_pred)\n",
    "    # Mean Absolute Error\n",
    "    mae = mean_absolute_error(y_test, y_pred)\n",
    "    # Mean Absolute Percentage Error\n",
    "    mape = np.mean(np.abs((y_test - y_pred) / y_test)) * 100\n",
    "    # Explained Variance Score\n",
    "    explained_variance = explained_variance_score(y_test, y_pred)\n",
    "\n",
    "\n",
    "    return r2_score_value, mse, rmse, mae, mape, explained_variance\n",
    "\n",
    "best_params = {'max_depth': 36, 'n_estimators': 750, 'max_features': 'sqrt', 'min_samples_leaf': 2, 'min_samples_split': 4, 'bootstrap': False}\n",
    "\n",
    "\n",
    "\n",
    "\n",
    "r2_score_value, mse, rmse, mae, mape, explained_variance = train_and_evaluate(x_train, y_train, x_test, y_test, best_params)\n",
    "print(\"R2 Score on Test Data:\", r2_score_value)\n",
    "print(\"Mean Squared Error:\", mse)\n",
    "print(\"Root Mean Squared Error:\", rmse)\n",
    "print(\"Mean Absolute Error:\", mae)\n",
    "print(\"Mean Absolute percentage Error:\", mape)\n",
    "print(\"explained variance\", explained_variance)"
   ]
  },
  {
   "cell_type": "code",
   "execution_count": 25,
   "metadata": {},
   "outputs": [
    {
     "data": {
      "text/plain": [
       "['Unnamed: 0',\n",
       " 'numerical_price',\n",
       " 'num_bedrooms',\n",
       " 'num_rooms',\n",
       " 'size_int',\n",
       " 'f_string_embedding',\n",
       " 'building_type_Bestaande bouw',\n",
       " 'building_type_Nieuwbouw',\n",
       " 'building_type_na',\n",
       " 'tag_k.k.',\n",
       " 'tag_v.o.n.',\n",
       " 'house_category_Appartement',\n",
       " 'house_category_Bungalow',\n",
       " 'house_category_Eengezinswoning',\n",
       " 'house_category_Grachtenpand',\n",
       " 'house_category_Herenhuis',\n",
       " 'house_category_Landhuis',\n",
       " 'house_category_Other',\n",
       " 'house_category_Unknown',\n",
       " 'house_category_Villa',\n",
       " 'house_category_Woonboerderij',\n",
       " 'house_category_Woonboot',\n",
       " 'energy_label_encoded',\n",
       " 'size_scaled',\n",
       " 'longitude_scaled',\n",
       " 'latitude_scaled']"
      ]
     },
     "execution_count": 25,
     "metadata": {},
     "output_type": "execute_result"
    }
   ],
   "source": [
    "import pandas as pd\n",
    "df = pd.read_csv(r\"C:\\\\Users\\\\JellevanAs\\\\Documents\\\\Studie\\\\Thesis\\\\df-formatted_cat.csv\")\n",
    "df.columns.tolist()"
   ]
  },
  {
   "cell_type": "code",
   "execution_count": 26,
   "metadata": {},
   "outputs": [
    {
     "data": {
      "text/plain": [
       "['numerical_price',\n",
       " 'num_bedrooms',\n",
       " 'num_rooms',\n",
       " 'f_string_embedding',\n",
       " 'building_type_Bestaande bouw',\n",
       " 'building_type_Nieuwbouw',\n",
       " 'building_type_na',\n",
       " 'tag_k.k.',\n",
       " 'tag_v.o.n.',\n",
       " 'house_category_Appartement',\n",
       " 'house_category_Bungalow',\n",
       " 'house_category_Eengezinswoning',\n",
       " 'house_category_Grachtenpand',\n",
       " 'house_category_Herenhuis',\n",
       " 'house_category_Landhuis',\n",
       " 'house_category_Other',\n",
       " 'house_category_Unknown',\n",
       " 'house_category_Villa',\n",
       " 'house_category_Woonboerderij',\n",
       " 'house_category_Woonboot',\n",
       " 'energy_label_encoded',\n",
       " 'size_scaled',\n",
       " 'longitude_scaled',\n",
       " 'latitude_scaled']"
      ]
     },
     "execution_count": 26,
     "metadata": {},
     "output_type": "execute_result"
    }
   ],
   "source": [
    "\n",
    "df = df.drop(df.columns[0], axis=1)\n",
    "df = df.drop('size_int',axis= 1)\n",
    "df.columns.tolist()"
   ]
  },
  {
   "cell_type": "code",
   "execution_count": 27,
   "metadata": {},
   "outputs": [],
   "source": [
    "import pandas as pd\n",
    "import numpy as np\n",
    "from ast import literal_eval\n",
    "\n",
    "\n",
    "\n",
    "df[\"f_string_embedding\"] = df[\"f_string_embedding\"].apply(literal_eval).apply(np.array)\n",
    "\n",
    "\n",
    "x = df[\"f_string_embedding\"]\n",
    "y = df['numerical_price']\n",
    "\n",
    "z = df.drop([\"f_string_embedding\", \"numerical_price\"], axis=1)\n",
    "\n",
    "\n",
    "\n",
    "del df\n",
    "\n",
    "\n",
    "x = x.apply(pd.Series)\n",
    "\n",
    "\n",
    "concatenated_df = pd.concat([x, z], axis=1).reset_index(drop=True)\n",
    "concatenated_df.columns = concatenated_df.columns.astype(str)"
   ]
  },
  {
   "cell_type": "code",
   "execution_count": 28,
   "metadata": {},
   "outputs": [],
   "source": [
    "from sklearn.preprocessing import StandardScaler\n",
    "import pandas as pd\n",
    "import numpy as np\n",
    "from sklearn.model_selection import train_test_split\n",
    "\n",
    "\n",
    "x_train, x_test, y_train, y_test = train_test_split(concatenated_df, y, test_size=0.2, random_state=42)\n"
   ]
  },
  {
   "cell_type": "code",
   "execution_count": 29,
   "metadata": {},
   "outputs": [
    {
     "name": "stdout",
     "output_type": "stream",
     "text": [
      "R2 Score on Test Data: 0.6123194530451261\n",
      "Mean Squared Error: 62381768157.839424\n",
      "Root Mean Squared Error: 249763.42437963054\n",
      "Mean Absolute Error: 116168.56864234604\n",
      "Mean Absolute percentage Error: 23.346752644510673\n",
      "explained variance 0.6125349828771349\n"
     ]
    }
   ],
   "source": [
    "from sklearn.ensemble import RandomForestRegressor\n",
    "from sklearn.preprocessing import StandardScaler\n",
    "from sklearn.metrics import mean_squared_error, r2_score, mean_absolute_error, explained_variance_score\n",
    "import numpy as np\n",
    "\n",
    "def train_and_evaluate(x_train, y_train, x_test, y_test, best_params):\n",
    "    \"\"\"\n",
    "    Trains the Random Forest model with the given parameters and evaluates it on the test set.\n",
    "\n",
    "    Parameters:\n",
    "    x_train (list/array): Training features\n",
    "    y_train (list/array): Training target variable\n",
    "    x_test (list/array): Test features\n",
    "    y_test (list/array): Test target variable\n",
    "    best_params (dict): Dictionary of best hyperparameters\n",
    "\n",
    "    Returns:\n",
    "    dict: Dictionary containing R2, MSE, and RMSE metrics\n",
    "    \"\"\"\n",
    "\n",
    "    # Initialize RandomForestRegressor with best parameters\n",
    "    clf_rf_best = RandomForestRegressor(**best_params, random_state=42, n_jobs=-1)\n",
    "\n",
    "    # Initialize and fit StandardScaler on y_train\n",
    "    scaler = StandardScaler()\n",
    "    y_train_scaled = scaler.fit_transform(np.array(y_train).reshape(-1, 1))\n",
    "\n",
    "    # Train the model on the entire training dataset\n",
    "    clf_rf_best.fit(x_train, y_train_scaled.ravel())\n",
    "\n",
    "    # Predict on the test data and inverse transform the predictions\n",
    "    y_pred_scaled = clf_rf_best.predict(x_test)\n",
    "    y_pred = scaler.inverse_transform(y_pred_scaled.reshape(-1, 1)).flatten()\n",
    "     # Mean Squared Error\n",
    "    mse = mean_squared_error(y_test, y_pred)\n",
    "    # Root Mean Squared Error\n",
    "    rmse = np.sqrt(mse)\n",
    "    # R-squared Score\n",
    "    r2_score_value = r2_score(y_test, y_pred)\n",
    "    # Mean Absolute Error\n",
    "    mae = mean_absolute_error(y_test, y_pred)\n",
    "    # Mean Absolute Percentage Error\n",
    "    mape = np.mean(np.abs((y_test - y_pred) / y_test)) * 100\n",
    "    # Explained Variance Score\n",
    "    explained_variance = explained_variance_score(y_test, y_pred)\n",
    "\n",
    "\n",
    "    return r2_score_value, mse, rmse, mae, mape, explained_variance\n",
    "\n",
    "best_params = {'max_depth': 36, 'n_estimators': 750, 'max_features': 'sqrt', 'min_samples_leaf': 2, 'min_samples_split': 4, 'bootstrap': False}\n",
    "\n",
    "\n",
    "\n",
    "\n",
    "r2_score_value, mse, rmse, mae, mape, explained_variance = train_and_evaluate(x_train, y_train, x_test, y_test, best_params)\n",
    "print(\"R2 Score on Test Data:\", r2_score_value)\n",
    "print(\"Mean Squared Error:\", mse)\n",
    "print(\"Root Mean Squared Error:\", rmse)\n",
    "print(\"Mean Absolute Error:\", mae)\n",
    "print(\"Mean Absolute percentage Error:\", mape)\n",
    "print(\"explained variance\", explained_variance)"
   ]
  }
 ],
 "metadata": {
  "kernelspec": {
   "display_name": "Python 3",
   "language": "python",
   "name": "python3"
  },
  "language_info": {
   "codemirror_mode": {
    "name": "ipython",
    "version": 3
   },
   "file_extension": ".py",
   "mimetype": "text/x-python",
   "name": "python",
   "nbconvert_exporter": "python",
   "pygments_lexer": "ipython3",
   "version": "3.9.13"
  }
 },
 "nbformat": 4,
 "nbformat_minor": 2
}
