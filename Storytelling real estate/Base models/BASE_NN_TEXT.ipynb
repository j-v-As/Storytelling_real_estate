{
  "nbformat": 4,
  "nbformat_minor": 0,
  "metadata": {
    "colab": {
      "provenance": []
    },
    "kernelspec": {
      "name": "python3",
      "display_name": "Python 3"
    },
    "language_info": {
      "name": "python"
    }
  },
  "cells": [
    {
      "cell_type": "code",
      "execution_count": 1,
      "metadata": {
        "colab": {
          "base_uri": "https://localhost:8080/"
        },
        "id": "-7Gtcpv-6myf",
        "outputId": "f620b36d-73e5-4089-d56f-1e1edbbd9b88"
      },
      "outputs": [
        {
          "output_type": "stream",
          "name": "stdout",
          "text": [
            "Mounted at /content/drive\n"
          ]
        }
      ],
      "source": [
        "from google.colab import drive\n",
        "import pandas as pd\n",
        "\n",
        "# This will prompt for authorization to access your Google Drive\n",
        "drive.mount('/content/drive')\n",
        "\n",
        "# Update the file path to the location where you uploaded your CSV in Google Drive\n",
        "file_path = '/content/drive/My Drive/Thesis/df-english.csv'\n",
        "\n",
        "# Read the CSV file\n",
        "df = pd.read_csv(file_path)\n",
        "\n"
      ]
    },
    {
      "cell_type": "code",
      "source": [
        "import numpy as np\n",
        "from sklearn.model_selection import train_test_split\n",
        "from sklearn.preprocessing import MinMaxScaler\n",
        "from ast import literal_eval\n",
        "\n",
        "\n",
        "\n",
        "df[\"ada_embedding_eng\"] = df[\"ada_embedding_eng\"].apply(literal_eval).apply(np.array)\n",
        "\n",
        "x = df[\"ada_embedding_eng\"]\n",
        "y = df['numerical_price']\n",
        "# Explode the embedding arrays into separate columns\n"
      ],
      "metadata": {
        "id": "3yRwAZ-460JK"
      },
      "execution_count": 2,
      "outputs": []
    },
    {
      "cell_type": "code",
      "source": [
        "x = x.apply(pd.Series)\n",
        "\n",
        "# First split: separate out a test set\n",
        "x_train, x_test, y_train, y_test = train_test_split(x, y, test_size=0.2, random_state=42)\n"
      ],
      "metadata": {
        "id": "MyZJPXGc62On"
      },
      "execution_count": 3,
      "outputs": []
    },
    {
      "cell_type": "code",
      "source": [
        "from tensorflow.keras.models import Sequential\n",
        "from tensorflow.keras.layers import Dense\n",
        "from tensorflow.keras.optimizers import Adam\n",
        "from tensorflow.keras.regularizers import l1_l2\n",
        "from sklearn.metrics import r2_score, mean_squared_error, mean_absolute_percentage_error, explained_variance_score\n",
        "from sklearn.model_selection import KFold\n",
        "from sklearn.preprocessing import StandardScaler\n",
        "import numpy as np\n",
        "\n",
        "def train_and_evaluate_nn(X_train, y_train):\n",
        "    # Basic hyperparameters\n",
        "    learning_rate = 0.001\n",
        "    neurons_layer_1 = 1024\n",
        "    neurons_layer_2 = 512\n",
        "    neurons_layer_3 = 256\n",
        "    batch_size = 32\n",
        "    epochs = 10\n",
        "\n",
        "    # KFold Cross-validation\n",
        "    kf = KFold(n_splits=5)\n",
        "    r2_scores, mse_scores, rmse_scores, mape_scores, ev_scores = [], [], [], [], []\n",
        "\n",
        "    for train_index, test_index in kf.split(X_train):\n",
        "        X_train_fold, X_test_fold = X_train[train_index], X_train[test_index]\n",
        "        y_train_fold, y_test_fold = y_train[train_index], y_train[test_index]\n",
        "\n",
        "        # Build model\n",
        "        model = Sequential()\n",
        "        model.add(Dense(neurons_layer_1, activation='relu', input_shape=(X_train_fold.shape[1],)))\n",
        "        model.add(Dense(neurons_layer_2, activation='relu'))\n",
        "        model.add(Dense(neurons_layer_3, activation='relu'))\n",
        "        model.add(Dense(1, activation='linear'))\n",
        "\n",
        "        # Compile model\n",
        "        optimizer = Adam(learning_rate=learning_rate)\n",
        "        model.compile(optimizer=optimizer, loss='mean_squared_error')\n",
        "\n",
        "        # Scaling y_train\n",
        "        scaler = StandardScaler()\n",
        "        y_train_scaled = scaler.fit_transform(y_train_fold.reshape(-1, 1)).flatten()\n",
        "\n",
        "        # Train model\n",
        "        model.fit(X_train_fold, y_train_scaled, epochs=epochs, batch_size=batch_size, verbose=0)\n",
        "\n",
        "        # Predict and evaluate\n",
        "        y_pred_scaled = model.predict(X_test_fold)\n",
        "        y_pred = scaler.inverse_transform(y_pred_scaled.reshape(-1, 1)).flatten()\n",
        "\n",
        "        # Metrics calculation\n",
        "        r2 = r2_score(y_test_fold, y_pred)\n",
        "        mse = mean_squared_error(y_test_fold, y_pred)\n",
        "        rmse = np.sqrt(mse)\n",
        "        mape = mean_absolute_percentage_error(y_test_fold, y_pred)\n",
        "        ev = explained_variance_score(y_test_fold, y_pred)\n",
        "\n",
        "        # Append scores\n",
        "        r2_scores.append(r2)\n",
        "        mse_scores.append(mse)\n",
        "        rmse_scores.append(rmse)\n",
        "        mape_scores.append(mape)\n",
        "        ev_scores.append(ev)\n",
        "\n",
        "    # Calculate average scores\n",
        "    avg_r2 = np.mean(r2_scores)\n",
        "    avg_mse = np.mean(mse_scores)\n",
        "    avg_rmse = np.mean(rmse_scores)\n",
        "    avg_mape = np.mean(mape_scores)\n",
        "    avg_ev = np.mean(ev_scores)\n",
        "\n",
        "    return avg_r2, avg_mse, avg_rmse, avg_mape, avg_ev\n"
      ],
      "metadata": {
        "id": "vELjt69N65GD"
      },
      "execution_count": 4,
      "outputs": []
    },
    {
      "cell_type": "code",
      "source": [
        "import numpy as np\n",
        "\n",
        "# Convert x_train and x_test to numpy arrays\n",
        "x_train = np.array(x_train)\n",
        "x_test = np.array(x_test)\n",
        "\n",
        "\n",
        "print(\"x_train shape:\", x_train.shape)\n",
        "print(\"x_test shape:\", x_test.shape)\n",
        "print(\"y_train shape:\", y_train.shape)\n",
        "print(\"y_test shape:\", y_test.shape)\n",
        "\n",
        "\n",
        "\n",
        "y_train = np.ravel(y_train)\n",
        "y_test = np.ravel(y_test)\n",
        "\n",
        "\n",
        "print(\"Adjusted y_train shape:\", y_train.shape)\n",
        "print(\"Adjusted y_test shape:\", y_test.shape)\n"
      ],
      "metadata": {
        "colab": {
          "base_uri": "https://localhost:8080/"
        },
        "id": "USNz0KR86-rj",
        "outputId": "ff529db3-6335-47a8-d036-edbc090ff1d1"
      },
      "execution_count": 5,
      "outputs": [
        {
          "output_type": "stream",
          "name": "stdout",
          "text": [
            "x_train shape: (57611, 1536)\n",
            "x_test shape: (14403, 1536)\n",
            "y_train shape: (57611,)\n",
            "y_test shape: (14403,)\n",
            "Adjusted y_train shape: (57611,)\n",
            "Adjusted y_test shape: (14403,)\n"
          ]
        }
      ]
    },
    {
      "cell_type": "code",
      "source": [
        "# Assuming x_train and y_train are already defined and preprocessed\n",
        "\n",
        "# Call the function with your data\n",
        "average_r2_score, average_mse, average_rmse, average_mape, average_ev = train_and_evaluate_nn(x_train, y_train)\n",
        "\n",
        "# Print the performance metrics\n",
        "print(\"Average R2 Score:\", average_r2_score)\n",
        "print(\"Average MSE:\", average_mse)\n",
        "print(\"Average RMSE:\", average_rmse)\n",
        "print(\"Average MAPE:\", average_mape)\n",
        "print(\"Average Explained Variance:\", average_ev)\n"
      ],
      "metadata": {
        "colab": {
          "base_uri": "https://localhost:8080/"
        },
        "id": "uM1gjox969iz",
        "outputId": "d86321e2-6a72-4413-ec52-5536044bfe38"
      },
      "execution_count": 6,
      "outputs": [
        {
          "output_type": "stream",
          "name": "stdout",
          "text": [
            "361/361 [==============================] - 4s 11ms/step\n",
            "361/361 [==============================] - 3s 9ms/step\n",
            "361/361 [==============================] - 4s 11ms/step\n",
            "361/361 [==============================] - 3s 7ms/step\n",
            "361/361 [==============================] - 4s 11ms/step\n",
            "Average R2 Score: 0.6318778940230111\n",
            "Average MSE: 63727845782.67633\n",
            "Average RMSE: 252192.78045649306\n",
            "Average MAPE: 0.24322331612001694\n",
            "Average Explained Variance: 0.6413837766253795\n"
          ]
        }
      ]
    }
  ]
}