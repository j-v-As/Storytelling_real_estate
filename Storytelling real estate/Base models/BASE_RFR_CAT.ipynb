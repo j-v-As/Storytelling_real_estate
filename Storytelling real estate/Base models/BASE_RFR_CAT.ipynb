{
  "nbformat": 4,
  "nbformat_minor": 0,
  "metadata": {
    "colab": {
      "provenance": []
    },
    "kernelspec": {
      "name": "python3",
      "display_name": "Python 3"
    },
    "language_info": {
      "name": "python"
    }
  },
  "cells": [
    {
      "cell_type": "code",
      "execution_count": 1,
      "metadata": {
        "colab": {
          "base_uri": "https://localhost:8080/"
        },
        "id": "hwms9ECBSpR1",
        "outputId": "a201fef7-7c85-440e-8735-d6187caf1ae7"
      },
      "outputs": [
        {
          "output_type": "stream",
          "name": "stdout",
          "text": [
            "Mounted at /content/drive\n"
          ]
        }
      ],
      "source": [
        "from google.colab import drive\n",
        "import pandas as pd\n",
        "\n",
        "# This will prompt for authorization to access your Google Drive\n",
        "drive.mount('/content/drive')\n",
        "\n",
        "# Update the file path to the location where you uploaded your CSV in Google Drive\n",
        "file_path = '/content/drive/My Drive/Thesis/df-englisch_cat.csv'\n",
        "\n",
        "# Read the CSV file\n",
        "df = pd.read_csv(file_path)\n",
        "df.columns.tolist()\n",
        "df = df.drop(df.columns[0], axis=1)"
      ]
    },
    {
      "cell_type": "code",
      "source": [
        "import pandas as pd\n",
        "import numpy as np\n",
        "from ast import literal_eval\n",
        "\n",
        "\n",
        "\n",
        "y = df['numerical_price']\n",
        "\n",
        "# Dropping the 'ada_embedding_eng' column from df\n",
        "z = df.drop([\"ada_embedding_eng\", \"numerical_price\"], axis=1)\n",
        "\n",
        "\n",
        "\n",
        "\n",
        "from sklearn.preprocessing import StandardScaler\n",
        "import pandas as pd\n",
        "import numpy as np\n",
        "from sklearn.model_selection import train_test_split\n",
        "\n",
        "\n",
        "x_train, x_test, y_train, y_test = train_test_split(z, y, test_size=0.2, random_state=42)\n",
        "# Then, create and fit your scaler on the training data only"
      ],
      "metadata": {
        "id": "S1POoRw-SvBp"
      },
      "execution_count": 2,
      "outputs": []
    },
    {
      "cell_type": "code",
      "source": [
        "import numpy as np\n",
        "import pandas as pd\n",
        "from sklearn.model_selection import KFold\n",
        "from sklearn.ensemble import RandomForestRegressor\n",
        "from sklearn.metrics import r2_score, mean_squared_error, mean_absolute_percentage_error, explained_variance_score\n",
        "from sklearn.preprocessing import StandardScaler\n",
        "\n",
        "# Function to evaluate the model\n",
        "def evaluate_model(model, X_train, X_test, y_train, y_test):\n",
        "    # Scaling y_train\n",
        "    y_train_scaled = scaler.fit_transform(np.array(y_train).reshape(-1, 1))\n",
        "\n",
        "    # Fitting the model\n",
        "    model.fit(X_train, y_train_scaled.ravel())\n",
        "\n",
        "    # Predicting and inverse transformation\n",
        "    y_pred_scaled = model.predict(X_test)\n",
        "    y_pred = scaler.inverse_transform(y_pred_scaled.reshape(-1, 1)).flatten()\n",
        "\n",
        "    # Calculate metrics\n",
        "    r2 = r2_score(y_test, y_pred)\n",
        "    mse = mean_squared_error(y_test, y_pred)\n",
        "    rmse = np.sqrt(mse)\n",
        "    mape = mean_absolute_percentage_error(y_test, y_pred)\n",
        "    ev = explained_variance_score(y_test, y_pred)\n",
        "\n",
        "    return r2, mse, rmse, mape, ev\n",
        "\n",
        "# Initialize RandomForestRegressor with basic parameters\n",
        "clf_rf_base = RandomForestRegressor(n_estimators=100, max_depth=5, random_state=42, n_jobs=-1)\n",
        "\n",
        "# Initialize StandardScaler for y\n",
        "scaler = StandardScaler()\n",
        "\n",
        "# KFold Cross-validation\n",
        "kf = KFold(n_splits=5)\n",
        "r2_scores, mse_scores, rmse_scores, mape_scores, ev_scores = [], [], [], [], []\n",
        "\n",
        "for train_index, test_index in kf.split(x_train):\n",
        "    X_train_fold, X_test_fold = x_train.iloc[train_index], x_train.iloc[test_index]\n",
        "    y_train_fold, y_test_fold = y_train.iloc[train_index], y_train.iloc[test_index]\n",
        "\n",
        "    r2, mse, rmse, mape, ev = evaluate_model(clf_rf_base, X_train_fold, X_test_fold, y_train_fold, y_test_fold)\n",
        "    r2_scores.append(r2)\n",
        "    mse_scores.append(mse)\n",
        "    rmse_scores.append(rmse)\n",
        "    mape_scores.append(mape)\n",
        "    ev_scores.append(ev)\n",
        "\n",
        "# Calculate and print average scores\n",
        "avg_r2 = np.mean(r2_scores)\n",
        "avg_mse = np.mean(mse_scores)\n",
        "avg_rmse = np.mean(rmse_scores)\n",
        "avg_mape = np.mean(mape_scores)\n",
        "avg_ev = np.mean(ev_scores)\n",
        "\n",
        "print(\"Average R2:\", avg_r2,\n",
        "      \"Average MSE:\", avg_mse,\n",
        "      \"Average RMSE:\", avg_rmse,\n",
        "      \"Average MAPE:\", avg_mape,\n",
        "      \"Average Explained Variance:\", avg_ev)\n"
      ],
      "metadata": {
        "colab": {
          "base_uri": "https://localhost:8080/"
        },
        "id": "zbuoheFoS0az",
        "outputId": "ac05a9ad-a819-4718-a9c2-76a1de9aa032"
      },
      "execution_count": 3,
      "outputs": [
        {
          "output_type": "stream",
          "name": "stdout",
          "text": [
            "Average R2: 0.6106903185754915 Average MSE: 67320881161.66628 Average RMSE: 258961.06900502072 Average MAPE: 0.24949413493198724 Average Explained Variance: 0.6107902997054018\n"
          ]
        }
      ]
    }
  ]
}