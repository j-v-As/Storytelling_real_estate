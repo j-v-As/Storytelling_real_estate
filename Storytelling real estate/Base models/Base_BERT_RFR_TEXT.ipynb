{
  "nbformat": 4,
  "nbformat_minor": 0,
  "metadata": {
    "colab": {
      "provenance": []
    },
    "kernelspec": {
      "name": "python3",
      "display_name": "Python 3"
    },
    "language_info": {
      "name": "python"
    }
  },
  "cells": [
    {
      "cell_type": "code",
      "execution_count": 3,
      "metadata": {
        "colab": {
          "base_uri": "https://localhost:8080/"
        },
        "id": "eVPw3NzIWqOs",
        "outputId": "1eef353e-8133-421f-b568-8bfe9a6e9e46"
      },
      "outputs": [
        {
          "output_type": "stream",
          "name": "stdout",
          "text": [
            "Drive already mounted at /content/drive; to attempt to forcibly remount, call drive.mount(\"/content/drive\", force_remount=True).\n"
          ]
        }
      ],
      "source": [
        "from google.colab import drive\n",
        "import pandas as pd\n",
        "\n",
        "# This will prompt for authorization to access your Google Drive\n",
        "drive.mount('/content/drive')\n",
        "\n",
        "# Update the file path to the location where you uploaded your CSV in Google Drive\n",
        "file_path = '/content/drive/My Drive/Thesis/df-BERT.csv'\n",
        "\n",
        "# Read the CSV file\n",
        "df = pd.read_csv(file_path)"
      ]
    },
    {
      "cell_type": "code",
      "source": [
        "# Assuming df is your original DataFrame\n",
        "import pandas as pd\n",
        "import numpy as np\n",
        "from sklearn.model_selection import train_test_split\n",
        "from sklearn.preprocessing import MinMaxScaler\n",
        "from ast import literal_eval\n",
        "\n",
        "\n",
        "# Convert the 'ada_embedding_eng' column to a list of arrays if they are not already\n",
        "df[\"embeddings\"] = df[\"embeddings\"].apply(literal_eval).apply(np.array)\n",
        "\n",
        "x = df[\"embeddings\"]\n",
        "y = df['numerical_price']\n",
        "\n",
        "# First split: separate out a test set\n",
        "x_train, x_test, y_train, y_test = train_test_split(list(x), y, test_size=0.2, random_state=42)\n",
        "del df"
      ],
      "metadata": {
        "id": "CNnotTk3W2Is"
      },
      "execution_count": 4,
      "outputs": []
    },
    {
      "cell_type": "code",
      "source": [
        "import numpy as np\n",
        "import pandas as pd\n",
        "from sklearn.model_selection import KFold\n",
        "from sklearn.ensemble import RandomForestRegressor\n",
        "from sklearn.metrics import r2_score, mean_squared_error, mean_absolute_percentage_error, explained_variance_score\n",
        "from sklearn.preprocessing import StandardScaler\n",
        "\n",
        "# Function to evaluate the model\n",
        "def evaluate_model(model, X_train, X_test, y_train, y_test, scaler):\n",
        "    # Scaling y_train\n",
        "    y_train_scaled = scaler.fit_transform(np.array(y_train).reshape(-1, 1))\n",
        "\n",
        "    # Fitting the model\n",
        "    model.fit(X_train, y_train_scaled.ravel())\n",
        "\n",
        "    # Predicting and inverse transformation\n",
        "    y_pred_scaled = model.predict(X_test)\n",
        "    y_pred = scaler.inverse_transform(y_pred_scaled.reshape(-1, 1)).flatten()\n",
        "\n",
        "    # Calculate metrics\n",
        "    r2 = r2_score(y_test, y_pred)\n",
        "    mse = mean_squared_error(y_test, y_pred)\n",
        "    rmse = np.sqrt(mse)\n",
        "    mape = mean_absolute_percentage_error(y_test, y_pred)\n",
        "    ev = explained_variance_score(y_test, y_pred)\n",
        "\n",
        "    return r2, mse, rmse, mape, ev\n",
        "\n",
        "# Initialize RandomForestRegressor with basic parameters\n",
        "clf_rf_base = RandomForestRegressor(n_estimators=100, max_depth=5, random_state=42, n_jobs=-1)\n",
        "\n",
        "# Initialize StandardScaler for y\n",
        "scaler = StandardScaler()\n",
        "\n",
        "# KFold Cross-validation\n",
        "kf = KFold(n_splits=5)\n",
        "r2_scores, mse_scores, rmse_scores, mape_scores, ev_scores = [], [], [], [], []\n",
        "\n",
        "for train_index, test_index in kf.split(x_train):\n",
        "    # Use list indexing for x_train and iloc for y_train\n",
        "    X_train_fold, X_test_fold = [x_train[i] for i in train_index], [x_train[i] for i in test_index]\n",
        "    y_train_fold, y_test_fold = y_train.iloc[train_index], y_train.iloc[test_index]\n",
        "\n",
        "    r2, mse, rmse, mape, ev = evaluate_model(clf_rf_base, X_train_fold, X_test_fold, y_train_fold, y_test_fold, scaler)\n",
        "    r2_scores.append(r2)\n",
        "    mse_scores.append(mse)\n",
        "    rmse_scores.append(rmse)\n",
        "    mape_scores.append(mape)\n",
        "    ev_scores.append(ev)\n",
        "\n",
        "# Calculate and print average scores\n",
        "avg_r2 = np.mean(r2_scores)\n",
        "avg_mse = np.mean(mse_scores)\n",
        "avg_rmse = np.mean(rmse_scores)\n",
        "avg_mape = np.mean(mape_scores)\n",
        "avg_ev = np.mean(ev_scores)\n",
        "\n",
        "print(\"Average R2:\", avg_r2, \"Average MSE:\", avg_mse, \"Average RMSE:\", avg_rmse, \"Average MAPE:\", avg_mape, \"Average Explained Variance:\", avg_ev)\n"
      ],
      "metadata": {
        "colab": {
          "base_uri": "https://localhost:8080/"
        },
        "id": "X-M8Wb2PW9dR",
        "outputId": "ff100154-209e-4f3c-e2d6-e3fbda23d6e6"
      },
      "execution_count": 5,
      "outputs": [
        {
          "output_type": "stream",
          "name": "stdout",
          "text": [
            "Average R2: 0.13231919085160435 Average MSE: 150134505628.53464 Average RMSE: 387466.0582351073 Average MAPE: 0.4519170974280195 Average Explained Variance: 0.1323796535244612\n"
          ]
        }
      ]
    }
  ]
}