{
  "nbformat": 4,
  "nbformat_minor": 0,
  "metadata": {
    "colab": {
      "provenance": []
    },
    "kernelspec": {
      "name": "python3",
      "display_name": "Python 3"
    },
    "language_info": {
      "name": "python"
    }
  },
  "cells": [
    {
      "cell_type": "code",
      "execution_count": 1,
      "metadata": {
        "colab": {
          "base_uri": "https://localhost:8080/"
        },
        "id": "jkerdchXONFL",
        "outputId": "499994ec-914b-4752-a17a-2dd05b70ef67"
      },
      "outputs": [
        {
          "output_type": "stream",
          "name": "stdout",
          "text": [
            "Mounted at /content/drive\n"
          ]
        },
        {
          "output_type": "execute_result",
          "data": {
            "text/plain": [
              "['price',\n",
              " 'address',\n",
              " 'descrip',\n",
              " 'listed_since',\n",
              " 'zip_code',\n",
              " 'size',\n",
              " 'year',\n",
              " 'living_area',\n",
              " 'kind_of_house',\n",
              " 'building_type',\n",
              " 'num_of_rooms',\n",
              " 'num_of_bathrooms',\n",
              " 'layout',\n",
              " 'energy_label',\n",
              " 'insulation',\n",
              " 'heating',\n",
              " 'ownership',\n",
              " 'exteriors',\n",
              " 'parking',\n",
              " 'date_list',\n",
              " 'last_ask_price',\n",
              " 'last_ask_price_m2',\n",
              " 'city',\n",
              " 'log_id',\n",
              " 'num of tokens per descrip',\n",
              " 'descrip_en',\n",
              " 'numerical_price',\n",
              " 'numerical_price_per_m2',\n",
              " 'tag',\n",
              " 'house_category',\n",
              " 'living_area_float',\n",
              " 'size_float',\n",
              " 'zip_code_4_digits',\n",
              " 'postcode',\n",
              " 'latitude',\n",
              " 'longitude',\n",
              " 'embeddings']"
            ]
          },
          "metadata": {},
          "execution_count": 1
        }
      ],
      "source": [
        "from google.colab import drive\n",
        "import pandas as pd\n",
        "\n",
        "# This will prompt for authorization to access your Google Drive\n",
        "drive.mount('/content/drive')\n",
        "\n",
        "# Update the file path to the location where you uploaded your CSV in Google Drive\n",
        "file_path = '/content/drive/My Drive/Thesis/df-BERT.csv'\n",
        "\n",
        "# Read the CSV file\n",
        "df = pd.read_csv(file_path)\n",
        "\n",
        "# Drop the first column (if it's an unwanted index column)\n",
        "df = df.drop(df.columns[0], axis=1)\n",
        "\n",
        "# Display the column names\n",
        "df.columns.tolist()\n"
      ]
    },
    {
      "cell_type": "code",
      "source": [
        "# Assuming df is your original DataFrame\n",
        "import pandas as pd\n",
        "import numpy as np\n",
        "from sklearn.model_selection import train_test_split\n",
        "from sklearn.preprocessing import MinMaxScaler\n",
        "from ast import literal_eval\n",
        "\n",
        "\n",
        "# Convert the 'ada_embedding_eng' column to a list of arrays if they are not already\n",
        "df[\"embeddings\"] = df[\"embeddings\"].apply(literal_eval).apply(np.array)\n",
        "\n",
        "x = df[\"embeddings\"]\n",
        "y = df['numerical_price']\n",
        "\n",
        "\n",
        "###### deleting original dataframe for memory purpose ####\n",
        "del df"
      ],
      "metadata": {
        "id": "i4b0vzOoObCo"
      },
      "execution_count": 2,
      "outputs": []
    },
    {
      "cell_type": "code",
      "source": [
        "x = x.apply(pd.Series)\n",
        "\n",
        "# First split: separate out a test set\n",
        "x_train, x_test, y_train, y_test = train_test_split(x, y, test_size=0.2, random_state=42)\n",
        "\n",
        "# Now, sample 10000 instances from the remaining training set for hyperparameter tuning\n",
        "x_train = x_train.sample(10000, random_state=42)\n",
        "y_train = y_train.loc[x_train.index]"
      ],
      "metadata": {
        "id": "2mgp00RbOfBC"
      },
      "execution_count": 3,
      "outputs": []
    },
    {
      "cell_type": "code",
      "source": [
        "\n",
        "!pip install optuna\n",
        "from tensorflow.keras.models import Sequential\n",
        "from tensorflow.keras.layers import Dense\n",
        "from tensorflow.keras.optimizers import Adam\n",
        "from tensorflow.keras.regularizers import l1, l2, l1_l2\n",
        "from sklearn.metrics import r2_score\n",
        "from sklearn.model_selection import KFold\n",
        "from sklearn.preprocessing import StandardScaler\n",
        "import numpy as np\n",
        "import optuna\n",
        "\n",
        "def Objective_nn(trial):\n",
        "    # Hyperparameters to tune\n",
        "    learning_rate = trial.suggest_float(\"learning_rate\", 0.0001, 0.01, log=False)\n",
        "    neurons_layer_1 = trial.suggest_int(\"neurons_layer_1\", 16, 1024, step=16)\n",
        "    neurons_layer_2 = trial.suggest_int(\"neurons_layer_2\", 16, 512, step=16)\n",
        "    neurons_layer_3 = trial.suggest_int(\"neurons_layer_3\", 16, 256, step=16)\n",
        "    batch_size = trial.suggest_categorical(\"batch_size\", [16, 32, 64, 128])\n",
        "    epochs = trial.suggest_int(\"epochs\", 5, 100)\n",
        "    regularization = trial.suggest_categorical(\"regularization\", [\"none\", \"l1\", \"l2\", \"l1_l2\"])\n",
        "    l1_reg = trial.suggest_float(\"l1_reg\", 1e-5, 1e-1, log=True) if regularization in [\"l1\", \"l1_l2\"] else 0\n",
        "    l2_reg = trial.suggest_float(\"l2_reg\", 1e-5, 1e-1, log=True) if regularization in [\"l2\", \"l1_l2\"] else 0\n",
        "\n",
        "    # KFold Cross-validation\n",
        "    kf = KFold(n_splits=5)\n",
        "    r2_scores = []\n",
        "\n",
        "    for train_index, test_index in kf.split(x_train):\n",
        "        X_train_fold, X_test_fold = x_train[train_index], x_train[test_index]\n",
        "        y_train_fold, y_test_fold = y_train[train_index], y_train[test_index]\n",
        "\n",
        "\n",
        "\n",
        "        # Build model\n",
        "        model = Sequential()\n",
        "        model.add(Dense(neurons_layer_1, activation='relu', input_shape=(X_train_fold.shape[1],),\n",
        "                        kernel_regularizer=l1_l2(l1=l1_reg, l2=l2_reg) if regularization != \"none\" else None))\n",
        "        model.add(Dense(neurons_layer_2, activation='relu',\n",
        "                        kernel_regularizer=l1_l2(l1=l1_reg, l2=l2_reg) if regularization != \"none\" else None))\n",
        "        model.add(Dense(neurons_layer_3, activation='relu',\n",
        "                        kernel_regularizer=l1_l2(l1=l1_reg, l2=l2_reg) if regularization != \"none\" else None))\n",
        "        model.add(Dense(1, activation='linear'))\n",
        "\n",
        "        # Compile model\n",
        "        optimizer = Adam(learning_rate=learning_rate)\n",
        "        model.compile(optimizer=optimizer, loss='mean_squared_error')\n",
        "\n",
        "        # Scaling y_train\n",
        "        scaler = StandardScaler()\n",
        "        y_train_scaled = scaler.fit_transform(y_train_fold.reshape(-1, 1)).flatten()\n",
        "\n",
        "        # Train model\n",
        "        model.fit(X_train_fold, y_train_scaled, epochs=epochs, batch_size=batch_size, verbose=0)\n",
        "\n",
        "        # Predict and evaluate\n",
        "        y_pred_scaled = model.predict(X_test_fold)\n",
        "        y_pred = scaler.inverse_transform(y_pred_scaled.reshape(-1, 1)).flatten()\n",
        "\n",
        "        r2 = r2_score(y_test_fold, y_pred)\n",
        "        r2_scores.append(r2)\n",
        "\n",
        "    return np.mean(r2_scores)\n"
      ],
      "metadata": {
        "colab": {
          "base_uri": "https://localhost:8080/"
        },
        "id": "BOge_QdIOooF",
        "outputId": "838dab38-75b4-4b50-8435-601f3fa2940a"
      },
      "execution_count": 4,
      "outputs": [
        {
          "output_type": "stream",
          "name": "stdout",
          "text": [
            "Collecting optuna\n",
            "  Downloading optuna-3.5.0-py3-none-any.whl (413 kB)\n",
            "\u001b[2K     \u001b[90m━━━━━━━━━━━━━━━━━━━━━━━━━━━━━━━━━━━━━━━━\u001b[0m \u001b[32m413.4/413.4 kB\u001b[0m \u001b[31m5.4 MB/s\u001b[0m eta \u001b[36m0:00:00\u001b[0m\n",
            "\u001b[?25hCollecting alembic>=1.5.0 (from optuna)\n",
            "  Downloading alembic-1.13.1-py3-none-any.whl (233 kB)\n",
            "\u001b[2K     \u001b[90m━━━━━━━━━━━━━━━━━━━━━━━━━━━━━━━━━━━━━━━━\u001b[0m \u001b[32m233.4/233.4 kB\u001b[0m \u001b[31m8.8 MB/s\u001b[0m eta \u001b[36m0:00:00\u001b[0m\n",
            "\u001b[?25hCollecting colorlog (from optuna)\n",
            "  Downloading colorlog-6.8.0-py3-none-any.whl (11 kB)\n",
            "Requirement already satisfied: numpy in /usr/local/lib/python3.10/dist-packages (from optuna) (1.23.5)\n",
            "Requirement already satisfied: packaging>=20.0 in /usr/local/lib/python3.10/dist-packages (from optuna) (23.2)\n",
            "Requirement already satisfied: sqlalchemy>=1.3.0 in /usr/local/lib/python3.10/dist-packages (from optuna) (2.0.23)\n",
            "Requirement already satisfied: tqdm in /usr/local/lib/python3.10/dist-packages (from optuna) (4.66.1)\n",
            "Requirement already satisfied: PyYAML in /usr/local/lib/python3.10/dist-packages (from optuna) (6.0.1)\n",
            "Collecting Mako (from alembic>=1.5.0->optuna)\n",
            "  Downloading Mako-1.3.0-py3-none-any.whl (78 kB)\n",
            "\u001b[2K     \u001b[90m━━━━━━━━━━━━━━━━━━━━━━━━━━━━━━━━━━━━━━━━\u001b[0m \u001b[32m78.6/78.6 kB\u001b[0m \u001b[31m10.7 MB/s\u001b[0m eta \u001b[36m0:00:00\u001b[0m\n",
            "\u001b[?25hRequirement already satisfied: typing-extensions>=4 in /usr/local/lib/python3.10/dist-packages (from alembic>=1.5.0->optuna) (4.5.0)\n",
            "Requirement already satisfied: greenlet!=0.4.17 in /usr/local/lib/python3.10/dist-packages (from sqlalchemy>=1.3.0->optuna) (3.0.2)\n",
            "Requirement already satisfied: MarkupSafe>=0.9.2 in /usr/local/lib/python3.10/dist-packages (from Mako->alembic>=1.5.0->optuna) (2.1.3)\n",
            "Installing collected packages: Mako, colorlog, alembic, optuna\n",
            "Successfully installed Mako-1.3.0 alembic-1.13.1 colorlog-6.8.0 optuna-3.5.0\n"
          ]
        }
      ]
    },
    {
      "cell_type": "code",
      "source": [
        "import numpy as np\n",
        "\n",
        "# Convert x_train and x_test to numpy arrays\n",
        "x_train = np.array(x_train)\n",
        "x_test = np.array(x_test)\n",
        "\n",
        "\n",
        "print(\"x_train shape:\", x_train.shape)\n",
        "print(\"x_test shape:\", x_test.shape)\n",
        "print(\"y_train shape:\", y_train.shape)\n",
        "print(\"y_test shape:\", y_test.shape)\n",
        "\n",
        "\n",
        "\n",
        "y_train = np.ravel(y_train)\n",
        "y_test = np.ravel(y_test)\n",
        "\n",
        "\n",
        "print(\"Adjusted y_train shape:\", y_train.shape)\n",
        "print(\"Adjusted y_test shape:\", y_test.shape)\n"
      ],
      "metadata": {
        "colab": {
          "base_uri": "https://localhost:8080/"
        },
        "id": "nvZ8UfQoOqie",
        "outputId": "403493ab-fe10-4176-f690-1f38df243648"
      },
      "execution_count": 5,
      "outputs": [
        {
          "output_type": "stream",
          "name": "stdout",
          "text": [
            "x_train shape: (10000, 768)\n",
            "x_test shape: (14403, 768)\n",
            "y_train shape: (10000,)\n",
            "y_test shape: (14403,)\n",
            "Adjusted y_train shape: (10000,)\n",
            "Adjusted y_test shape: (14403,)\n"
          ]
        }
      ]
    },
    {
      "cell_type": "code",
      "source": [
        "study_svr = optuna.create_study(directions=['maximize'])\n",
        "study_svr.optimize(Objective_nn, n_trials=50)"
      ],
      "metadata": {
        "colab": {
          "base_uri": "https://localhost:8080/"
        },
        "id": "oX1bUAO2OsTQ",
        "outputId": "d06b49f8-cf17-4cef-80bf-e43a201d7993"
      },
      "execution_count": 6,
      "outputs": [
        {
          "output_type": "stream",
          "name": "stderr",
          "text": [
            "[I 2024-01-07 09:29:24,742] A new study created in memory with name: no-name-e4bca0de-2ded-4aa1-96d2-a63a3dcef6aa\n"
          ]
        },
        {
          "output_type": "stream",
          "name": "stdout",
          "text": [
            "63/63 [==============================] - 0s 4ms/step\n",
            "63/63 [==============================] - 0s 3ms/step\n",
            "63/63 [==============================] - 0s 3ms/step\n",
            "63/63 [==============================] - 0s 3ms/step\n",
            "63/63 [==============================] - 0s 3ms/step\n"
          ]
        },
        {
          "output_type": "stream",
          "name": "stderr",
          "text": [
            "[I 2024-01-07 09:48:14,080] Trial 0 finished with value: 0.17230871467793446 and parameters: {'learning_rate': 0.006410519719590453, 'neurons_layer_1': 576, 'neurons_layer_2': 496, 'neurons_layer_3': 128, 'batch_size': 32, 'epochs': 100, 'regularization': 'none'}. Best is trial 0 with value: 0.17230871467793446.\n"
          ]
        },
        {
          "output_type": "stream",
          "name": "stdout",
          "text": [
            "63/63 [==============================] - 0s 3ms/step\n",
            "63/63 [==============================] - 0s 4ms/step\n",
            "63/63 [==============================] - 0s 3ms/step\n",
            "63/63 [==============================] - 0s 3ms/step\n",
            "63/63 [==============================] - 0s 3ms/step\n"
          ]
        },
        {
          "output_type": "stream",
          "name": "stderr",
          "text": [
            "[I 2024-01-07 09:53:40,347] Trial 1 finished with value: -0.0011144915670725287 and parameters: {'learning_rate': 0.00603420825876952, 'neurons_layer_1': 944, 'neurons_layer_2': 96, 'neurons_layer_3': 240, 'batch_size': 32, 'epochs': 25, 'regularization': 'l1', 'l1_reg': 0.0010427509208568132}. Best is trial 0 with value: 0.17230871467793446.\n"
          ]
        },
        {
          "output_type": "stream",
          "name": "stdout",
          "text": [
            "63/63 [==============================] - 0s 3ms/step\n",
            "63/63 [==============================] - 0s 3ms/step\n",
            "63/63 [==============================] - 0s 5ms/step\n",
            "63/63 [==============================] - 0s 3ms/step\n",
            "63/63 [==============================] - 0s 3ms/step\n"
          ]
        },
        {
          "output_type": "stream",
          "name": "stderr",
          "text": [
            "[I 2024-01-07 10:01:28,237] Trial 2 finished with value: -0.001251833300105387 and parameters: {'learning_rate': 0.007699167338210414, 'neurons_layer_1': 800, 'neurons_layer_2': 368, 'neurons_layer_3': 16, 'batch_size': 64, 'epochs': 56, 'regularization': 'l2', 'l2_reg': 0.02246508747421508}. Best is trial 0 with value: 0.17230871467793446.\n"
          ]
        },
        {
          "output_type": "stream",
          "name": "stdout",
          "text": [
            "63/63 [==============================] - 0s 2ms/step\n",
            "63/63 [==============================] - 0s 2ms/step\n",
            "63/63 [==============================] - 0s 2ms/step\n",
            "63/63 [==============================] - 0s 2ms/step\n",
            "63/63 [==============================] - 0s 2ms/step\n"
          ]
        },
        {
          "output_type": "stream",
          "name": "stderr",
          "text": [
            "[I 2024-01-07 10:04:07,699] Trial 3 finished with value: -0.00361699480867963 and parameters: {'learning_rate': 0.0077970346932326635, 'neurons_layer_1': 112, 'neurons_layer_2': 240, 'neurons_layer_3': 144, 'batch_size': 16, 'epochs': 17, 'regularization': 'l2', 'l2_reg': 1.1187505556931501e-05}. Best is trial 0 with value: 0.17230871467793446.\n"
          ]
        },
        {
          "output_type": "stream",
          "name": "stdout",
          "text": [
            "63/63 [==============================] - 0s 2ms/step\n",
            "63/63 [==============================] - 0s 3ms/step\n",
            "63/63 [==============================] - 0s 3ms/step\n",
            "63/63 [==============================] - 0s 4ms/step\n",
            "63/63 [==============================] - 0s 4ms/step\n"
          ]
        },
        {
          "output_type": "stream",
          "name": "stderr",
          "text": [
            "[I 2024-01-07 10:18:00,067] Trial 4 finished with value: -0.0010187407621613965 and parameters: {'learning_rate': 0.00205718903973304, 'neurons_layer_1': 624, 'neurons_layer_2': 272, 'neurons_layer_3': 240, 'batch_size': 32, 'epochs': 79, 'regularization': 'l2', 'l2_reg': 0.04020637274195791}. Best is trial 0 with value: 0.17230871467793446.\n"
          ]
        },
        {
          "output_type": "stream",
          "name": "stdout",
          "text": [
            "63/63 [==============================] - 0s 3ms/step\n",
            "63/63 [==============================] - 0s 3ms/step\n",
            "63/63 [==============================] - 0s 3ms/step\n",
            "63/63 [==============================] - 0s 4ms/step\n",
            "63/63 [==============================] - 0s 4ms/step\n"
          ]
        },
        {
          "output_type": "stream",
          "name": "stderr",
          "text": [
            "[I 2024-01-07 10:32:06,290] Trial 5 finished with value: 0.29646830660118234 and parameters: {'learning_rate': 0.0011206870096408714, 'neurons_layer_1': 1024, 'neurons_layer_2': 368, 'neurons_layer_3': 192, 'batch_size': 128, 'epochs': 95, 'regularization': 'l2', 'l2_reg': 2.5760622657514667e-05}. Best is trial 5 with value: 0.29646830660118234.\n"
          ]
        },
        {
          "output_type": "stream",
          "name": "stdout",
          "text": [
            "63/63 [==============================] - 0s 4ms/step\n",
            "63/63 [==============================] - 0s 4ms/step\n",
            "63/63 [==============================] - 0s 2ms/step\n",
            "63/63 [==============================] - 0s 4ms/step\n",
            "63/63 [==============================] - 0s 3ms/step\n"
          ]
        },
        {
          "output_type": "stream",
          "name": "stderr",
          "text": [
            "[I 2024-01-07 11:00:29,052] Trial 6 finished with value: 0.05876529158206347 and parameters: {'learning_rate': 0.0016787743112210032, 'neurons_layer_1': 848, 'neurons_layer_2': 96, 'neurons_layer_3': 192, 'batch_size': 16, 'epochs': 95, 'regularization': 'l2', 'l2_reg': 0.00039298273170939696}. Best is trial 5 with value: 0.29646830660118234.\n"
          ]
        },
        {
          "output_type": "stream",
          "name": "stdout",
          "text": [
            "63/63 [==============================] - 0s 3ms/step\n",
            "63/63 [==============================] - 0s 3ms/step\n",
            "63/63 [==============================] - 0s 3ms/step\n",
            "63/63 [==============================] - 0s 3ms/step\n",
            "63/63 [==============================] - 0s 3ms/step\n"
          ]
        },
        {
          "output_type": "stream",
          "name": "stderr",
          "text": [
            "[I 2024-01-07 11:17:04,380] Trial 7 finished with value: 0.23829880606481896 and parameters: {'learning_rate': 0.001662735608497661, 'neurons_layer_1': 832, 'neurons_layer_2': 288, 'neurons_layer_3': 224, 'batch_size': 32, 'epochs': 73, 'regularization': 'l2', 'l2_reg': 0.0009536415929199143}. Best is trial 5 with value: 0.29646830660118234.\n"
          ]
        },
        {
          "output_type": "stream",
          "name": "stdout",
          "text": [
            "63/63 [==============================] - 0s 2ms/step\n",
            "63/63 [==============================] - 0s 2ms/step\n",
            "63/63 [==============================] - 0s 2ms/step\n",
            "63/63 [==============================] - 0s 2ms/step\n",
            "63/63 [==============================] - 0s 3ms/step\n"
          ]
        },
        {
          "output_type": "stream",
          "name": "stderr",
          "text": [
            "[I 2024-01-07 11:25:48,686] Trial 8 finished with value: -0.0035467940115095687 and parameters: {'learning_rate': 0.004613392804220472, 'neurons_layer_1': 384, 'neurons_layer_2': 112, 'neurons_layer_3': 96, 'batch_size': 16, 'epochs': 45, 'regularization': 'l1_l2', 'l1_reg': 0.005616364616798994, 'l2_reg': 0.0005764948954015442}. Best is trial 5 with value: 0.29646830660118234.\n"
          ]
        },
        {
          "output_type": "stream",
          "name": "stdout",
          "text": [
            "63/63 [==============================] - 0s 2ms/step\n",
            "63/63 [==============================] - 0s 2ms/step\n",
            "63/63 [==============================] - 0s 3ms/step\n",
            "63/63 [==============================] - 0s 2ms/step\n",
            "63/63 [==============================] - 0s 3ms/step\n"
          ]
        },
        {
          "output_type": "stream",
          "name": "stderr",
          "text": [
            "[I 2024-01-07 11:31:42,161] Trial 9 finished with value: -0.0020435630398977 and parameters: {'learning_rate': 0.007440575642427498, 'neurons_layer_1': 576, 'neurons_layer_2': 96, 'neurons_layer_3': 224, 'batch_size': 64, 'epochs': 72, 'regularization': 'l1', 'l1_reg': 0.0009990192634316212}. Best is trial 5 with value: 0.29646830660118234.\n"
          ]
        },
        {
          "output_type": "stream",
          "name": "stdout",
          "text": [
            "63/63 [==============================] - 0s 2ms/step\n",
            "63/63 [==============================] - 0s 2ms/step\n",
            "63/63 [==============================] - 0s 3ms/step\n",
            "63/63 [==============================] - 0s 2ms/step\n",
            "63/63 [==============================] - 0s 2ms/step\n"
          ]
        },
        {
          "output_type": "stream",
          "name": "stderr",
          "text": [
            "[I 2024-01-07 11:33:45,120] Trial 10 finished with value: 0.34905287884566 and parameters: {'learning_rate': 0.00027340274374626527, 'neurons_layer_1': 336, 'neurons_layer_2': 512, 'neurons_layer_3': 64, 'batch_size': 128, 'epochs': 39, 'regularization': 'none'}. Best is trial 10 with value: 0.34905287884566.\n"
          ]
        },
        {
          "output_type": "stream",
          "name": "stdout",
          "text": [
            "63/63 [==============================] - 0s 2ms/step\n",
            "63/63 [==============================] - 0s 2ms/step\n",
            "63/63 [==============================] - 0s 3ms/step\n",
            "63/63 [==============================] - 0s 2ms/step\n",
            "63/63 [==============================] - 0s 2ms/step\n"
          ]
        },
        {
          "output_type": "stream",
          "name": "stderr",
          "text": [
            "[I 2024-01-07 11:35:24,079] Trial 11 finished with value: 0.36859788248023906 and parameters: {'learning_rate': 0.00011537517874580153, 'neurons_layer_1': 240, 'neurons_layer_2': 512, 'neurons_layer_3': 48, 'batch_size': 128, 'epochs': 40, 'regularization': 'none'}. Best is trial 11 with value: 0.36859788248023906.\n"
          ]
        },
        {
          "output_type": "stream",
          "name": "stdout",
          "text": [
            "63/63 [==============================] - 0s 2ms/step\n",
            "63/63 [==============================] - 0s 3ms/step\n",
            "63/63 [==============================] - 0s 3ms/step\n",
            "63/63 [==============================] - 0s 2ms/step\n",
            "63/63 [==============================] - 0s 2ms/step\n"
          ]
        },
        {
          "output_type": "stream",
          "name": "stderr",
          "text": [
            "[I 2024-01-07 11:36:51,306] Trial 12 finished with value: 0.35361000370843865 and parameters: {'learning_rate': 0.00019857674785979867, 'neurons_layer_1': 224, 'neurons_layer_2': 512, 'neurons_layer_3': 32, 'batch_size': 128, 'epochs': 37, 'regularization': 'none'}. Best is trial 11 with value: 0.36859788248023906.\n"
          ]
        },
        {
          "output_type": "stream",
          "name": "stdout",
          "text": [
            "63/63 [==============================] - 0s 2ms/step\n",
            "63/63 [==============================] - 0s 1ms/step\n",
            "63/63 [==============================] - 0s 1ms/step\n",
            "63/63 [==============================] - 0s 1ms/step\n",
            "63/63 [==============================] - 0s 2ms/step\n"
          ]
        },
        {
          "output_type": "stream",
          "name": "stderr",
          "text": [
            "[I 2024-01-07 11:37:39,623] Trial 13 finished with value: 0.05522272303506433 and parameters: {'learning_rate': 0.0036258546436609314, 'neurons_layer_1': 64, 'neurons_layer_2': 432, 'neurons_layer_3': 16, 'batch_size': 128, 'epochs': 32, 'regularization': 'none'}. Best is trial 11 with value: 0.36859788248023906.\n"
          ]
        },
        {
          "output_type": "stream",
          "name": "stdout",
          "text": [
            "63/63 [==============================] - 0s 2ms/step\n",
            "63/63 [==============================] - 0s 2ms/step\n",
            "63/63 [==============================] - 0s 3ms/step\n",
            "63/63 [==============================] - 0s 2ms/step\n",
            "63/63 [==============================] - 0s 3ms/step\n"
          ]
        },
        {
          "output_type": "stream",
          "name": "stderr",
          "text": [
            "[I 2024-01-07 11:38:10,619] Trial 14 finished with value: 0.136612422507443 and parameters: {'learning_rate': 0.009654518116943445, 'neurons_layer_1': 240, 'neurons_layer_2': 448, 'neurons_layer_3': 64, 'batch_size': 128, 'epochs': 11, 'regularization': 'none'}. Best is trial 11 with value: 0.36859788248023906.\n"
          ]
        },
        {
          "output_type": "stream",
          "name": "stdout",
          "text": [
            "63/63 [==============================] - 0s 2ms/step\n",
            "63/63 [==============================] - 0s 2ms/step\n",
            "63/63 [==============================] - 0s 2ms/step\n",
            "63/63 [==============================] - 0s 2ms/step\n",
            "63/63 [==============================] - 0s 2ms/step\n"
          ]
        },
        {
          "output_type": "stream",
          "name": "stderr",
          "text": [
            "[I 2024-01-07 11:40:18,260] Trial 15 finished with value: 0.3813594637670847 and parameters: {'learning_rate': 0.00013189685881053736, 'neurons_layer_1': 240, 'neurons_layer_2': 384, 'neurons_layer_3': 48, 'batch_size': 128, 'epochs': 57, 'regularization': 'none'}. Best is trial 15 with value: 0.3813594637670847.\n"
          ]
        },
        {
          "output_type": "stream",
          "name": "stdout",
          "text": [
            "63/63 [==============================] - 0s 3ms/step\n",
            "63/63 [==============================] - 0s 2ms/step\n",
            "63/63 [==============================] - 0s 2ms/step\n",
            "63/63 [==============================] - 0s 4ms/step\n",
            "63/63 [==============================] - 0s 2ms/step\n"
          ]
        },
        {
          "output_type": "stream",
          "name": "stderr",
          "text": [
            "[I 2024-01-07 11:43:43,878] Trial 16 finished with value: 0.1368248403908663 and parameters: {'learning_rate': 0.0030762338116188757, 'neurons_layer_1': 400, 'neurons_layer_2': 384, 'neurons_layer_3': 64, 'batch_size': 128, 'epochs': 57, 'regularization': 'l1_l2', 'l1_reg': 1.9169787270498788e-05, 'l2_reg': 0.006520027129134498}. Best is trial 15 with value: 0.3813594637670847.\n"
          ]
        },
        {
          "output_type": "stream",
          "name": "stdout",
          "text": [
            "63/63 [==============================] - 0s 2ms/step\n",
            "63/63 [==============================] - 0s 2ms/step\n",
            "63/63 [==============================] - 0s 2ms/step\n",
            "63/63 [==============================] - 0s 2ms/step\n",
            "63/63 [==============================] - 0s 2ms/step\n"
          ]
        },
        {
          "output_type": "stream",
          "name": "stderr",
          "text": [
            "[I 2024-01-07 11:45:24,754] Trial 17 finished with value: 0.3158249832374114 and parameters: {'learning_rate': 0.0026987542981345746, 'neurons_layer_1': 160, 'neurons_layer_2': 208, 'neurons_layer_3': 112, 'batch_size': 128, 'epochs': 64, 'regularization': 'none'}. Best is trial 15 with value: 0.3813594637670847.\n"
          ]
        },
        {
          "output_type": "stream",
          "name": "stdout",
          "text": [
            "63/63 [==============================] - 0s 3ms/step\n",
            "63/63 [==============================] - 0s 2ms/step\n",
            "63/63 [==============================] - 0s 3ms/step\n",
            "63/63 [==============================] - 0s 2ms/step\n",
            "63/63 [==============================] - 0s 2ms/step\n"
          ]
        },
        {
          "output_type": "stream",
          "name": "stderr",
          "text": [
            "[I 2024-01-07 11:48:15,957] Trial 18 finished with value: 0.2778357912818319 and parameters: {'learning_rate': 0.004070300877416074, 'neurons_layer_1': 448, 'neurons_layer_2': 448, 'neurons_layer_3': 48, 'batch_size': 128, 'epochs': 48, 'regularization': 'none'}. Best is trial 15 with value: 0.3813594637670847.\n"
          ]
        },
        {
          "output_type": "stream",
          "name": "stdout",
          "text": [
            "63/63 [==============================] - 0s 2ms/step\n",
            "63/63 [==============================] - 0s 1ms/step\n",
            "63/63 [==============================] - 0s 1ms/step\n",
            "63/63 [==============================] - 0s 2ms/step\n",
            "63/63 [==============================] - 0s 1ms/step\n"
          ]
        },
        {
          "output_type": "stream",
          "name": "stderr",
          "text": [
            "[I 2024-01-07 11:48:58,239] Trial 19 finished with value: 0.12411967175666978 and parameters: {'learning_rate': 0.0007269690255291278, 'neurons_layer_1': 16, 'neurons_layer_2': 336, 'neurons_layer_3': 96, 'batch_size': 64, 'epochs': 23, 'regularization': 'none'}. Best is trial 15 with value: 0.3813594637670847.\n"
          ]
        },
        {
          "output_type": "stream",
          "name": "stdout",
          "text": [
            "63/63 [==============================] - 0s 2ms/step\n",
            "63/63 [==============================] - 0s 2ms/step\n",
            "63/63 [==============================] - 0s 3ms/step\n",
            "63/63 [==============================] - 0s 2ms/step\n",
            "63/63 [==============================] - 0s 2ms/step\n"
          ]
        },
        {
          "output_type": "stream",
          "name": "stderr",
          "text": [
            "[I 2024-01-07 11:49:16,743] Trial 20 finished with value: -0.0009039636845746379 and parameters: {'learning_rate': 0.002446094594774054, 'neurons_layer_1': 288, 'neurons_layer_2': 192, 'neurons_layer_3': 160, 'batch_size': 128, 'epochs': 5, 'regularization': 'l1_l2', 'l1_reg': 0.055308068816184594, 'l2_reg': 9.305440145526971e-05}. Best is trial 15 with value: 0.3813594637670847.\n"
          ]
        },
        {
          "output_type": "stream",
          "name": "stdout",
          "text": [
            "63/63 [==============================] - 0s 2ms/step\n",
            "63/63 [==============================] - 0s 2ms/step\n",
            "63/63 [==============================] - 0s 3ms/step\n",
            "63/63 [==============================] - 0s 3ms/step\n",
            "63/63 [==============================] - 0s 3ms/step\n"
          ]
        },
        {
          "output_type": "stream",
          "name": "stderr",
          "text": [
            "[I 2024-01-07 11:50:41,194] Trial 21 finished with value: 0.3620541350745065 and parameters: {'learning_rate': 0.0001241607111442255, 'neurons_layer_1': 224, 'neurons_layer_2': 480, 'neurons_layer_3': 32, 'batch_size': 128, 'epochs': 35, 'regularization': 'none'}. Best is trial 15 with value: 0.3813594637670847.\n"
          ]
        },
        {
          "output_type": "stream",
          "name": "stdout",
          "text": [
            "63/63 [==============================] - 0s 3ms/step\n",
            "63/63 [==============================] - 0s 2ms/step\n",
            "63/63 [==============================] - 0s 2ms/step\n",
            "63/63 [==============================] - 0s 2ms/step\n",
            "63/63 [==============================] - 0s 3ms/step\n"
          ]
        },
        {
          "output_type": "stream",
          "name": "stderr",
          "text": [
            "[I 2024-01-07 11:51:39,457] Trial 22 finished with value: 0.19703307115742769 and parameters: {'learning_rate': 0.0009977278822627532, 'neurons_layer_1': 160, 'neurons_layer_2': 416, 'neurons_layer_3': 48, 'batch_size': 128, 'epochs': 31, 'regularization': 'none'}. Best is trial 15 with value: 0.3813594637670847.\n"
          ]
        },
        {
          "output_type": "stream",
          "name": "stdout",
          "text": [
            "63/63 [==============================] - 0s 2ms/step\n",
            "63/63 [==============================] - 0s 2ms/step\n",
            "63/63 [==============================] - 0s 2ms/step\n",
            "63/63 [==============================] - 0s 2ms/step\n",
            "63/63 [==============================] - 0s 2ms/step\n"
          ]
        },
        {
          "output_type": "stream",
          "name": "stderr",
          "text": [
            "[I 2024-01-07 11:54:38,781] Trial 23 finished with value: 0.3523572523419314 and parameters: {'learning_rate': 0.00011935987018720857, 'neurons_layer_1': 480, 'neurons_layer_2': 464, 'neurons_layer_3': 80, 'batch_size': 128, 'epochs': 45, 'regularization': 'none'}. Best is trial 15 with value: 0.3813594637670847.\n"
          ]
        },
        {
          "output_type": "stream",
          "name": "stdout",
          "text": [
            "63/63 [==============================] - 0s 2ms/step\n",
            "63/63 [==============================] - 0s 2ms/step\n",
            "63/63 [==============================] - 0s 2ms/step\n",
            "63/63 [==============================] - 0s 2ms/step\n",
            "63/63 [==============================] - 0s 2ms/step\n"
          ]
        },
        {
          "output_type": "stream",
          "name": "stderr",
          "text": [
            "[I 2024-01-07 11:57:03,024] Trial 24 finished with value: 0.21743811528384166 and parameters: {'learning_rate': 0.0010779829249592794, 'neurons_layer_1': 272, 'neurons_layer_2': 320, 'neurons_layer_3': 32, 'batch_size': 128, 'epochs': 62, 'regularization': 'l1', 'l1_reg': 1.6693228049787815e-05}. Best is trial 15 with value: 0.3813594637670847.\n"
          ]
        },
        {
          "output_type": "stream",
          "name": "stdout",
          "text": [
            "63/63 [==============================] - 0s 2ms/step\n",
            "63/63 [==============================] - 0s 2ms/step\n",
            "63/63 [==============================] - 0s 2ms/step\n",
            "63/63 [==============================] - 0s 2ms/step\n",
            "63/63 [==============================] - 0s 2ms/step\n"
          ]
        },
        {
          "output_type": "stream",
          "name": "stderr",
          "text": [
            "[I 2024-01-07 11:58:39,037] Trial 25 finished with value: 0.12587905136893915 and parameters: {'learning_rate': 0.001694066452363167, 'neurons_layer_1': 176, 'neurons_layer_2': 480, 'neurons_layer_3': 16, 'batch_size': 128, 'epochs': 52, 'regularization': 'none'}. Best is trial 15 with value: 0.3813594637670847.\n"
          ]
        },
        {
          "output_type": "stream",
          "name": "stdout",
          "text": [
            "63/63 [==============================] - 0s 3ms/step\n",
            "63/63 [==============================] - 0s 2ms/step\n",
            "63/63 [==============================] - 0s 2ms/step\n",
            "63/63 [==============================] - 0s 2ms/step\n",
            "63/63 [==============================] - 0s 2ms/step\n"
          ]
        },
        {
          "output_type": "stream",
          "name": "stderr",
          "text": [
            "[I 2024-01-07 12:00:25,488] Trial 26 finished with value: 0.2979777851326191 and parameters: {'learning_rate': 0.003097917462528978, 'neurons_layer_1': 320, 'neurons_layer_2': 400, 'neurons_layer_3': 48, 'batch_size': 128, 'epochs': 40, 'regularization': 'none'}. Best is trial 15 with value: 0.3813594637670847.\n"
          ]
        },
        {
          "output_type": "stream",
          "name": "stdout",
          "text": [
            "63/63 [==============================] - 0s 2ms/step\n",
            "63/63 [==============================] - 0s 2ms/step\n",
            "63/63 [==============================] - 0s 1ms/step\n",
            "63/63 [==============================] - 0s 1ms/step\n",
            "63/63 [==============================] - 0s 1ms/step\n"
          ]
        },
        {
          "output_type": "stream",
          "name": "stderr",
          "text": [
            "[I 2024-01-07 12:01:18,995] Trial 27 finished with value: 0.055150918203603204 and parameters: {'learning_rate': 0.0008699055510725858, 'neurons_layer_1': 16, 'neurons_layer_2': 480, 'neurons_layer_3': 80, 'batch_size': 64, 'epochs': 27, 'regularization': 'none'}. Best is trial 15 with value: 0.3813594637670847.\n"
          ]
        },
        {
          "output_type": "stream",
          "name": "stdout",
          "text": [
            "63/63 [==============================] - 0s 4ms/step\n",
            "63/63 [==============================] - 0s 3ms/step\n",
            "63/63 [==============================] - 0s 3ms/step\n",
            "63/63 [==============================] - 0s 2ms/step\n",
            "63/63 [==============================] - 0s 4ms/step\n"
          ]
        },
        {
          "output_type": "stream",
          "name": "stderr",
          "text": [
            "[I 2024-01-07 12:06:05,686] Trial 28 finished with value: 0.11472091105413243 and parameters: {'learning_rate': 0.002194422974459359, 'neurons_layer_1': 688, 'neurons_layer_2': 336, 'neurons_layer_3': 32, 'batch_size': 16, 'epochs': 17, 'regularization': 'none'}. Best is trial 15 with value: 0.3813594637670847.\n"
          ]
        },
        {
          "output_type": "stream",
          "name": "stdout",
          "text": [
            "63/63 [==============================] - 0s 3ms/step\n",
            "63/63 [==============================] - 0s 2ms/step\n",
            "63/63 [==============================] - 0s 2ms/step\n",
            "63/63 [==============================] - 0s 4ms/step\n",
            "63/63 [==============================] - 0s 2ms/step\n"
          ]
        },
        {
          "output_type": "stream",
          "name": "stderr",
          "text": [
            "[I 2024-01-07 12:16:46,638] Trial 29 finished with value: 0.14374159811553916 and parameters: {'learning_rate': 0.009873087518545362, 'neurons_layer_1': 528, 'neurons_layer_2': 512, 'neurons_layer_3': 128, 'batch_size': 32, 'epochs': 66, 'regularization': 'none'}. Best is trial 15 with value: 0.3813594637670847.\n"
          ]
        },
        {
          "output_type": "stream",
          "name": "stdout",
          "text": [
            "63/63 [==============================] - 0s 2ms/step\n",
            "63/63 [==============================] - 0s 2ms/step\n",
            "63/63 [==============================] - 0s 1ms/step\n",
            "63/63 [==============================] - 0s 1ms/step\n",
            "63/63 [==============================] - 0s 1ms/step\n"
          ]
        },
        {
          "output_type": "stream",
          "name": "stderr",
          "text": [
            "[I 2024-01-07 12:18:22,246] Trial 30 finished with value: 0.0241989870787098 and parameters: {'learning_rate': 0.005751193346752367, 'neurons_layer_1': 96, 'neurons_layer_2': 16, 'neurons_layer_3': 96, 'batch_size': 128, 'epochs': 85, 'regularization': 'l1', 'l1_reg': 0.00018717710762729625}. Best is trial 15 with value: 0.3813594637670847.\n"
          ]
        },
        {
          "output_type": "stream",
          "name": "stdout",
          "text": [
            "63/63 [==============================] - 0s 3ms/step\n",
            "63/63 [==============================] - 0s 3ms/step\n",
            "63/63 [==============================] - 0s 2ms/step\n",
            "63/63 [==============================] - 0s 2ms/step\n",
            "63/63 [==============================] - 0s 2ms/step\n"
          ]
        },
        {
          "output_type": "stream",
          "name": "stderr",
          "text": [
            "[I 2024-01-07 12:19:45,028] Trial 31 finished with value: 0.31059164034059866 and parameters: {'learning_rate': 0.00032269079094685433, 'neurons_layer_1': 224, 'neurons_layer_2': 512, 'neurons_layer_3': 32, 'batch_size': 128, 'epochs': 36, 'regularization': 'none'}. Best is trial 15 with value: 0.3813594637670847.\n"
          ]
        },
        {
          "output_type": "stream",
          "name": "stdout",
          "text": [
            "63/63 [==============================] - 0s 2ms/step\n",
            "63/63 [==============================] - 0s 3ms/step\n",
            "63/63 [==============================] - 0s 2ms/step\n",
            "63/63 [==============================] - 0s 2ms/step\n",
            "63/63 [==============================] - 0s 3ms/step\n"
          ]
        },
        {
          "output_type": "stream",
          "name": "stderr",
          "text": [
            "[I 2024-01-07 12:21:28,485] Trial 32 finished with value: 0.2751617595714434 and parameters: {'learning_rate': 0.00038873411906570874, 'neurons_layer_1': 208, 'neurons_layer_2': 480, 'neurons_layer_3': 32, 'batch_size': 128, 'epochs': 50, 'regularization': 'none'}. Best is trial 15 with value: 0.3813594637670847.\n"
          ]
        },
        {
          "output_type": "stream",
          "name": "stdout",
          "text": [
            "63/63 [==============================] - 0s 2ms/step\n",
            "63/63 [==============================] - 0s 2ms/step\n",
            "63/63 [==============================] - 0s 3ms/step\n",
            "63/63 [==============================] - 0s 2ms/step\n",
            "63/63 [==============================] - 0s 2ms/step\n"
          ]
        },
        {
          "output_type": "stream",
          "name": "stderr",
          "text": [
            "[I 2024-01-07 12:23:31,384] Trial 33 finished with value: 0.08109250991845489 and parameters: {'learning_rate': 0.0015133849022814626, 'neurons_layer_1': 384, 'neurons_layer_2': 416, 'neurons_layer_3': 16, 'batch_size': 128, 'epochs': 42, 'regularization': 'none'}. Best is trial 15 with value: 0.3813594637670847.\n"
          ]
        },
        {
          "output_type": "stream",
          "name": "stdout",
          "text": [
            "63/63 [==============================] - 0s 1ms/step\n",
            "63/63 [==============================] - 0s 2ms/step\n",
            "63/63 [==============================] - 0s 2ms/step\n",
            "63/63 [==============================] - 0s 2ms/step\n",
            "63/63 [==============================] - 0s 2ms/step\n"
          ]
        },
        {
          "output_type": "stream",
          "name": "stderr",
          "text": [
            "[I 2024-01-07 12:24:23,571] Trial 34 finished with value: 0.3660519570017707 and parameters: {'learning_rate': 0.00014483759776619346, 'neurons_layer_1': 112, 'neurons_layer_2': 448, 'neurons_layer_3': 48, 'batch_size': 128, 'epochs': 35, 'regularization': 'none'}. Best is trial 15 with value: 0.3813594637670847.\n"
          ]
        },
        {
          "output_type": "stream",
          "name": "stdout",
          "text": [
            "63/63 [==============================] - 0s 2ms/step\n",
            "63/63 [==============================] - 0s 2ms/step\n",
            "63/63 [==============================] - 0s 2ms/step\n",
            "63/63 [==============================] - 0s 2ms/step\n",
            "63/63 [==============================] - 0s 2ms/step\n"
          ]
        },
        {
          "output_type": "stream",
          "name": "stderr",
          "text": [
            "[I 2024-01-07 12:26:06,459] Trial 35 finished with value: -0.0008744439299163797 and parameters: {'learning_rate': 0.001270008706032071, 'neurons_layer_1': 112, 'neurons_layer_2': 448, 'neurons_layer_3': 80, 'batch_size': 32, 'epochs': 22, 'regularization': 'l1_l2', 'l1_reg': 0.04347486490026706, 'l2_reg': 0.00630221334914016}. Best is trial 15 with value: 0.3813594637670847.\n"
          ]
        },
        {
          "output_type": "stream",
          "name": "stdout",
          "text": [
            "63/63 [==============================] - 0s 2ms/step\n",
            "63/63 [==============================] - 0s 2ms/step\n",
            "63/63 [==============================] - 0s 2ms/step\n",
            "63/63 [==============================] - 0s 2ms/step\n",
            "63/63 [==============================] - 0s 2ms/step\n"
          ]
        },
        {
          "output_type": "stream",
          "name": "stderr",
          "text": [
            "[I 2024-01-07 12:28:24,129] Trial 36 finished with value: 0.29169668037196744 and parameters: {'learning_rate': 0.0007095568508540479, 'neurons_layer_1': 128, 'neurons_layer_2': 368, 'neurons_layer_3': 48, 'batch_size': 64, 'epochs': 59, 'regularization': 'none'}. Best is trial 15 with value: 0.3813594637670847.\n"
          ]
        },
        {
          "output_type": "stream",
          "name": "stdout",
          "text": [
            "63/63 [==============================] - 0s 2ms/step\n",
            "63/63 [==============================] - 0s 3ms/step\n",
            "63/63 [==============================] - 0s 2ms/step\n",
            "63/63 [==============================] - 0s 3ms/step\n",
            "63/63 [==============================] - 0s 2ms/step\n"
          ]
        },
        {
          "output_type": "stream",
          "name": "stderr",
          "text": [
            "[I 2024-01-07 12:34:09,172] Trial 37 finished with value: -0.001283410334485069 and parameters: {'learning_rate': 0.002057518566182464, 'neurons_layer_1': 320, 'neurons_layer_2': 400, 'neurons_layer_3': 64, 'batch_size': 16, 'epochs': 29, 'regularization': 'l1', 'l1_reg': 0.00011910349186557853}. Best is trial 15 with value: 0.3813594637670847.\n"
          ]
        },
        {
          "output_type": "stream",
          "name": "stdout",
          "text": [
            "63/63 [==============================] - 0s 1ms/step\n",
            "63/63 [==============================] - 0s 2ms/step\n",
            "63/63 [==============================] - 0s 1ms/step\n",
            "63/63 [==============================] - 0s 2ms/step\n",
            "63/63 [==============================] - 0s 2ms/step\n"
          ]
        },
        {
          "output_type": "stream",
          "name": "stderr",
          "text": [
            "[I 2024-01-07 12:35:24,705] Trial 38 finished with value: -0.0009293842085048798 and parameters: {'learning_rate': 0.005172370632059914, 'neurons_layer_1': 48, 'neurons_layer_2': 480, 'neurons_layer_3': 144, 'batch_size': 128, 'epochs': 54, 'regularization': 'none'}. Best is trial 15 with value: 0.3813594637670847.\n"
          ]
        },
        {
          "output_type": "stream",
          "name": "stdout",
          "text": [
            "63/63 [==============================] - 0s 3ms/step\n",
            "63/63 [==============================] - 0s 3ms/step\n",
            "63/63 [==============================] - 0s 4ms/step\n",
            "63/63 [==============================] - 0s 4ms/step\n",
            "63/63 [==============================] - 0s 2ms/step\n"
          ]
        },
        {
          "output_type": "stream",
          "name": "stderr",
          "text": [
            "[I 2024-01-07 12:41:29,679] Trial 39 finished with value: -0.000924001303910682 and parameters: {'learning_rate': 0.00648942257300825, 'neurons_layer_1': 688, 'neurons_layer_2': 368, 'neurons_layer_3': 112, 'batch_size': 32, 'epochs': 33, 'regularization': 'l2', 'l2_reg': 0.08235718413590194}. Best is trial 15 with value: 0.3813594637670847.\n"
          ]
        },
        {
          "output_type": "stream",
          "name": "stdout",
          "text": [
            "63/63 [==============================] - 0s 2ms/step\n",
            "63/63 [==============================] - 0s 2ms/step\n",
            "63/63 [==============================] - 0s 2ms/step\n",
            "63/63 [==============================] - 0s 3ms/step\n",
            "63/63 [==============================] - 0s 2ms/step\n"
          ]
        },
        {
          "output_type": "stream",
          "name": "stderr",
          "text": [
            "[I 2024-01-07 12:42:11,491] Trial 40 finished with value: 0.08478711385841127 and parameters: {'learning_rate': 0.00897612801548241, 'neurons_layer_1': 272, 'neurons_layer_2': 304, 'neurons_layer_3': 16, 'batch_size': 128, 'epochs': 18, 'regularization': 'none'}. Best is trial 15 with value: 0.3813594637670847.\n"
          ]
        },
        {
          "output_type": "stream",
          "name": "stdout",
          "text": [
            "63/63 [==============================] - 0s 2ms/step\n",
            "63/63 [==============================] - 0s 2ms/step\n",
            "63/63 [==============================] - 0s 2ms/step\n",
            "63/63 [==============================] - 0s 2ms/step\n",
            "63/63 [==============================] - 0s 2ms/step\n"
          ]
        },
        {
          "output_type": "stream",
          "name": "stderr",
          "text": [
            "[I 2024-01-07 12:43:29,497] Trial 41 finished with value: 0.35004026493106377 and parameters: {'learning_rate': 0.00014399284775590867, 'neurons_layer_1': 208, 'neurons_layer_2': 496, 'neurons_layer_3': 32, 'batch_size': 128, 'epochs': 37, 'regularization': 'none'}. Best is trial 15 with value: 0.3813594637670847.\n"
          ]
        },
        {
          "output_type": "stream",
          "name": "stdout",
          "text": [
            "63/63 [==============================] - 0s 2ms/step\n",
            "63/63 [==============================] - 0s 2ms/step\n",
            "63/63 [==============================] - 0s 2ms/step\n",
            "63/63 [==============================] - 0s 2ms/step\n",
            "63/63 [==============================] - 0s 2ms/step\n"
          ]
        },
        {
          "output_type": "stream",
          "name": "stderr",
          "text": [
            "[I 2024-01-07 12:44:55,103] Trial 42 finished with value: 0.23840604674223656 and parameters: {'learning_rate': 0.0006935139140130332, 'neurons_layer_1': 160, 'neurons_layer_2': 512, 'neurons_layer_3': 48, 'batch_size': 128, 'epochs': 43, 'regularization': 'none'}. Best is trial 15 with value: 0.3813594637670847.\n"
          ]
        },
        {
          "output_type": "stream",
          "name": "stdout",
          "text": [
            "63/63 [==============================] - 0s 2ms/step\n",
            "63/63 [==============================] - 0s 2ms/step\n",
            "63/63 [==============================] - 0s 2ms/step\n",
            "63/63 [==============================] - 0s 2ms/step\n",
            "63/63 [==============================] - 0s 2ms/step\n"
          ]
        },
        {
          "output_type": "stream",
          "name": "stderr",
          "text": [
            "[I 2024-01-07 12:47:10,018] Trial 43 finished with value: 0.19187359347126118 and parameters: {'learning_rate': 0.0014439669939842416, 'neurons_layer_1': 352, 'neurons_layer_2': 432, 'neurons_layer_3': 64, 'batch_size': 128, 'epochs': 47, 'regularization': 'none'}. Best is trial 15 with value: 0.3813594637670847.\n"
          ]
        },
        {
          "output_type": "stream",
          "name": "stdout",
          "text": [
            "63/63 [==============================] - 0s 2ms/step\n",
            "63/63 [==============================] - 0s 2ms/step\n",
            "63/63 [==============================] - 0s 2ms/step\n",
            "63/63 [==============================] - 0s 2ms/step\n",
            "63/63 [==============================] - 0s 2ms/step\n"
          ]
        },
        {
          "output_type": "stream",
          "name": "stderr",
          "text": [
            "[I 2024-01-07 12:48:02,319] Trial 44 finished with value: 0.3461159677848108 and parameters: {'learning_rate': 0.0005517697888580405, 'neurons_layer_1': 80, 'neurons_layer_2': 464, 'neurons_layer_3': 32, 'batch_size': 128, 'epochs': 34, 'regularization': 'l2', 'l2_reg': 0.00010798532612485973}. Best is trial 15 with value: 0.3813594637670847.\n"
          ]
        },
        {
          "output_type": "stream",
          "name": "stdout",
          "text": [
            "63/63 [==============================] - 0s 2ms/step\n",
            "63/63 [==============================] - 0s 2ms/step\n",
            "63/63 [==============================] - 0s 2ms/step\n",
            "63/63 [==============================] - 0s 2ms/step\n",
            "63/63 [==============================] - 0s 2ms/step\n"
          ]
        },
        {
          "output_type": "stream",
          "name": "stderr",
          "text": [
            "[I 2024-01-07 12:52:24,709] Trial 45 finished with value: 0.3344044215176951 and parameters: {'learning_rate': 0.00011633534573455302, 'neurons_layer_1': 256, 'neurons_layer_2': 496, 'neurons_layer_3': 80, 'batch_size': 16, 'epochs': 25, 'regularization': 'none'}. Best is trial 15 with value: 0.3813594637670847.\n"
          ]
        },
        {
          "output_type": "stream",
          "name": "stdout",
          "text": [
            "63/63 [==============================] - 0s 2ms/step\n",
            "63/63 [==============================] - 0s 2ms/step\n",
            "63/63 [==============================] - 0s 2ms/step\n",
            "63/63 [==============================] - 0s 2ms/step\n",
            "63/63 [==============================] - 0s 2ms/step\n"
          ]
        },
        {
          "output_type": "stream",
          "name": "stderr",
          "text": [
            "[I 2024-01-07 12:54:17,806] Trial 46 finished with value: 0.2569997193120841 and parameters: {'learning_rate': 0.0017696515638973805, 'neurons_layer_1': 416, 'neurons_layer_2': 240, 'neurons_layer_3': 192, 'batch_size': 128, 'epochs': 39, 'regularization': 'none'}. Best is trial 15 with value: 0.3813594637670847.\n"
          ]
        },
        {
          "output_type": "stream",
          "name": "stdout",
          "text": [
            "63/63 [==============================] - 0s 3ms/step\n",
            "63/63 [==============================] - 0s 2ms/step\n",
            "63/63 [==============================] - 0s 2ms/step\n",
            "63/63 [==============================] - 0s 2ms/step\n",
            "63/63 [==============================] - 0s 2ms/step\n"
          ]
        },
        {
          "output_type": "stream",
          "name": "stderr",
          "text": [
            "[I 2024-01-07 12:55:43,949] Trial 47 finished with value: -0.0008540548161573458 and parameters: {'learning_rate': 0.0011352938853132987, 'neurons_layer_1': 128, 'neurons_layer_2': 448, 'neurons_layer_3': 48, 'batch_size': 128, 'epochs': 50, 'regularization': 'l1_l2', 'l1_reg': 0.009796397315258554, 'l2_reg': 0.003233088076678859}. Best is trial 15 with value: 0.3813594637670847.\n"
          ]
        },
        {
          "output_type": "stream",
          "name": "stdout",
          "text": [
            "63/63 [==============================] - 0s 2ms/step\n",
            "63/63 [==============================] - 0s 2ms/step\n",
            "63/63 [==============================] - 0s 2ms/step\n",
            "63/63 [==============================] - 0s 2ms/step\n",
            "63/63 [==============================] - 0s 2ms/step\n"
          ]
        },
        {
          "output_type": "stream",
          "name": "stderr",
          "text": [
            "[I 2024-01-07 12:58:31,218] Trial 48 finished with value: -0.0012699828205806618 and parameters: {'learning_rate': 0.0027892612221821233, 'neurons_layer_1': 208, 'neurons_layer_2': 416, 'neurons_layer_3': 16, 'batch_size': 64, 'epochs': 55, 'regularization': 'l1', 'l1_reg': 0.000162555693355344}. Best is trial 15 with value: 0.3813594637670847.\n"
          ]
        },
        {
          "output_type": "stream",
          "name": "stdout",
          "text": [
            "63/63 [==============================] - 0s 3ms/step\n",
            "63/63 [==============================] - 0s 3ms/step\n",
            "63/63 [==============================] - 0s 3ms/step\n",
            "63/63 [==============================] - 0s 3ms/step\n",
            "63/63 [==============================] - 0s 3ms/step\n"
          ]
        },
        {
          "output_type": "stream",
          "name": "stderr",
          "text": [
            "[I 2024-01-07 13:06:23,599] Trial 49 finished with value: 0.27780302791873407 and parameters: {'learning_rate': 0.0006352288189158534, 'neurons_layer_1': 912, 'neurons_layer_2': 464, 'neurons_layer_3': 64, 'batch_size': 128, 'epochs': 71, 'regularization': 'l2', 'l2_reg': 8.78061062988445e-05}. Best is trial 15 with value: 0.3813594637670847.\n"
          ]
        }
      ]
    },
    {
      "cell_type": "code",
      "source": [
        "optuna.visualization.matplotlib.plot_optimization_history(study_svr)"
      ],
      "metadata": {
        "colab": {
          "base_uri": "https://localhost:8080/",
          "height": 531
        },
        "id": "m-Rc1CLROvLP",
        "outputId": "a17be0c5-5ca1-456b-b0d0-4cd199d778b2"
      },
      "execution_count": 7,
      "outputs": [
        {
          "output_type": "stream",
          "name": "stderr",
          "text": [
            "<ipython-input-7-b7f3a9c196e1>:1: ExperimentalWarning: plot_optimization_history is experimental (supported from v2.2.0). The interface can change in the future.\n",
            "  optuna.visualization.matplotlib.plot_optimization_history(study_svr)\n"
          ]
        },
        {
          "output_type": "execute_result",
          "data": {
            "text/plain": [
              "<Axes: title={'center': 'Optimization History Plot'}, xlabel='Trial', ylabel='Objective Value'>"
            ]
          },
          "metadata": {},
          "execution_count": 7
        },
        {
          "output_type": "display_data",
          "data": {
            "text/plain": [
              "<Figure size 640x480 with 1 Axes>"
            ],
            "image/png": "[encoded data removed]"
          },
          "metadata": {}
        }
      ]
    },
    {
      "cell_type": "code",
      "source": [
        "from optuna.visualization import matplotlib as optuna_matplotlib\n",
        "import matplotlib.pyplot as plt\n",
        "optuna.visualization.matplotlib.plot_optimization_history(study_svr)\n",
        "\n",
        "optuna.visualization.matplotlib.plot_optimization_history(study_svr)\n",
        "optuna_matplotlib.plot_optimization_history(study_svr)\n",
        "\n",
        "plt.ylim(0, 1)\n",
        "\n",
        "# Show the plot\n",
        "plt.show()"
      ],
      "metadata": {
        "colab": {
          "base_uri": "https://localhost:8080/",
          "height": 1000
        },
        "id": "CaQlhJt3Owxh",
        "outputId": "de988f36-e10f-4aaa-f141-160b36af3d7f"
      },
      "execution_count": 8,
      "outputs": [
        {
          "output_type": "stream",
          "name": "stderr",
          "text": [
            "<ipython-input-8-62749383f84c>:3: ExperimentalWarning: plot_optimization_history is experimental (supported from v2.2.0). The interface can change in the future.\n",
            "  optuna.visualization.matplotlib.plot_optimization_history(study_svr)\n",
            "<ipython-input-8-62749383f84c>:5: ExperimentalWarning: plot_optimization_history is experimental (supported from v2.2.0). The interface can change in the future.\n",
            "  optuna.visualization.matplotlib.plot_optimization_history(study_svr)\n",
            "<ipython-input-8-62749383f84c>:6: ExperimentalWarning: plot_optimization_history is experimental (supported from v2.2.0). The interface can change in the future.\n",
            "  optuna_matplotlib.plot_optimization_history(study_svr)\n"
          ]
        },
        {
          "output_type": "display_data",
          "data": {
            "text/plain": [
              "<Figure size 640x480 with 1 Axes>"
            ],
            "image/png": "[encoded data removed]"
          },
          "metadata": {}
        },
        {
          "output_type": "display_data",
          "data": {
            "text/plain": [
              "<Figure size 640x480 with 1 Axes>"
            ],
            "image/png": "[encoded data removed]"
          },
          "metadata": {}
        },
        {
          "output_type": "display_data",
          "data": {
            "text/plain": [
              "<Figure size 640x480 with 1 Axes>"
            ],
            "image/png": "[encoded data removed]"
          },
          "metadata": {}
        }
      ]
    }
  ]
}