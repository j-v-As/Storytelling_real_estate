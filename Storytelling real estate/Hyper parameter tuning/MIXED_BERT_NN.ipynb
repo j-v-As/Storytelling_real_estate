{
  "nbformat": 4,
  "nbformat_minor": 0,
  "metadata": {
    "colab": {
      "provenance": []
    },
    "kernelspec": {
      "name": "python3",
      "display_name": "Python 3"
    },
    "language_info": {
      "name": "python"
    }
  },
  "cells": [
    {
      "cell_type": "code",
      "execution_count": 1,
      "metadata": {
        "colab": {
          "base_uri": "https://localhost:8080/"
        },
        "id": "rz5CUNJIAPPx",
        "outputId": "5fd5e9eb-d51b-4fcd-d863-c4c93ac6bb02"
      },
      "outputs": [
        {
          "output_type": "stream",
          "name": "stdout",
          "text": [
            "Mounted at /content/drive\n"
          ]
        },
        {
          "output_type": "execute_result",
          "data": {
            "text/plain": [
              "['numerical_price',\n",
              " 'embeddings',\n",
              " 'num_bedrooms',\n",
              " 'num_rooms',\n",
              " 'building_type_Bestaande bouw',\n",
              " 'building_type_Nieuwbouw',\n",
              " 'building_type_na',\n",
              " 'tag_k.k.',\n",
              " 'tag_v.o.n.',\n",
              " 'house_category_Appartement',\n",
              " 'house_category_Bungalow',\n",
              " 'house_category_Eengezinswoning',\n",
              " 'house_category_Grachtenpand',\n",
              " 'house_category_Herenhuis',\n",
              " 'house_category_Landhuis',\n",
              " 'house_category_Other',\n",
              " 'house_category_Unknown',\n",
              " 'house_category_Villa',\n",
              " 'house_category_Woonboerderij',\n",
              " 'house_category_Woonboot',\n",
              " 'energy_label_encoded',\n",
              " 'size_scaled',\n",
              " 'longitude_scaled',\n",
              " 'latitude_scaled']"
            ]
          },
          "metadata": {},
          "execution_count": 1
        }
      ],
      "source": [
        "from google.colab import drive\n",
        "import pandas as pd\n",
        "\n",
        "# This will prompt for authorization to access your Google Drive\n",
        "drive.mount('/content/drive')\n",
        "\n",
        "# Update the file path to the location where you uploaded your CSV in Google Drive\n",
        "file_path = '/content/drive/My Drive/Thesis/df-BERT_cat.csv'\n",
        "\n",
        "# Read the CSV file\n",
        "df = pd.read_csv(file_path)\n",
        "\n",
        "# Drop the first column (if it's an unwanted index column)\n",
        "df = df.drop(df.columns[0], axis=1)\n",
        "\n",
        "# Display the column names\n",
        "df.columns.tolist()\n"
      ]
    },
    {
      "cell_type": "code",
      "source": [
        "import pandas as pd\n",
        "import numpy as np\n",
        "from ast import literal_eval\n",
        "\n",
        "\n",
        "\n",
        "df[\"embeddings\"] = df[\"embeddings\"].apply(literal_eval).apply(np.array)\n",
        "\n",
        "# Separating the target variable and embeddings\n",
        "x = df[\"embeddings\"]\n",
        "y = df['numerical_price']\n",
        "\n",
        "# Dropping the 'ada_embedding_eng' column from df\n",
        "z = df.drop([\"embeddings\", \"numerical_price\"], axis=1)\n",
        "\n",
        "\n",
        "# Deleting original dataframe for memory purpose\n",
        "del df\n",
        "\n",
        "# Explode the embedding arrays into separate columns\n",
        "x = x.apply(pd.Series)\n",
        "\n",
        "# Concatenating the exploded embeddings with the rest of the data\n",
        "concatenated_df = pd.concat([x, z], axis=1).reset_index(drop=True)"
      ],
      "metadata": {
        "id": "-mL293XIAX6M"
      },
      "execution_count": 2,
      "outputs": []
    },
    {
      "cell_type": "code",
      "source": [
        "concatenated_df.columns = concatenated_df.columns.astype(str)\n",
        "from sklearn.model_selection import train_test_split\n",
        "\n",
        "x_train, x_test, y_train, y_test = train_test_split(concatenated_df, y, test_size=0.2, random_state=42)\n",
        "# Now, sample 10000 instances from the remaining training set for hyperparameter tuning\n",
        "x_train = x_train.sample(10000, random_state=42)\n",
        "y_train = y_train.loc[x_train.index]\n"
      ],
      "metadata": {
        "id": "JqrBoyhUAcIc"
      },
      "execution_count": 4,
      "outputs": []
    },
    {
      "cell_type": "code",
      "source": [
        "!pip install optuna\n",
        "from tensorflow.keras.models import Sequential\n",
        "from tensorflow.keras.layers import Dense\n",
        "from tensorflow.keras.optimizers import Adam\n",
        "from tensorflow.keras.regularizers import l1, l2, l1_l2\n",
        "from sklearn.metrics import r2_score\n",
        "from sklearn.model_selection import KFold\n",
        "from sklearn.preprocessing import StandardScaler\n",
        "import numpy as np\n",
        "import optuna\n",
        "\n",
        "def Objective_nn_mixed(trial):\n",
        "    # Hyperparameters to tune\n",
        "    learning_rate = trial.suggest_float(\"learning_rate\", 0.0001, 0.01, log=False)\n",
        "    neurons_layer_1 = trial.suggest_int(\"neurons_layer_1\", 16, 1024, step=16)\n",
        "    neurons_layer_2 = trial.suggest_int(\"neurons_layer_2\", 16, 512, step=16)\n",
        "    neurons_layer_3 = trial.suggest_int(\"neurons_layer_3\", 16, 256, step=16)\n",
        "    batch_size = trial.suggest_categorical(\"batch_size\", [16, 32, 64, 128])\n",
        "    epochs = trial.suggest_int(\"epochs\", 5, 100)\n",
        "    regularization = trial.suggest_categorical(\"regularization\", [\"none\", \"l1\", \"l2\", \"l1_l2\"])\n",
        "    l1_reg = trial.suggest_float(\"l1_reg\", 1e-5, 1e-1, log=True) if regularization in [\"l1\", \"l1_l2\"] else 0\n",
        "    l2_reg = trial.suggest_float(\"l2_reg\", 1e-5, 1e-1, log=True) if regularization in [\"l2\", \"l1_l2\"] else 0\n",
        "\n",
        "    # KFold Cross-validation\n",
        "    kf = KFold(n_splits=5)\n",
        "    r2_scores = []\n",
        "\n",
        "    for train_index, test_index in kf.split(x_train):\n",
        "        X_train_fold, X_test_fold = x_train[train_index], x_train[test_index]\n",
        "        y_train_fold, y_test_fold = y_train[train_index], y_train[test_index]\n",
        "\n",
        "\n",
        "\n",
        "        # Build model\n",
        "        model = Sequential()\n",
        "        model.add(Dense(neurons_layer_1, activation='relu', input_shape=(X_train_fold.shape[1],),\n",
        "                        kernel_regularizer=l1_l2(l1=l1_reg, l2=l2_reg) if regularization != \"none\" else None))\n",
        "        model.add(Dense(neurons_layer_2, activation='relu',\n",
        "                        kernel_regularizer=l1_l2(l1=l1_reg, l2=l2_reg) if regularization != \"none\" else None))\n",
        "        model.add(Dense(neurons_layer_3, activation='relu',\n",
        "                        kernel_regularizer=l1_l2(l1=l1_reg, l2=l2_reg) if regularization != \"none\" else None))\n",
        "        model.add(Dense(1, activation='linear'))\n",
        "\n",
        "        # Compile model\n",
        "        optimizer = Adam(learning_rate=learning_rate)\n",
        "        model.compile(optimizer=optimizer, loss='mean_squared_error')\n",
        "\n",
        "        # Scaling y_train\n",
        "        scaler = StandardScaler()\n",
        "        y_train_scaled = scaler.fit_transform(y_train_fold.reshape(-1, 1)).flatten()\n",
        "\n",
        "        # Train model\n",
        "        model.fit(X_train_fold, y_train_scaled, epochs=epochs, batch_size=batch_size, verbose=0)\n",
        "\n",
        "        # Predict and evaluate\n",
        "        y_pred_scaled = model.predict(X_test_fold)\n",
        "        y_pred = scaler.inverse_transform(y_pred_scaled.reshape(-1, 1)).flatten()\n",
        "\n",
        "        r2 = r2_score(y_test_fold, y_pred)\n",
        "        r2_scores.append(r2)\n",
        "\n",
        "    return np.mean(r2_scores)"
      ],
      "metadata": {
        "colab": {
          "base_uri": "https://localhost:8080/"
        },
        "id": "bFaCbNTXAeaC",
        "outputId": "42108a3d-1b74-4924-90c0-83332f4d9b06"
      },
      "execution_count": 5,
      "outputs": [
        {
          "output_type": "stream",
          "name": "stdout",
          "text": [
            "Collecting optuna\n",
            "  Downloading optuna-3.5.0-py3-none-any.whl (413 kB)\n",
            "\u001b[2K     \u001b[90m━━━━━━━━━━━━━━━━━━━━━━━━━━━━━━━━━━━━━━━━\u001b[0m \u001b[32m413.4/413.4 kB\u001b[0m \u001b[31m5.5 MB/s\u001b[0m eta \u001b[36m0:00:00\u001b[0m\n",
            "\u001b[?25hCollecting alembic>=1.5.0 (from optuna)\n",
            "  Downloading alembic-1.13.1-py3-none-any.whl (233 kB)\n",
            "\u001b[2K     \u001b[90m━━━━━━━━━━━━━━━━━━━━━━━━━━━━━━━━━━━━━━━━\u001b[0m \u001b[32m233.4/233.4 kB\u001b[0m \u001b[31m8.2 MB/s\u001b[0m eta \u001b[36m0:00:00\u001b[0m\n",
            "\u001b[?25hCollecting colorlog (from optuna)\n",
            "  Downloading colorlog-6.8.0-py3-none-any.whl (11 kB)\n",
            "Requirement already satisfied: numpy in /usr/local/lib/python3.10/dist-packages (from optuna) (1.23.5)\n",
            "Requirement already satisfied: packaging>=20.0 in /usr/local/lib/python3.10/dist-packages (from optuna) (23.2)\n",
            "Requirement already satisfied: sqlalchemy>=1.3.0 in /usr/local/lib/python3.10/dist-packages (from optuna) (2.0.23)\n",
            "Requirement already satisfied: tqdm in /usr/local/lib/python3.10/dist-packages (from optuna) (4.66.1)\n",
            "Requirement already satisfied: PyYAML in /usr/local/lib/python3.10/dist-packages (from optuna) (6.0.1)\n",
            "Collecting Mako (from alembic>=1.5.0->optuna)\n",
            "  Downloading Mako-1.3.0-py3-none-any.whl (78 kB)\n",
            "\u001b[2K     \u001b[90m━━━━━━━━━━━━━━━━━━━━━━━━━━━━━━━━━━━━━━━━\u001b[0m \u001b[32m78.6/78.6 kB\u001b[0m \u001b[31m7.7 MB/s\u001b[0m eta \u001b[36m0:00:00\u001b[0m\n",
            "\u001b[?25hRequirement already satisfied: typing-extensions>=4 in /usr/local/lib/python3.10/dist-packages (from alembic>=1.5.0->optuna) (4.5.0)\n",
            "Requirement already satisfied: greenlet!=0.4.17 in /usr/local/lib/python3.10/dist-packages (from sqlalchemy>=1.3.0->optuna) (3.0.2)\n",
            "Requirement already satisfied: MarkupSafe>=0.9.2 in /usr/local/lib/python3.10/dist-packages (from Mako->alembic>=1.5.0->optuna) (2.1.3)\n",
            "Installing collected packages: Mako, colorlog, alembic, optuna\n",
            "Successfully installed Mako-1.3.0 alembic-1.13.1 colorlog-6.8.0 optuna-3.5.0\n"
          ]
        }
      ]
    },
    {
      "cell_type": "code",
      "source": [
        "x_train = x_train.to_numpy()\n",
        "x_test = x_test.to_numpy()\n",
        "y_train = y_train.to_numpy()\n",
        "y_test = y_test.to_numpy()\n",
        "\n",
        "x_train = x_train.astype('float32')\n",
        "x_test = x_test.astype('float32')\n",
        "y_train = y_train.astype('float32')\n",
        "y_test = y_test.astype('float32')\n",
        "\n",
        "# Ensure y_train and y_test are 1D arrays\n",
        "# This step is only necessary if y_train or y_test are not already 1D arrays\n",
        "y_train = np.ravel(y_train)\n",
        "y_test = np.ravel(y_test)\n",
        "\n",
        "# Check the shapes again after any necessary adjustments\n",
        "print(\"Adjusted y_train shape:\", y_train.shape)\n",
        "print(\"Adjusted y_test shape:\", y_test.shape)"
      ],
      "metadata": {
        "colab": {
          "base_uri": "https://localhost:8080/"
        },
        "id": "1vd4QF4BAgKa",
        "outputId": "e45a6ac0-c62d-45f8-de4b-2a24ffc4bf74"
      },
      "execution_count": 6,
      "outputs": [
        {
          "output_type": "stream",
          "name": "stdout",
          "text": [
            "Adjusted y_train shape: (10000,)\n",
            "Adjusted y_test shape: (14403,)\n"
          ]
        }
      ]
    },
    {
      "cell_type": "code",
      "source": [
        "study_rf = optuna.create_study(directions=['maximize'])\n",
        "study_rf.optimize(Objective_nn_mixed, n_trials=50)"
      ],
      "metadata": {
        "colab": {
          "base_uri": "https://localhost:8080/"
        },
        "id": "3xwnKRDDAj0u",
        "outputId": "fe4931d2-7eba-4aa8-986f-3f4f54855a5c"
      },
      "execution_count": 7,
      "outputs": [
        {
          "output_type": "stream",
          "name": "stderr",
          "text": [
            "[I 2024-01-07 13:12:00,767] A new study created in memory with name: no-name-2b241ec7-83d6-464f-8b94-60ec21e4c1a3\n"
          ]
        },
        {
          "output_type": "stream",
          "name": "stdout",
          "text": [
            "63/63 [==============================] - 0s 3ms/step\n",
            "63/63 [==============================] - 0s 4ms/step\n",
            "63/63 [==============================] - 0s 3ms/step\n",
            "63/63 [==============================] - 0s 3ms/step\n",
            "63/63 [==============================] - 0s 5ms/step\n"
          ]
        },
        {
          "output_type": "stream",
          "name": "stderr",
          "text": [
            "[I 2024-01-07 13:17:45,011] Trial 0 finished with value: 0.404800228818177 and parameters: {'learning_rate': 0.006850479069479804, 'neurons_layer_1': 864, 'neurons_layer_2': 160, 'neurons_layer_3': 128, 'batch_size': 128, 'epochs': 34, 'regularization': 'l2', 'l2_reg': 0.049266118830302456}. Best is trial 0 with value: 0.404800228818177.\n"
          ]
        },
        {
          "output_type": "stream",
          "name": "stdout",
          "text": [
            "63/63 [==============================] - 0s 4ms/step\n",
            "63/63 [==============================] - 0s 5ms/step\n",
            "63/63 [==============================] - 0s 3ms/step\n",
            "63/63 [==============================] - 0s 5ms/step\n",
            "63/63 [==============================] - 0s 3ms/step\n"
          ]
        },
        {
          "output_type": "stream",
          "name": "stderr",
          "text": [
            "[I 2024-01-07 13:25:27,864] Trial 1 finished with value: 0.35933705138679034 and parameters: {'learning_rate': 0.009706301791559025, 'neurons_layer_1': 688, 'neurons_layer_2': 80, 'neurons_layer_3': 80, 'batch_size': 16, 'epochs': 17, 'regularization': 'l1_l2', 'l1_reg': 0.009356321879138882, 'l2_reg': 0.0164675427318661}. Best is trial 0 with value: 0.404800228818177.\n"
          ]
        },
        {
          "output_type": "stream",
          "name": "stdout",
          "text": [
            "63/63 [==============================] - 0s 2ms/step\n",
            "63/63 [==============================] - 0s 2ms/step\n",
            "63/63 [==============================] - 0s 2ms/step\n",
            "63/63 [==============================] - 0s 3ms/step\n",
            "63/63 [==============================] - 0s 2ms/step\n"
          ]
        },
        {
          "output_type": "stream",
          "name": "stderr",
          "text": [
            "[I 2024-01-07 13:31:43,429] Trial 2 finished with value: 0.42357559028445235 and parameters: {'learning_rate': 0.005821551665402372, 'neurons_layer_1': 96, 'neurons_layer_2': 192, 'neurons_layer_3': 192, 'batch_size': 16, 'epochs': 50, 'regularization': 'l2', 'l2_reg': 0.019742502088646127}. Best is trial 2 with value: 0.42357559028445235.\n"
          ]
        },
        {
          "output_type": "stream",
          "name": "stdout",
          "text": [
            "63/63 [==============================] - 0s 4ms/step\n",
            "63/63 [==============================] - 0s 3ms/step\n",
            "63/63 [==============================] - 0s 3ms/step\n",
            "63/63 [==============================] - 0s 3ms/step\n",
            "63/63 [==============================] - 0s 3ms/step\n"
          ]
        },
        {
          "output_type": "stream",
          "name": "stderr",
          "text": [
            "[I 2024-01-07 13:35:03,497] Trial 3 finished with value: 0.5023334900635655 and parameters: {'learning_rate': 0.0047721670721423285, 'neurons_layer_1': 736, 'neurons_layer_2': 256, 'neurons_layer_3': 48, 'batch_size': 64, 'epochs': 21, 'regularization': 'l2', 'l2_reg': 0.000502357254336495}. Best is trial 3 with value: 0.5023334900635655.\n"
          ]
        },
        {
          "output_type": "stream",
          "name": "stdout",
          "text": [
            "63/63 [==============================] - 0s 3ms/step\n",
            "63/63 [==============================] - 0s 5ms/step\n",
            "63/63 [==============================] - 0s 3ms/step\n",
            "63/63 [==============================] - 0s 5ms/step\n",
            "63/63 [==============================] - 0s 3ms/step\n"
          ]
        },
        {
          "output_type": "stream",
          "name": "stderr",
          "text": [
            "[I 2024-01-07 13:46:06,374] Trial 4 finished with value: 0.5743556899842032 and parameters: {'learning_rate': 0.007402052786559843, 'neurons_layer_1': 672, 'neurons_layer_2': 304, 'neurons_layer_3': 96, 'batch_size': 128, 'epochs': 100, 'regularization': 'l2', 'l2_reg': 0.004327453696758924}. Best is trial 4 with value: 0.5743556899842032.\n"
          ]
        },
        {
          "output_type": "stream",
          "name": "stdout",
          "text": [
            "63/63 [==============================] - 0s 2ms/step\n",
            "63/63 [==============================] - 0s 2ms/step\n",
            "63/63 [==============================] - 0s 3ms/step\n",
            "63/63 [==============================] - 0s 2ms/step\n",
            "63/63 [==============================] - 0s 3ms/step\n"
          ]
        },
        {
          "output_type": "stream",
          "name": "stderr",
          "text": [
            "[I 2024-01-07 13:51:06,387] Trial 5 finished with value: 0.1921317094470436 and parameters: {'learning_rate': 0.006083700385505051, 'neurons_layer_1': 176, 'neurons_layer_2': 496, 'neurons_layer_3': 16, 'batch_size': 32, 'epochs': 43, 'regularization': 'l2', 'l2_reg': 0.0002458550846977143}. Best is trial 4 with value: 0.5743556899842032.\n"
          ]
        },
        {
          "output_type": "stream",
          "name": "stdout",
          "text": [
            "63/63 [==============================] - 0s 2ms/step\n",
            "63/63 [==============================] - 0s 2ms/step\n",
            "63/63 [==============================] - 0s 2ms/step\n",
            "63/63 [==============================] - 0s 2ms/step\n",
            "63/63 [==============================] - 0s 2ms/step\n"
          ]
        },
        {
          "output_type": "stream",
          "name": "stderr",
          "text": [
            "[I 2024-01-07 13:55:39,005] Trial 6 finished with value: 0.5571333061475578 and parameters: {'learning_rate': 0.007465998821639808, 'neurons_layer_1': 144, 'neurons_layer_2': 384, 'neurons_layer_3': 240, 'batch_size': 128, 'epochs': 89, 'regularization': 'l2', 'l2_reg': 0.004831928201496838}. Best is trial 4 with value: 0.5743556899842032.\n"
          ]
        },
        {
          "output_type": "stream",
          "name": "stdout",
          "text": [
            "63/63 [==============================] - 0s 3ms/step\n",
            "63/63 [==============================] - 0s 3ms/step\n",
            "63/63 [==============================] - 0s 2ms/step\n",
            "63/63 [==============================] - 0s 4ms/step\n",
            "63/63 [==============================] - 0s 2ms/step\n"
          ]
        },
        {
          "output_type": "stream",
          "name": "stderr",
          "text": [
            "[I 2024-01-07 14:03:10,296] Trial 7 finished with value: 0.6435625616065264 and parameters: {'learning_rate': 0.0007113849167409287, 'neurons_layer_1': 528, 'neurons_layer_2': 80, 'neurons_layer_3': 192, 'batch_size': 64, 'epochs': 75, 'regularization': 'l1', 'l1_reg': 0.0006866048387129584}. Best is trial 7 with value: 0.6435625616065264.\n"
          ]
        },
        {
          "output_type": "stream",
          "name": "stdout",
          "text": [
            "63/63 [==============================] - 0s 2ms/step\n",
            "63/63 [==============================] - 0s 4ms/step\n",
            "63/63 [==============================] - 0s 3ms/step\n",
            "63/63 [==============================] - 0s 2ms/step\n",
            "63/63 [==============================] - 0s 2ms/step\n"
          ]
        },
        {
          "output_type": "stream",
          "name": "stderr",
          "text": [
            "[I 2024-01-07 14:18:22,978] Trial 8 finished with value: 0.517440100203441 and parameters: {'learning_rate': 0.004552462656218839, 'neurons_layer_1': 512, 'neurons_layer_2': 96, 'neurons_layer_3': 32, 'batch_size': 16, 'epochs': 46, 'regularization': 'l1_l2', 'l1_reg': 0.0010735873430048352, 'l2_reg': 0.002318707517537101}. Best is trial 7 with value: 0.6435625616065264.\n"
          ]
        },
        {
          "output_type": "stream",
          "name": "stdout",
          "text": [
            "63/63 [==============================] - 0s 3ms/step\n",
            "63/63 [==============================] - 0s 3ms/step\n",
            "63/63 [==============================] - 0s 3ms/step\n",
            "63/63 [==============================] - 0s 3ms/step\n",
            "63/63 [==============================] - 0s 3ms/step\n"
          ]
        },
        {
          "output_type": "stream",
          "name": "stderr",
          "text": [
            "[I 2024-01-07 14:43:34,778] Trial 9 finished with value: 0.19744693354252968 and parameters: {'learning_rate': 0.006446525213276076, 'neurons_layer_1': 656, 'neurons_layer_2': 432, 'neurons_layer_3': 160, 'batch_size': 32, 'epochs': 88, 'regularization': 'l1', 'l1_reg': 0.009704466975206535}. Best is trial 7 with value: 0.6435625616065264.\n"
          ]
        },
        {
          "output_type": "stream",
          "name": "stdout",
          "text": [
            "63/63 [==============================] - 0s 2ms/step\n",
            "63/63 [==============================] - 0s 2ms/step\n",
            "63/63 [==============================] - 0s 2ms/step\n",
            "63/63 [==============================] - 0s 2ms/step\n",
            "63/63 [==============================] - 0s 2ms/step\n"
          ]
        },
        {
          "output_type": "stream",
          "name": "stderr",
          "text": [
            "[I 2024-01-07 14:49:03,860] Trial 10 finished with value: 0.6919832540399792 and parameters: {'learning_rate': 0.0004093823362208474, 'neurons_layer_1': 400, 'neurons_layer_2': 16, 'neurons_layer_3': 256, 'batch_size': 64, 'epochs': 70, 'regularization': 'l1', 'l1_reg': 1.2767534738213131e-05}. Best is trial 10 with value: 0.6919832540399792.\n"
          ]
        },
        {
          "output_type": "stream",
          "name": "stdout",
          "text": [
            "63/63 [==============================] - 0s 2ms/step\n",
            "63/63 [==============================] - 0s 2ms/step\n",
            "63/63 [==============================] - 0s 2ms/step\n",
            "63/63 [==============================] - 0s 2ms/step\n",
            "63/63 [==============================] - 0s 2ms/step\n"
          ]
        },
        {
          "output_type": "stream",
          "name": "stderr",
          "text": [
            "[I 2024-01-07 14:54:26,824] Trial 11 finished with value: 0.6955588855616291 and parameters: {'learning_rate': 0.00021483873500531732, 'neurons_layer_1': 400, 'neurons_layer_2': 16, 'neurons_layer_3': 256, 'batch_size': 64, 'epochs': 69, 'regularization': 'l1', 'l1_reg': 1.471196701531699e-05}. Best is trial 11 with value: 0.6955588855616291.\n"
          ]
        },
        {
          "output_type": "stream",
          "name": "stdout",
          "text": [
            "63/63 [==============================] - 0s 2ms/step\n",
            "63/63 [==============================] - 0s 2ms/step\n",
            "63/63 [==============================] - 0s 2ms/step\n",
            "63/63 [==============================] - 0s 3ms/step\n",
            "63/63 [==============================] - 0s 2ms/step\n"
          ]
        },
        {
          "output_type": "stream",
          "name": "stderr",
          "text": [
            "[I 2024-01-07 14:59:31,317] Trial 12 finished with value: 0.7078161879813638 and parameters: {'learning_rate': 0.00014751463560217556, 'neurons_layer_1': 336, 'neurons_layer_2': 16, 'neurons_layer_3': 256, 'batch_size': 64, 'epochs': 69, 'regularization': 'l1', 'l1_reg': 1.188728382306518e-05}. Best is trial 12 with value: 0.7078161879813638.\n"
          ]
        },
        {
          "output_type": "stream",
          "name": "stdout",
          "text": [
            "63/63 [==============================] - 0s 2ms/step\n",
            "63/63 [==============================] - 0s 2ms/step\n",
            "63/63 [==============================] - 0s 2ms/step\n",
            "63/63 [==============================] - 0s 2ms/step\n",
            "63/63 [==============================] - 0s 3ms/step\n"
          ]
        },
        {
          "output_type": "stream",
          "name": "stderr",
          "text": [
            "[I 2024-01-07 15:04:33,295] Trial 13 finished with value: 0.6901589254496955 and parameters: {'learning_rate': 0.00230307426008383, 'neurons_layer_1': 304, 'neurons_layer_2': 32, 'neurons_layer_3': 224, 'batch_size': 64, 'epochs': 65, 'regularization': 'none'}. Best is trial 12 with value: 0.7078161879813638.\n"
          ]
        },
        {
          "output_type": "stream",
          "name": "stdout",
          "text": [
            "63/63 [==============================] - 0s 2ms/step\n",
            "63/63 [==============================] - 0s 2ms/step\n",
            "63/63 [==============================] - 0s 2ms/step\n",
            "63/63 [==============================] - 0s 2ms/step\n",
            "63/63 [==============================] - 0s 4ms/step\n"
          ]
        },
        {
          "output_type": "stream",
          "name": "stderr",
          "text": [
            "[I 2024-01-07 15:09:14,744] Trial 14 finished with value: 0.648376860032452 and parameters: {'learning_rate': 0.0025205148125782492, 'neurons_layer_1': 304, 'neurons_layer_2': 176, 'neurons_layer_3': 208, 'batch_size': 64, 'epochs': 61, 'regularization': 'l1', 'l1_reg': 1.0247266494948608e-05}. Best is trial 12 with value: 0.7078161879813638.\n"
          ]
        },
        {
          "output_type": "stream",
          "name": "stdout",
          "text": [
            "63/63 [==============================] - 0s 2ms/step\n",
            "63/63 [==============================] - 0s 2ms/step\n",
            "63/63 [==============================] - 0s 3ms/step\n",
            "63/63 [==============================] - 0s 2ms/step\n",
            "63/63 [==============================] - 0s 3ms/step\n"
          ]
        },
        {
          "output_type": "stream",
          "name": "stderr",
          "text": [
            "[I 2024-01-07 15:15:38,977] Trial 15 finished with value: 0.6673365943697993 and parameters: {'learning_rate': 0.0019622677244844626, 'neurons_layer_1': 416, 'neurons_layer_2': 16, 'neurons_layer_3': 256, 'batch_size': 64, 'epochs': 78, 'regularization': 'l1', 'l1_reg': 9.015571636204055e-05}. Best is trial 12 with value: 0.7078161879813638.\n"
          ]
        },
        {
          "output_type": "stream",
          "name": "stdout",
          "text": [
            "63/63 [==============================] - 0s 3ms/step\n",
            "63/63 [==============================] - 0s 4ms/step\n",
            "63/63 [==============================] - 0s 3ms/step\n",
            "63/63 [==============================] - 0s 4ms/step\n",
            "63/63 [==============================] - 0s 3ms/step\n"
          ]
        },
        {
          "output_type": "stream",
          "name": "stderr",
          "text": [
            "[I 2024-01-07 15:25:38,701] Trial 16 finished with value: 0.6614349265322055 and parameters: {'learning_rate': 0.0034087180713383335, 'neurons_layer_1': 992, 'neurons_layer_2': 144, 'neurons_layer_3': 160, 'batch_size': 64, 'epochs': 58, 'regularization': 'none'}. Best is trial 12 with value: 0.7078161879813638.\n"
          ]
        },
        {
          "output_type": "stream",
          "name": "stdout",
          "text": [
            "63/63 [==============================] - 0s 4ms/step\n",
            "63/63 [==============================] - 0s 4ms/step\n",
            "63/63 [==============================] - 0s 4ms/step\n",
            "63/63 [==============================] - 0s 3ms/step\n",
            "63/63 [==============================] - 0s 4ms/step\n"
          ]
        },
        {
          "output_type": "stream",
          "name": "stderr",
          "text": [
            "[I 2024-01-07 15:28:37,452] Trial 17 finished with value: 0.6554481879953007 and parameters: {'learning_rate': 0.0012391065455181574, 'neurons_layer_1': 256, 'neurons_layer_2': 256, 'neurons_layer_3': 224, 'batch_size': 64, 'epochs': 32, 'regularization': 'l1', 'l1_reg': 7.445994942344734e-05}. Best is trial 12 with value: 0.7078161879813638.\n"
          ]
        },
        {
          "output_type": "stream",
          "name": "stdout",
          "text": [
            "63/63 [==============================] - 0s 1ms/step\n",
            "63/63 [==============================] - 0s 2ms/step\n",
            "63/63 [==============================] - 0s 1ms/step\n",
            "63/63 [==============================] - 0s 2ms/step\n",
            "63/63 [==============================] - 0s 1ms/step\n"
          ]
        },
        {
          "output_type": "stream",
          "name": "stderr",
          "text": [
            "[I 2024-01-07 15:28:58,123] Trial 18 finished with value: 0.5000209767250821 and parameters: {'learning_rate': 0.003669261284038111, 'neurons_layer_1': 32, 'neurons_layer_2': 96, 'neurons_layer_3': 144, 'batch_size': 32, 'epochs': 5, 'regularization': 'l1', 'l1_reg': 6.57191615251495e-05}. Best is trial 12 with value: 0.7078161879813638.\n"
          ]
        },
        {
          "output_type": "stream",
          "name": "stdout",
          "text": [
            "63/63 [==============================] - 0s 3ms/step\n",
            "63/63 [==============================] - 0s 5ms/step\n",
            "63/63 [==============================] - 0s 3ms/step\n",
            "63/63 [==============================] - 0s 5ms/step\n",
            "63/63 [==============================] - 0s 3ms/step\n"
          ]
        },
        {
          "output_type": "stream",
          "name": "stderr",
          "text": [
            "[I 2024-01-07 15:40:22,044] Trial 19 finished with value: -0.00027341887494434223 and parameters: {'learning_rate': 0.00017135968832689675, 'neurons_layer_1': 480, 'neurons_layer_2': 336, 'neurons_layer_3': 192, 'batch_size': 64, 'epochs': 83, 'regularization': 'l1', 'l1_reg': 0.08238549362679475}. Best is trial 12 with value: 0.7078161879813638.\n"
          ]
        },
        {
          "output_type": "stream",
          "name": "stdout",
          "text": [
            "63/63 [==============================] - 0s 3ms/step\n",
            "63/63 [==============================] - 0s 3ms/step\n",
            "63/63 [==============================] - 0s 3ms/step\n",
            "63/63 [==============================] - 0s 3ms/step\n",
            "63/63 [==============================] - 0s 3ms/step\n"
          ]
        },
        {
          "output_type": "stream",
          "name": "stderr",
          "text": [
            "[I 2024-01-07 15:54:52,817] Trial 20 finished with value: 0.6679977013683502 and parameters: {'learning_rate': 0.0017685368136458077, 'neurons_layer_1': 592, 'neurons_layer_2': 224, 'neurons_layer_3': 256, 'batch_size': 64, 'epochs': 98, 'regularization': 'l1_l2', 'l1_reg': 2.756005049697332e-05, 'l2_reg': 1.4650427180812393e-05}. Best is trial 12 with value: 0.7078161879813638.\n"
          ]
        },
        {
          "output_type": "stream",
          "name": "stdout",
          "text": [
            "63/63 [==============================] - 0s 3ms/step\n",
            "63/63 [==============================] - 0s 2ms/step\n",
            "63/63 [==============================] - 0s 2ms/step\n",
            "63/63 [==============================] - 0s 2ms/step\n",
            "63/63 [==============================] - 0s 2ms/step\n"
          ]
        },
        {
          "output_type": "stream",
          "name": "stderr",
          "text": [
            "[I 2024-01-07 16:00:19,235] Trial 21 finished with value: 0.7052693724604447 and parameters: {'learning_rate': 0.00012590300838901037, 'neurons_layer_1': 384, 'neurons_layer_2': 16, 'neurons_layer_3': 256, 'batch_size': 64, 'epochs': 70, 'regularization': 'l1', 'l1_reg': 1.006924885834708e-05}. Best is trial 12 with value: 0.7078161879813638.\n"
          ]
        },
        {
          "output_type": "stream",
          "name": "stdout",
          "text": [
            "63/63 [==============================] - 0s 2ms/step\n",
            "63/63 [==============================] - 0s 2ms/step\n",
            "63/63 [==============================] - 0s 2ms/step\n",
            "63/63 [==============================] - 0s 2ms/step\n",
            "63/63 [==============================] - 0s 2ms/step\n"
          ]
        },
        {
          "output_type": "stream",
          "name": "stderr",
          "text": [
            "[I 2024-01-07 16:05:29,213] Trial 22 finished with value: 0.6314786132105793 and parameters: {'learning_rate': 0.001125873145086355, 'neurons_layer_1': 352, 'neurons_layer_2': 48, 'neurons_layer_3': 224, 'batch_size': 64, 'epochs': 68, 'regularization': 'l1', 'l1_reg': 3.6417215149436184e-05}. Best is trial 12 with value: 0.7078161879813638.\n"
          ]
        },
        {
          "output_type": "stream",
          "name": "stdout",
          "text": [
            "63/63 [==============================] - 0s 2ms/step\n",
            "63/63 [==============================] - 0s 2ms/step\n",
            "63/63 [==============================] - 0s 2ms/step\n",
            "63/63 [==============================] - 0s 2ms/step\n",
            "63/63 [==============================] - 0s 2ms/step\n"
          ]
        },
        {
          "output_type": "stream",
          "name": "stderr",
          "text": [
            "[I 2024-01-07 16:09:59,717] Trial 23 finished with value: 0.678210570328939 and parameters: {'learning_rate': 0.0001658135648090753, 'neurons_layer_1': 224, 'neurons_layer_2': 128, 'neurons_layer_3': 240, 'batch_size': 64, 'epochs': 57, 'regularization': 'l1', 'l1_reg': 0.00025411616746163476}. Best is trial 12 with value: 0.7078161879813638.\n"
          ]
        },
        {
          "output_type": "stream",
          "name": "stdout",
          "text": [
            "63/63 [==============================] - 0s 3ms/step\n",
            "63/63 [==============================] - 0s 2ms/step\n",
            "63/63 [==============================] - 0s 2ms/step\n",
            "63/63 [==============================] - 0s 3ms/step\n",
            "63/63 [==============================] - 0s 2ms/step\n"
          ]
        },
        {
          "output_type": "stream",
          "name": "stderr",
          "text": [
            "[I 2024-01-07 16:15:56,328] Trial 24 finished with value: 0.6210276198827034 and parameters: {'learning_rate': 0.003046845922708979, 'neurons_layer_1': 384, 'neurons_layer_2': 64, 'neurons_layer_3': 256, 'batch_size': 64, 'epochs': 76, 'regularization': 'none'}. Best is trial 12 with value: 0.7078161879813638.\n"
          ]
        },
        {
          "output_type": "stream",
          "name": "stdout",
          "text": [
            "63/63 [==============================] - 0s 2ms/step\n",
            "63/63 [==============================] - 0s 3ms/step\n",
            "63/63 [==============================] - 0s 2ms/step\n",
            "63/63 [==============================] - 0s 2ms/step\n",
            "63/63 [==============================] - 0s 3ms/step\n"
          ]
        },
        {
          "output_type": "stream",
          "name": "stderr",
          "text": [
            "[I 2024-01-07 16:22:29,063] Trial 25 finished with value: 0.6797976914565247 and parameters: {'learning_rate': 0.0014819994058511863, 'neurons_layer_1': 448, 'neurons_layer_2': 112, 'neurons_layer_3': 208, 'batch_size': 64, 'epochs': 70, 'regularization': 'l1', 'l1_reg': 1.0102606040704175e-05}. Best is trial 12 with value: 0.7078161879813638.\n"
          ]
        },
        {
          "output_type": "stream",
          "name": "stdout",
          "text": [
            "63/63 [==============================] - 0s 2ms/step\n",
            "63/63 [==============================] - 0s 2ms/step\n",
            "63/63 [==============================] - 0s 2ms/step\n",
            "63/63 [==============================] - 0s 3ms/step\n",
            "63/63 [==============================] - 0s 4ms/step\n"
          ]
        },
        {
          "output_type": "stream",
          "name": "stderr",
          "text": [
            "[I 2024-01-07 16:37:14,744] Trial 26 finished with value: 0.6803423364476876 and parameters: {'learning_rate': 0.0009148005310696557, 'neurons_layer_1': 592, 'neurons_layer_2': 16, 'neurons_layer_3': 176, 'batch_size': 32, 'epochs': 84, 'regularization': 'l1', 'l1_reg': 0.00020677616731187742}. Best is trial 12 with value: 0.7078161879813638.\n"
          ]
        },
        {
          "output_type": "stream",
          "name": "stdout",
          "text": [
            "63/63 [==============================] - 0s 2ms/step\n",
            "63/63 [==============================] - 0s 2ms/step\n",
            "63/63 [==============================] - 0s 2ms/step\n",
            "63/63 [==============================] - 0s 4ms/step\n",
            "63/63 [==============================] - 0s 2ms/step\n"
          ]
        },
        {
          "output_type": "stream",
          "name": "stderr",
          "text": [
            "[I 2024-01-07 16:47:56,583] Trial 27 finished with value: 0.10259887383812986 and parameters: {'learning_rate': 0.009154444059052013, 'neurons_layer_1': 304, 'neurons_layer_2': 48, 'neurons_layer_3': 240, 'batch_size': 16, 'epochs': 54, 'regularization': 'l1', 'l1_reg': 2.777716164094376e-05}. Best is trial 12 with value: 0.7078161879813638.\n"
          ]
        },
        {
          "output_type": "stream",
          "name": "stdout",
          "text": [
            "63/63 [==============================] - 0s 2ms/step\n",
            "63/63 [==============================] - 0s 2ms/step\n",
            "63/63 [==============================] - 0s 2ms/step\n",
            "63/63 [==============================] - 0s 2ms/step\n",
            "63/63 [==============================] - 0s 2ms/step\n"
          ]
        },
        {
          "output_type": "stream",
          "name": "stderr",
          "text": [
            "[I 2024-01-07 16:50:39,914] Trial 28 finished with value: 0.6658114964336347 and parameters: {'learning_rate': 0.00286610988485471, 'neurons_layer_1': 224, 'neurons_layer_2': 208, 'neurons_layer_3': 112, 'batch_size': 128, 'epochs': 63, 'regularization': 'l1', 'l1_reg': 2.1921820805311057e-05}. Best is trial 12 with value: 0.7078161879813638.\n"
          ]
        },
        {
          "output_type": "stream",
          "name": "stdout",
          "text": [
            "63/63 [==============================] - 0s 3ms/step\n",
            "63/63 [==============================] - 0s 5ms/step\n",
            "63/63 [==============================] - 0s 3ms/step\n",
            "63/63 [==============================] - 0s 5ms/step\n",
            "63/63 [==============================] - 0s 3ms/step\n"
          ]
        },
        {
          "output_type": "stream",
          "name": "stderr",
          "text": [
            "[I 2024-01-07 16:56:17,170] Trial 29 finished with value: 0.6301254307162354 and parameters: {'learning_rate': 0.004066458556591846, 'neurons_layer_1': 800, 'neurons_layer_2': 144, 'neurons_layer_3': 208, 'batch_size': 128, 'epochs': 45, 'regularization': 'l1_l2', 'l1_reg': 0.00014356011543589043, 'l2_reg': 4.0487323431214144e-05}. Best is trial 12 with value: 0.7078161879813638.\n"
          ]
        },
        {
          "output_type": "stream",
          "name": "stdout",
          "text": [
            "63/63 [==============================] - 0s 4ms/step\n",
            "63/63 [==============================] - 0s 2ms/step\n",
            "63/63 [==============================] - 0s 3ms/step\n",
            "63/63 [==============================] - 0s 2ms/step\n",
            "63/63 [==============================] - 0s 2ms/step\n"
          ]
        },
        {
          "output_type": "stream",
          "name": "stderr",
          "text": [
            "[I 2024-01-07 16:59:32,462] Trial 30 finished with value: 0.6444984941523147 and parameters: {'learning_rate': 0.0017065671636313797, 'neurons_layer_1': 560, 'neurons_layer_2': 64, 'neurons_layer_3': 240, 'batch_size': 64, 'epochs': 34, 'regularization': 'none'}. Best is trial 12 with value: 0.7078161879813638.\n"
          ]
        },
        {
          "output_type": "stream",
          "name": "stdout",
          "text": [
            "63/63 [==============================] - 0s 2ms/step\n",
            "63/63 [==============================] - 0s 2ms/step\n",
            "63/63 [==============================] - 0s 2ms/step\n",
            "63/63 [==============================] - 0s 2ms/step\n",
            "63/63 [==============================] - 0s 2ms/step\n"
          ]
        },
        {
          "output_type": "stream",
          "name": "stderr",
          "text": [
            "[I 2024-01-07 17:05:11,641] Trial 31 finished with value: 0.6951117538954014 and parameters: {'learning_rate': 0.00018065088389837943, 'neurons_layer_1': 384, 'neurons_layer_2': 16, 'neurons_layer_3': 256, 'batch_size': 64, 'epochs': 72, 'regularization': 'l1', 'l1_reg': 1.0646166631661747e-05}. Best is trial 12 with value: 0.7078161879813638.\n"
          ]
        },
        {
          "output_type": "stream",
          "name": "stdout",
          "text": [
            "63/63 [==============================] - 0s 2ms/step\n",
            "63/63 [==============================] - 0s 2ms/step\n",
            "63/63 [==============================] - 0s 2ms/step\n",
            "63/63 [==============================] - 0s 2ms/step\n",
            "63/63 [==============================] - 0s 2ms/step\n"
          ]
        },
        {
          "output_type": "stream",
          "name": "stderr",
          "text": [
            "[I 2024-01-07 17:10:54,741] Trial 32 finished with value: 0.6484215274478154 and parameters: {'learning_rate': 0.0008689740877919809, 'neurons_layer_1': 368, 'neurons_layer_2': 16, 'neurons_layer_3': 256, 'batch_size': 64, 'epochs': 74, 'regularization': 'l1', 'l1_reg': 2.5472435172980184e-05}. Best is trial 12 with value: 0.7078161879813638.\n"
          ]
        },
        {
          "output_type": "stream",
          "name": "stdout",
          "text": [
            "63/63 [==============================] - 0s 2ms/step\n",
            "63/63 [==============================] - 0s 2ms/step\n",
            "63/63 [==============================] - 0s 2ms/step\n",
            "63/63 [==============================] - 0s 2ms/step\n",
            "63/63 [==============================] - 0s 2ms/step\n"
          ]
        },
        {
          "output_type": "stream",
          "name": "stderr",
          "text": [
            "[I 2024-01-07 17:19:01,288] Trial 33 finished with value: 0.7111544448076279 and parameters: {'learning_rate': 0.0001700971350850996, 'neurons_layer_1': 448, 'neurons_layer_2': 64, 'neurons_layer_3': 224, 'batch_size': 64, 'epochs': 81, 'regularization': 'l1', 'l1_reg': 1.0753716213280884e-05}. Best is trial 33 with value: 0.7111544448076279.\n"
          ]
        },
        {
          "output_type": "stream",
          "name": "stdout",
          "text": [
            "63/63 [==============================] - 0s 2ms/step\n",
            "63/63 [==============================] - 0s 2ms/step\n",
            "63/63 [==============================] - 0s 2ms/step\n",
            "63/63 [==============================] - 0s 2ms/step\n",
            "63/63 [==============================] - 0s 2ms/step\n"
          ]
        },
        {
          "output_type": "stream",
          "name": "stderr",
          "text": [
            "[I 2024-01-07 17:40:21,867] Trial 34 finished with value: 0.6942688703002551 and parameters: {'learning_rate': 0.0006755922808297868, 'neurons_layer_1': 464, 'neurons_layer_2': 64, 'neurons_layer_3': 224, 'batch_size': 16, 'epochs': 81, 'regularization': 'l1', 'l1_reg': 4.591538656798455e-05}. Best is trial 33 with value: 0.7111544448076279.\n"
          ]
        },
        {
          "output_type": "stream",
          "name": "stdout",
          "text": [
            "63/63 [==============================] - 0s 2ms/step\n",
            "63/63 [==============================] - 0s 2ms/step\n",
            "63/63 [==============================] - 0s 2ms/step\n",
            "63/63 [==============================] - 0s 3ms/step\n",
            "63/63 [==============================] - 0s 2ms/step\n"
          ]
        },
        {
          "output_type": "stream",
          "name": "stderr",
          "text": [
            "[I 2024-01-07 17:47:06,825] Trial 35 finished with value: 0.6470032771614852 and parameters: {'learning_rate': 0.0022751415892726637, 'neurons_layer_1': 320, 'neurons_layer_2': 112, 'neurons_layer_3': 240, 'batch_size': 64, 'epochs': 93, 'regularization': 'l1', 'l1_reg': 1.9474719098962888e-05}. Best is trial 33 with value: 0.7111544448076279.\n"
          ]
        },
        {
          "output_type": "stream",
          "name": "stdout",
          "text": [
            "63/63 [==============================] - 0s 3ms/step\n",
            "63/63 [==============================] - 0s 2ms/step\n",
            "63/63 [==============================] - 0s 2ms/step\n",
            "63/63 [==============================] - 0s 2ms/step\n",
            "63/63 [==============================] - 0s 2ms/step\n"
          ]
        },
        {
          "output_type": "stream",
          "name": "stderr",
          "text": [
            "[I 2024-01-07 17:49:51,265] Trial 36 finished with value: 0.6124307838524901 and parameters: {'learning_rate': 0.005362550724540975, 'neurons_layer_1': 112, 'neurons_layer_2': 48, 'neurons_layer_3': 208, 'batch_size': 64, 'epochs': 52, 'regularization': 'l1_l2', 'l1_reg': 0.0004905577979197668, 'l2_reg': 0.00011135398588678884}. Best is trial 33 with value: 0.7111544448076279.\n"
          ]
        },
        {
          "output_type": "stream",
          "name": "stdout",
          "text": [
            "63/63 [==============================] - 0s 2ms/step\n",
            "63/63 [==============================] - 0s 2ms/step\n",
            "63/63 [==============================] - 0s 2ms/step\n",
            "63/63 [==============================] - 0s 3ms/step\n",
            "63/63 [==============================] - 0s 3ms/step\n"
          ]
        },
        {
          "output_type": "stream",
          "name": "stderr",
          "text": [
            "[I 2024-01-07 17:52:26,149] Trial 37 finished with value: 0.5322518256816824 and parameters: {'learning_rate': 0.0013439021011734799, 'neurons_layer_1': 256, 'neurons_layer_2': 80, 'neurons_layer_3': 176, 'batch_size': 128, 'epochs': 65, 'regularization': 'l2', 'l2_reg': 0.09951632188248821}. Best is trial 33 with value: 0.7111544448076279.\n"
          ]
        },
        {
          "output_type": "stream",
          "name": "stdout",
          "text": [
            "63/63 [==============================] - 0s 2ms/step\n",
            "63/63 [==============================] - 0s 3ms/step\n",
            "63/63 [==============================] - 2s 3ms/step\n",
            "63/63 [==============================] - 0s 2ms/step\n",
            "63/63 [==============================] - 0s 4ms/step\n"
          ]
        },
        {
          "output_type": "stream",
          "name": "stderr",
          "text": [
            "[I 2024-01-07 18:17:40,850] Trial 38 finished with value: 0.68554065374665 and parameters: {'learning_rate': 0.0006703903512005646, 'neurons_layer_1': 448, 'neurons_layer_2': 160, 'neurons_layer_3': 64, 'batch_size': 16, 'epochs': 92, 'regularization': 'l1', 'l1_reg': 1.7008958954379226e-05}. Best is trial 33 with value: 0.7111544448076279.\n"
          ]
        },
        {
          "output_type": "stream",
          "name": "stdout",
          "text": [
            "63/63 [==============================] - 0s 3ms/step\n",
            "63/63 [==============================] - 0s 3ms/step\n",
            "63/63 [==============================] - 0s 3ms/step\n",
            "63/63 [==============================] - 0s 3ms/step\n",
            "63/63 [==============================] - 0s 5ms/step\n"
          ]
        },
        {
          "output_type": "stream",
          "name": "stderr",
          "text": [
            "[I 2024-01-07 18:27:37,425] Trial 39 finished with value: 0.6575109320408854 and parameters: {'learning_rate': 0.008606046088859324, 'neurons_layer_1': 512, 'neurons_layer_2': 304, 'neurons_layer_3': 224, 'batch_size': 64, 'epochs': 81, 'regularization': 'l2', 'l2_reg': 1.0519120589152686e-05}. Best is trial 33 with value: 0.7111544448076279.\n"
          ]
        },
        {
          "output_type": "stream",
          "name": "stdout",
          "text": [
            "63/63 [==============================] - 0s 3ms/step\n",
            "63/63 [==============================] - 0s 2ms/step\n",
            "63/63 [==============================] - 0s 2ms/step\n",
            "63/63 [==============================] - 0s 4ms/step\n",
            "63/63 [==============================] - 0s 2ms/step\n"
          ]
        },
        {
          "output_type": "stream",
          "name": "stderr",
          "text": [
            "[I 2024-01-07 18:38:52,478] Trial 40 finished with value: 0.5900799659541514 and parameters: {'learning_rate': 0.0019347962120228423, 'neurons_layer_1': 176, 'neurons_layer_2': 512, 'neurons_layer_3': 128, 'batch_size': 32, 'epochs': 87, 'regularization': 'l1', 'l1_reg': 0.0020444431484832547}. Best is trial 33 with value: 0.7111544448076279.\n"
          ]
        },
        {
          "output_type": "stream",
          "name": "stdout",
          "text": [
            "63/63 [==============================] - 0s 2ms/step\n",
            "63/63 [==============================] - 0s 2ms/step\n",
            "63/63 [==============================] - 0s 2ms/step\n",
            "63/63 [==============================] - 0s 2ms/step\n",
            "63/63 [==============================] - 0s 2ms/step\n"
          ]
        },
        {
          "output_type": "stream",
          "name": "stderr",
          "text": [
            "[I 2024-01-07 18:44:32,116] Trial 41 finished with value: 0.6849647875377917 and parameters: {'learning_rate': 0.0003696373756738787, 'neurons_layer_1': 400, 'neurons_layer_2': 32, 'neurons_layer_3': 256, 'batch_size': 64, 'epochs': 70, 'regularization': 'l1', 'l1_reg': 1.0404869234142214e-05}. Best is trial 33 with value: 0.7111544448076279.\n"
          ]
        },
        {
          "output_type": "stream",
          "name": "stdout",
          "text": [
            "63/63 [==============================] - 0s 3ms/step\n",
            "63/63 [==============================] - 0s 2ms/step\n",
            "63/63 [==============================] - 0s 2ms/step\n",
            "63/63 [==============================] - 0s 2ms/step\n",
            "63/63 [==============================] - 0s 3ms/step\n"
          ]
        },
        {
          "output_type": "stream",
          "name": "stderr",
          "text": [
            "[I 2024-01-07 18:50:03,162] Trial 42 finished with value: 0.6726435557491471 and parameters: {'learning_rate': 0.00033827549748750586, 'neurons_layer_1': 336, 'neurons_layer_2': 96, 'neurons_layer_3': 240, 'batch_size': 64, 'epochs': 74, 'regularization': 'l1', 'l1_reg': 4.098354469668433e-05}. Best is trial 33 with value: 0.7111544448076279.\n"
          ]
        },
        {
          "output_type": "stream",
          "name": "stdout",
          "text": [
            "63/63 [==============================] - 0s 3ms/step\n",
            "63/63 [==============================] - 0s 3ms/step\n",
            "63/63 [==============================] - 0s 3ms/step\n",
            "63/63 [==============================] - 0s 3ms/step\n",
            "63/63 [==============================] - 0s 3ms/step\n"
          ]
        },
        {
          "output_type": "stream",
          "name": "stderr",
          "text": [
            "[I 2024-01-07 18:58:54,458] Trial 43 finished with value: 0.7123369183932597 and parameters: {'learning_rate': 0.00011723245844623722, 'neurons_layer_1': 624, 'neurons_layer_2': 32, 'neurons_layer_3': 256, 'batch_size': 64, 'epochs': 78, 'regularization': 'l1', 'l1_reg': 1.802535830576335e-05}. Best is trial 43 with value: 0.7123369183932597.\n"
          ]
        },
        {
          "output_type": "stream",
          "name": "stdout",
          "text": [
            "63/63 [==============================] - 0s 5ms/step\n",
            "63/63 [==============================] - 0s 3ms/step\n",
            "63/63 [==============================] - 0s 3ms/step\n",
            "63/63 [==============================] - 0s 3ms/step\n",
            "63/63 [==============================] - 0s 3ms/step\n"
          ]
        },
        {
          "output_type": "stream",
          "name": "stderr",
          "text": [
            "[I 2024-01-07 19:07:57,997] Trial 44 finished with value: 0.693247737735836 and parameters: {'learning_rate': 0.0011469412852178717, 'neurons_layer_1': 704, 'neurons_layer_2': 48, 'neurons_layer_3': 240, 'batch_size': 64, 'epochs': 61, 'regularization': 'l1', 'l1_reg': 1.861462662282575e-05}. Best is trial 43 with value: 0.7123369183932597.\n"
          ]
        },
        {
          "output_type": "stream",
          "name": "stdout",
          "text": [
            "63/63 [==============================] - 0s 2ms/step\n",
            "63/63 [==============================] - 0s 3ms/step\n",
            "63/63 [==============================] - 0s 4ms/step\n",
            "63/63 [==============================] - 0s 3ms/step\n",
            "63/63 [==============================] - 0s 3ms/step\n"
          ]
        },
        {
          "output_type": "stream",
          "name": "stderr",
          "text": [
            "[I 2024-01-07 19:16:13,860] Trial 45 finished with value: 0.6838072558383494 and parameters: {'learning_rate': 0.0008305094477685451, 'neurons_layer_1': 624, 'neurons_layer_2': 80, 'neurons_layer_3': 224, 'batch_size': 64, 'epochs': 67, 'regularization': 'l1', 'l1_reg': 4.256176681144804e-05}. Best is trial 43 with value: 0.7123369183932597.\n"
          ]
        },
        {
          "output_type": "stream",
          "name": "stdout",
          "text": [
            "63/63 [==============================] - 0s 3ms/step\n",
            "63/63 [==============================] - 0s 3ms/step\n",
            "63/63 [==============================] - 0s 3ms/step\n",
            "63/63 [==============================] - 0s 4ms/step\n",
            "63/63 [==============================] - 0s 3ms/step\n"
          ]
        },
        {
          "output_type": "stream",
          "name": "stderr",
          "text": [
            "[I 2024-01-07 19:26:16,663] Trial 46 finished with value: 0.6995826998017065 and parameters: {'learning_rate': 0.00010066406540652482, 'neurons_layer_1': 752, 'neurons_layer_2': 32, 'neurons_layer_3': 256, 'batch_size': 64, 'epochs': 79, 'regularization': 'l2', 'l2_reg': 0.0010918148159624354}. Best is trial 43 with value: 0.7123369183932597.\n"
          ]
        },
        {
          "output_type": "stream",
          "name": "stdout",
          "text": [
            "63/63 [==============================] - 0s 4ms/step\n",
            "63/63 [==============================] - 0s 3ms/step\n",
            "63/63 [==============================] - 0s 3ms/step\n",
            "63/63 [==============================] - 0s 6ms/step\n",
            "63/63 [==============================] - 2s 4ms/step\n"
          ]
        },
        {
          "output_type": "stream",
          "name": "stderr",
          "text": [
            "[I 2024-01-07 19:41:42,684] Trial 47 finished with value: 0.6363045473457098 and parameters: {'learning_rate': 0.0006298504156544831, 'neurons_layer_1': 768, 'neurons_layer_2': 432, 'neurons_layer_3': 240, 'batch_size': 64, 'epochs': 79, 'regularization': 'l2', 'l2_reg': 0.0009891873948805422}. Best is trial 43 with value: 0.7123369183932597.\n"
          ]
        },
        {
          "output_type": "stream",
          "name": "stdout",
          "text": [
            "63/63 [==============================] - 0s 3ms/step\n",
            "63/63 [==============================] - 0s 3ms/step\n",
            "63/63 [==============================] - 0s 3ms/step\n",
            "63/63 [==============================] - 0s 5ms/step\n",
            "63/63 [==============================] - 0s 3ms/step\n"
          ]
        },
        {
          "output_type": "stream",
          "name": "stderr",
          "text": [
            "[I 2024-01-07 19:51:48,357] Trial 48 finished with value: 0.2524030808644776 and parameters: {'learning_rate': 0.00722132537663943, 'neurons_layer_1': 832, 'neurons_layer_2': 32, 'neurons_layer_3': 208, 'batch_size': 128, 'epochs': 87, 'regularization': 'l2', 'l2_reg': 7.456648631491532e-05}. Best is trial 43 with value: 0.7123369183932597.\n"
          ]
        },
        {
          "output_type": "stream",
          "name": "stdout",
          "text": [
            "63/63 [==============================] - 0s 4ms/step\n",
            "63/63 [==============================] - 0s 3ms/step\n",
            "63/63 [==============================] - 0s 3ms/step\n",
            "63/63 [==============================] - 0s 3ms/step\n",
            "63/63 [==============================] - 0s 5ms/step\n"
          ]
        },
        {
          "output_type": "stream",
          "name": "stderr",
          "text": [
            "[I 2024-01-07 20:07:19,504] Trial 49 finished with value: 0.674677481314071 and parameters: {'learning_rate': 0.0014020365451589026, 'neurons_layer_1': 880, 'neurons_layer_2': 96, 'neurons_layer_3': 192, 'batch_size': 64, 'epochs': 92, 'regularization': 'l2', 'l2_reg': 0.00028708751445012296}. Best is trial 43 with value: 0.7123369183932597.\n"
          ]
        }
      ]
    },
    {
      "cell_type": "code",
      "source": [
        "optuna.visualization.matplotlib.plot_optimization_history(study_rf)"
      ],
      "metadata": {
        "colab": {
          "base_uri": "https://localhost:8080/",
          "height": 536
        },
        "id": "JnYvia8rApJc",
        "outputId": "fe8e53e2-ef94-4a51-ca92-1fe7aced55fb"
      },
      "execution_count": 8,
      "outputs": [
        {
          "output_type": "stream",
          "name": "stderr",
          "text": [
            "<ipython-input-8-934d0b211bde>:1: ExperimentalWarning: plot_optimization_history is experimental (supported from v2.2.0). The interface can change in the future.\n",
            "  optuna.visualization.matplotlib.plot_optimization_history(study_rf)\n"
          ]
        },
        {
          "output_type": "execute_result",
          "data": {
            "text/plain": [
              "<Axes: title={'center': 'Optimization History Plot'}, xlabel='Trial', ylabel='Objective Value'>"
            ]
          },
          "metadata": {},
          "execution_count": 8
        },
        {
          "output_type": "display_data",
          "data": {
            "text/plain": [
              "<Figure size 640x480 with 1 Axes>"
            ],
            "image/png": "[encoded data removed]"
          },
          "metadata": {}
        }
      ]
    },
    {
      "cell_type": "code",
      "source": [
        "from optuna.visualization import matplotlib as optuna_matplotlib\n",
        "import matplotlib.pyplot as plt\n",
        "# Plot the optimization history in a different format\n",
        "optuna.visualization.matplotlib.plot_optimization_history(study_rf)\n",
        "\n",
        "optuna_matplotlib.plot_optimization_history(study_rf)\n",
        "\n",
        "plt.ylim(0, 1)\n",
        "\n",
        "plt.show()"
      ],
      "metadata": {
        "colab": {
          "base_uri": "https://localhost:8080/",
          "height": 965
        },
        "id": "0lwTyER9AquR",
        "outputId": "afc09932-377e-4b4a-ebe8-8e4e7ce8cb6d"
      },
      "execution_count": 9,
      "outputs": [
        {
          "output_type": "stream",
          "name": "stderr",
          "text": [
            "<ipython-input-9-1eb49e18946d>:4: ExperimentalWarning: plot_optimization_history is experimental (supported from v2.2.0). The interface can change in the future.\n",
            "  optuna.visualization.matplotlib.plot_optimization_history(study_rf)\n",
            "<ipython-input-9-1eb49e18946d>:6: ExperimentalWarning: plot_optimization_history is experimental (supported from v2.2.0). The interface can change in the future.\n",
            "  optuna_matplotlib.plot_optimization_history(study_rf)\n"
          ]
        },
        {
          "output_type": "display_data",
          "data": {
            "text/plain": [
              "<Figure size 640x480 with 1 Axes>"
            ],
            "image/png": "[encoded data removed]"
          },
          "metadata": {}
        },
        {
          "output_type": "display_data",
          "data": {
            "text/plain": [
              "<Figure size 640x480 with 1 Axes>"
            ],
            "image/png": "[encoded data removed]"
          },
          "metadata": {}
        }
      ]
    }
  ]
}