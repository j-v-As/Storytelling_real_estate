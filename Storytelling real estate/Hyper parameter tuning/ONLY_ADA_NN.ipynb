{
  "nbformat": 4,
  "nbformat_minor": 0,
  "metadata": {
    "colab": {
      "provenance": [],
      "machine_shape": "hm",
      "gpuType": "T4"
    },
    "kernelspec": {
      "name": "python3",
      "display_name": "Python 3"
    },
    "language_info": {
      "name": "python"
    },
    "accelerator": "GPU"
  },
  "cells": [
    {
      "cell_type": "code",
      "execution_count": 3,
      "metadata": {
        "colab": {
          "base_uri": "https://localhost:8080/"
        },
        "id": "wbqNttw0wCXP",
        "outputId": "41d50c07-70e7-4242-b706-14c5228fed95"
      },
      "outputs": [
        {
          "output_type": "stream",
          "name": "stdout",
          "text": [
            "Drive already mounted at /content/drive; to attempt to forcibly remount, call drive.mount(\"/content/drive\", force_remount=True).\n"
          ]
        }
      ],
      "source": [
        "from google.colab import drive\n",
        "import pandas as pd\n",
        "\n",
        "# This will prompt for authorization to access your Google Drive\n",
        "drive.mount('/content/drive')\n",
        "\n",
        "# Update the file path to the location where you uploaded your CSV in Google Drive\n",
        "file_path = '/content/drive/My Drive/Thesis/df-english.csv'\n",
        "\n",
        "# Read the CSV file\n",
        "df = pd.read_csv(file_path)\n",
        "\n"
      ]
    },
    {
      "cell_type": "code",
      "source": [
        "import numpy as np\n",
        "from sklearn.model_selection import train_test_split\n",
        "from sklearn.preprocessing import MinMaxScaler\n",
        "from ast import literal_eval\n",
        "\n",
        "\n",
        "\n",
        "df[\"ada_embedding_eng\"] = df[\"ada_embedding_eng\"].apply(literal_eval).apply(np.array)\n",
        "\n",
        "x = df[\"ada_embedding_eng\"]\n",
        "y = df['numerical_price']\n",
        "# Explode the embedding arrays into separate columns\n",
        "\n"
      ],
      "metadata": {
        "colab": {
          "base_uri": "https://localhost:8080/",
          "height": 249
        },
        "id": "a3T-TNHAwjRj",
        "outputId": "38b965a1-d41b-4b72-b5e8-bbbcc603fd55"
      },
      "execution_count": 4,
      "outputs": [
        {
          "output_type": "error",
          "ename": "AttributeError",
          "evalue": "'list' object has no attribute 'sample'",
          "traceback": [
            "\u001b[0;31m---------------------------------------------------------------------------\u001b[0m",
            "\u001b[0;31mAttributeError\u001b[0m                            Traceback (most recent call last)",
            "\u001b[0;32m<ipython-input-4-be0122c2ba39>\u001b[0m in \u001b[0;36m<cell line: 20>\u001b[0;34m()\u001b[0m\n\u001b[1;32m     18\u001b[0m \u001b[0;34m\u001b[0m\u001b[0m\n\u001b[1;32m     19\u001b[0m \u001b[0;31m# Now, sample 10000 instances from the remaining training set for hyperparameter tuning\u001b[0m\u001b[0;34m\u001b[0m\u001b[0;34m\u001b[0m\u001b[0m\n\u001b[0;32m---> 20\u001b[0;31m \u001b[0mx_train\u001b[0m \u001b[0;34m=\u001b[0m \u001b[0mx_train\u001b[0m\u001b[0;34m.\u001b[0m\u001b[0msample\u001b[0m\u001b[0;34m(\u001b[0m\u001b[0;36m10000\u001b[0m\u001b[0;34m,\u001b[0m \u001b[0mrandom_state\u001b[0m\u001b[0;34m=\u001b[0m\u001b[0;36m42\u001b[0m\u001b[0;34m)\u001b[0m\u001b[0;34m\u001b[0m\u001b[0;34m\u001b[0m\u001b[0m\n\u001b[0m\u001b[1;32m     21\u001b[0m \u001b[0my_train\u001b[0m \u001b[0;34m=\u001b[0m \u001b[0my_train\u001b[0m\u001b[0;34m.\u001b[0m\u001b[0mloc\u001b[0m\u001b[0;34m[\u001b[0m\u001b[0mx_train\u001b[0m\u001b[0;34m.\u001b[0m\u001b[0mindex\u001b[0m\u001b[0;34m]\u001b[0m\u001b[0;34m\u001b[0m\u001b[0;34m\u001b[0m\u001b[0m\n",
            "\u001b[0;31mAttributeError\u001b[0m: 'list' object has no attribute 'sample'"
          ]
        }
      ]
    },
    {
      "cell_type": "code",
      "source": [
        "x = x.apply(pd.Series)\n",
        "\n",
        "# First split: separate out a test set\n",
        "x_train, x_test, y_train, y_test = train_test_split(x, y, test_size=0.2, random_state=42)\n",
        "\n",
        "# Now, sample 10000 instances from the remaining training set for hyperparameter tuning\n",
        "x_train = x_train.sample(10000, random_state=42)\n",
        "y_train = y_train.loc[x_train.index]"
      ],
      "metadata": {
        "id": "CYlQkl9w0XzA"
      },
      "execution_count": 5,
      "outputs": []
    },
    {
      "cell_type": "code",
      "source": [
        "\n",
        "!pip install optuna\n",
        "from tensorflow.keras.models import Sequential\n",
        "from tensorflow.keras.layers import Dense\n",
        "from tensorflow.keras.optimizers import Adam\n",
        "from tensorflow.keras.regularizers import l1, l2, l1_l2\n",
        "from sklearn.metrics import r2_score\n",
        "from sklearn.model_selection import KFold\n",
        "from sklearn.preprocessing import StandardScaler\n",
        "import numpy as np\n",
        "import optuna\n",
        "\n",
        "def Objective_nn(trial):\n",
        "    # Hyperparameters to tune\n",
        "    learning_rate = trial.suggest_float(\"learning_rate\", 0.0001, 0.01, log=False)\n",
        "    neurons_layer_1 = trial.suggest_int(\"neurons_layer_1\", 16, 1024, step=16)\n",
        "    neurons_layer_2 = trial.suggest_int(\"neurons_layer_2\", 16, 512, step=16)\n",
        "    neurons_layer_3 = trial.suggest_int(\"neurons_layer_3\", 16, 256, step=16)\n",
        "    batch_size = trial.suggest_categorical(\"batch_size\", [16, 32, 64, 128])\n",
        "    epochs = trial.suggest_int(\"epochs\", 5, 100)\n",
        "    regularization = trial.suggest_categorical(\"regularization\", [\"none\", \"l1\", \"l2\", \"l1_l2\"])\n",
        "    l1_reg = trial.suggest_float(\"l1_reg\", 1e-5, 1e-1, log=True) if regularization in [\"l1\", \"l1_l2\"] else 0\n",
        "    l2_reg = trial.suggest_float(\"l2_reg\", 1e-5, 1e-1, log=True) if regularization in [\"l2\", \"l1_l2\"] else 0\n",
        "\n",
        "    # KFold Cross-validation\n",
        "    kf = KFold(n_splits=5)\n",
        "    r2_scores = []\n",
        "\n",
        "    for train_index, test_index in kf.split(x_train):\n",
        "        X_train_fold, X_test_fold = x_train[train_index], x_train[test_index]\n",
        "        y_train_fold, y_test_fold = y_train[train_index], y_train[test_index]\n",
        "\n",
        "\n",
        "\n",
        "        # Build model\n",
        "        model = Sequential()\n",
        "        model.add(Dense(neurons_layer_1, activation='relu', input_shape=(X_train_fold.shape[1],),\n",
        "                        kernel_regularizer=l1_l2(l1=l1_reg, l2=l2_reg) if regularization != \"none\" else None))\n",
        "        model.add(Dense(neurons_layer_2, activation='relu',\n",
        "                        kernel_regularizer=l1_l2(l1=l1_reg, l2=l2_reg) if regularization != \"none\" else None))\n",
        "        model.add(Dense(neurons_layer_3, activation='relu',\n",
        "                        kernel_regularizer=l1_l2(l1=l1_reg, l2=l2_reg) if regularization != \"none\" else None))\n",
        "        model.add(Dense(1, activation='linear'))\n",
        "\n",
        "        # Compile model\n",
        "        optimizer = Adam(learning_rate=learning_rate)\n",
        "        model.compile(optimizer=optimizer, loss='mean_squared_error')\n",
        "\n",
        "        # Scaling y_train\n",
        "        scaler = StandardScaler()\n",
        "        y_train_scaled = scaler.fit_transform(y_train_fold.reshape(-1, 1)).flatten()\n",
        "\n",
        "        # Train model\n",
        "        model.fit(X_train_fold, y_train_scaled, epochs=epochs, batch_size=batch_size, verbose=0)\n",
        "\n",
        "        # Predict and evaluate\n",
        "        y_pred_scaled = model.predict(X_test_fold)\n",
        "        y_pred = scaler.inverse_transform(y_pred_scaled.reshape(-1, 1)).flatten()\n",
        "\n",
        "        r2 = r2_score(y_test_fold, y_pred)\n",
        "        r2_scores.append(r2)\n",
        "\n",
        "    return np.mean(r2_scores)\n"
      ],
      "metadata": {
        "colab": {
          "base_uri": "https://localhost:8080/"
        },
        "id": "aw1OCI0rwn_j",
        "outputId": "4013a3d7-417e-4440-c11b-26aff7505509"
      },
      "execution_count": 6,
      "outputs": [
        {
          "output_type": "stream",
          "name": "stdout",
          "text": [
            "Collecting optuna\n",
            "  Downloading optuna-3.5.0-py3-none-any.whl (413 kB)\n",
            "\u001b[2K     \u001b[90m━━━━━━━━━━━━━━━━━━━━━━━━━━━━━━━━━━━━━━━━\u001b[0m \u001b[32m413.4/413.4 kB\u001b[0m \u001b[31m5.6 MB/s\u001b[0m eta \u001b[36m0:00:00\u001b[0m\n",
            "\u001b[?25hCollecting alembic>=1.5.0 (from optuna)\n",
            "  Downloading alembic-1.13.1-py3-none-any.whl (233 kB)\n",
            "\u001b[2K     \u001b[90m━━━━━━━━━━━━━━━━━━━━━━━━━━━━━━━━━━━━━━━━\u001b[0m \u001b[32m233.4/233.4 kB\u001b[0m \u001b[31m8.6 MB/s\u001b[0m eta \u001b[36m0:00:00\u001b[0m\n",
            "\u001b[?25hCollecting colorlog (from optuna)\n",
            "  Downloading colorlog-6.8.0-py3-none-any.whl (11 kB)\n",
            "Requirement already satisfied: numpy in /usr/local/lib/python3.10/dist-packages (from optuna) (1.23.5)\n",
            "Requirement already satisfied: packaging>=20.0 in /usr/local/lib/python3.10/dist-packages (from optuna) (23.2)\n",
            "Requirement already satisfied: sqlalchemy>=1.3.0 in /usr/local/lib/python3.10/dist-packages (from optuna) (2.0.23)\n",
            "Requirement already satisfied: tqdm in /usr/local/lib/python3.10/dist-packages (from optuna) (4.66.1)\n",
            "Requirement already satisfied: PyYAML in /usr/local/lib/python3.10/dist-packages (from optuna) (6.0.1)\n",
            "Collecting Mako (from alembic>=1.5.0->optuna)\n",
            "  Downloading Mako-1.3.0-py3-none-any.whl (78 kB)\n",
            "\u001b[2K     \u001b[90m━━━━━━━━━━━━━━━━━━━━━━━━━━━━━━━━━━━━━━━━\u001b[0m \u001b[32m78.6/78.6 kB\u001b[0m \u001b[31m5.9 MB/s\u001b[0m eta \u001b[36m0:00:00\u001b[0m\n",
            "\u001b[?25hRequirement already satisfied: typing-extensions>=4 in /usr/local/lib/python3.10/dist-packages (from alembic>=1.5.0->optuna) (4.5.0)\n",
            "Requirement already satisfied: greenlet!=0.4.17 in /usr/local/lib/python3.10/dist-packages (from sqlalchemy>=1.3.0->optuna) (3.0.2)\n",
            "Requirement already satisfied: MarkupSafe>=0.9.2 in /usr/local/lib/python3.10/dist-packages (from Mako->alembic>=1.5.0->optuna) (2.1.3)\n",
            "Installing collected packages: Mako, colorlog, alembic, optuna\n",
            "Successfully installed Mako-1.3.0 alembic-1.13.1 colorlog-6.8.0 optuna-3.5.0\n"
          ]
        }
      ]
    },
    {
      "cell_type": "code",
      "source": [
        "import numpy as np\n",
        "\n",
        "# Convert x_train and x_test to numpy arrays\n",
        "x_train = np.array(x_train)\n",
        "x_test = np.array(x_test)\n",
        "\n",
        "\n",
        "print(\"x_train shape:\", x_train.shape)\n",
        "print(\"x_test shape:\", x_test.shape)\n",
        "print(\"y_train shape:\", y_train.shape)\n",
        "print(\"y_test shape:\", y_test.shape)\n",
        "\n",
        "\n",
        "\n",
        "y_train = np.ravel(y_train)\n",
        "y_test = np.ravel(y_test)\n",
        "\n",
        "\n",
        "print(\"Adjusted y_train shape:\", y_train.shape)\n",
        "print(\"Adjusted y_test shape:\", y_test.shape)\n"
      ],
      "metadata": {
        "colab": {
          "base_uri": "https://localhost:8080/"
        },
        "id": "bIgeDHp1wups",
        "outputId": "6c8df967-5157-468a-eba7-91903bb8e0c3"
      },
      "execution_count": 7,
      "outputs": [
        {
          "output_type": "stream",
          "name": "stdout",
          "text": [
            "x_train shape: (10000, 1536)\n",
            "x_test shape: (14403, 1536)\n",
            "y_train shape: (10000,)\n",
            "y_test shape: (14403,)\n",
            "Adjusted y_train shape: (10000,)\n",
            "Adjusted y_test shape: (14403,)\n"
          ]
        }
      ]
    },
    {
      "cell_type": "code",
      "source": [
        "study_svr = optuna.create_study(directions=['maximize'])\n",
        "study_svr.optimize(Objective_nn, n_trials=50)"
      ],
      "metadata": {
        "colab": {
          "base_uri": "https://localhost:8080/"
        },
        "id": "8q79jcp2wy5O",
        "outputId": "08f4e884-4503-4443-a345-ddb9014742c7"
      },
      "execution_count": 8,
      "outputs": [
        {
          "metadata": {
            "tags": null
          },
          "name": "stderr",
          "output_type": "stream",
          "text": [
            "[I 2024-01-06 12:49:25,055] A new study created in memory with name: no-name-357e6aa9-d215-4e40-860f-deb76c43568a\n"
          ]
        },
        {
          "metadata": {
            "tags": null
          },
          "name": "stdout",
          "output_type": "stream",
          "text": [
            "63/63 [==============================] - 0s 2ms/step\n",
            "63/63 [==============================] - 0s 1ms/step\n",
            "63/63 [==============================] - 0s 1ms/step\n",
            "63/63 [==============================] - 0s 1ms/step\n",
            "63/63 [==============================] - 0s 1ms/step\n"
          ]
        },
        {
          "metadata": {
            "tags": null
          },
          "name": "stderr",
          "output_type": "stream",
          "text": [
            "[I 2024-01-06 12:51:27,435] Trial 0 finished with value: 0.5709212260271033 and parameters: {'learning_rate': 0.005301876041996502, 'neurons_layer_1': 544, 'neurons_layer_2': 432, 'neurons_layer_3': 144, 'batch_size': 64, 'epochs': 78, 'regularization': 'none'}. Best is trial 0 with value: 0.5709212260271033.\n"
          ]
        },
        {
          "metadata": {
            "tags": null
          },
          "name": "stdout",
          "output_type": "stream",
          "text": [
            "63/63 [==============================] - 0s 1ms/step\n",
            "63/63 [==============================] - 0s 1ms/step\n",
            "63/63 [==============================] - 0s 1ms/step\n",
            "63/63 [==============================] - 0s 2ms/step\n",
            "63/63 [==============================] - 0s 1ms/step\n"
          ]
        },
        {
          "metadata": {
            "tags": null
          },
          "name": "stderr",
          "output_type": "stream",
          "text": [
            "[I 2024-01-06 12:52:29,912] Trial 1 finished with value: -0.0005984394712040597 and parameters: {'learning_rate': 0.009531965950361853, 'neurons_layer_1': 528, 'neurons_layer_2': 224, 'neurons_layer_3': 208, 'batch_size': 128, 'epochs': 63, 'regularization': 'l1', 'l1_reg': 0.005618093199467732}. Best is trial 0 with value: 0.5709212260271033.\n"
          ]
        },
        {
          "metadata": {
            "tags": null
          },
          "name": "stdout",
          "output_type": "stream",
          "text": [
            "63/63 [==============================] - 0s 1ms/step\n",
            "63/63 [==============================] - 0s 2ms/step\n",
            "63/63 [==============================] - 0s 1ms/step\n",
            "63/63 [==============================] - 0s 1ms/step\n",
            "63/63 [==============================] - 0s 1ms/step\n"
          ]
        },
        {
          "metadata": {
            "tags": null
          },
          "name": "stderr",
          "output_type": "stream",
          "text": [
            "[I 2024-01-06 12:53:27,651] Trial 2 finished with value: -0.0012641929510345928 and parameters: {'learning_rate': 0.006786241203551261, 'neurons_layer_1': 624, 'neurons_layer_2': 256, 'neurons_layer_3': 48, 'batch_size': 16, 'epochs': 9, 'regularization': 'l2', 'l2_reg': 0.012915287564490039}. Best is trial 0 with value: 0.5709212260271033.\n"
          ]
        },
        {
          "metadata": {
            "tags": null
          },
          "name": "stdout",
          "output_type": "stream",
          "text": [
            "63/63 [==============================] - 0s 1ms/step\n",
            "63/63 [==============================] - 0s 1ms/step\n",
            "63/63 [==============================] - 0s 1ms/step\n",
            "63/63 [==============================] - 0s 1ms/step\n",
            "63/63 [==============================] - 0s 1ms/step\n"
          ]
        },
        {
          "metadata": {
            "tags": null
          },
          "name": "stderr",
          "output_type": "stream",
          "text": [
            "[I 2024-01-06 13:01:04,543] Trial 3 finished with value: -0.0012500471781703658 and parameters: {'learning_rate': 0.006774413364414989, 'neurons_layer_1': 192, 'neurons_layer_2': 160, 'neurons_layer_3': 112, 'batch_size': 16, 'epochs': 78, 'regularization': 'l1_l2', 'l1_reg': 0.04718805969868985, 'l2_reg': 0.0014279285749004456}. Best is trial 0 with value: 0.5709212260271033.\n"
          ]
        },
        {
          "metadata": {
            "tags": null
          },
          "name": "stdout",
          "output_type": "stream",
          "text": [
            "63/63 [==============================] - 0s 1ms/step\n",
            "63/63 [==============================] - 0s 1ms/step\n",
            "63/63 [==============================] - 0s 1ms/step\n",
            "63/63 [==============================] - 0s 1ms/step\n",
            "63/63 [==============================] - 0s 1ms/step\n"
          ]
        },
        {
          "metadata": {
            "tags": null
          },
          "name": "stderr",
          "output_type": "stream",
          "text": [
            "[I 2024-01-06 13:01:42,394] Trial 4 finished with value: 0.09214654249023213 and parameters: {'learning_rate': 0.005454414013639755, 'neurons_layer_1': 976, 'neurons_layer_2': 64, 'neurons_layer_3': 176, 'batch_size': 64, 'epochs': 20, 'regularization': 'l2', 'l2_reg': 0.004243566432965059}. Best is trial 0 with value: 0.5709212260271033.\n"
          ]
        },
        {
          "metadata": {
            "tags": null
          },
          "name": "stdout",
          "output_type": "stream",
          "text": [
            "63/63 [==============================] - 0s 1ms/step\n",
            "63/63 [==============================] - 0s 1ms/step\n",
            "63/63 [==============================] - 0s 1ms/step\n",
            "63/63 [==============================] - 0s 1ms/step\n",
            "63/63 [==============================] - 0s 2ms/step\n"
          ]
        },
        {
          "metadata": {
            "tags": null
          },
          "name": "stderr",
          "output_type": "stream",
          "text": [
            "[I 2024-01-06 13:10:24,719] Trial 5 finished with value: 0.44577410566593245 and parameters: {'learning_rate': 0.008674134910911565, 'neurons_layer_1': 64, 'neurons_layer_2': 256, 'neurons_layer_3': 256, 'batch_size': 16, 'epochs': 91, 'regularization': 'l1', 'l1_reg': 4.272165834848994e-05}. Best is trial 0 with value: 0.5709212260271033.\n"
          ]
        },
        {
          "metadata": {
            "tags": null
          },
          "name": "stdout",
          "output_type": "stream",
          "text": [
            "63/63 [==============================] - 0s 1ms/step\n",
            "63/63 [==============================] - 0s 1ms/step\n",
            "63/63 [==============================] - 0s 1ms/step\n",
            "63/63 [==============================] - 0s 1ms/step\n",
            "63/63 [==============================] - 0s 1ms/step\n"
          ]
        },
        {
          "metadata": {
            "tags": null
          },
          "name": "stderr",
          "output_type": "stream",
          "text": [
            "[I 2024-01-06 13:12:46,295] Trial 6 finished with value: -0.0018461349119538895 and parameters: {'learning_rate': 0.007752594582047387, 'neurons_layer_1': 528, 'neurons_layer_2': 368, 'neurons_layer_3': 192, 'batch_size': 16, 'epochs': 23, 'regularization': 'l1_l2', 'l1_reg': 0.0002451397153607201, 'l2_reg': 0.0005176951419956067}. Best is trial 0 with value: 0.5709212260271033.\n"
          ]
        },
        {
          "metadata": {
            "tags": null
          },
          "name": "stdout",
          "output_type": "stream",
          "text": [
            "63/63 [==============================] - 0s 1ms/step\n",
            "63/63 [==============================] - 0s 1ms/step\n",
            "63/63 [==============================] - 0s 1ms/step\n",
            "63/63 [==============================] - 0s 1ms/step\n",
            "63/63 [==============================] - 0s 1ms/step\n"
          ]
        },
        {
          "metadata": {
            "tags": null
          },
          "name": "stderr",
          "output_type": "stream",
          "text": [
            "[I 2024-01-06 13:18:01,118] Trial 7 finished with value: 0.4237044488237851 and parameters: {'learning_rate': 0.005632723156134478, 'neurons_layer_1': 16, 'neurons_layer_2': 288, 'neurons_layer_3': 48, 'batch_size': 16, 'epochs': 57, 'regularization': 'none'}. Best is trial 0 with value: 0.5709212260271033.\n"
          ]
        },
        {
          "metadata": {
            "tags": null
          },
          "name": "stdout",
          "output_type": "stream",
          "text": [
            "63/63 [==============================] - 0s 2ms/step\n",
            "63/63 [==============================] - 0s 1ms/step\n",
            "63/63 [==============================] - 0s 1ms/step\n",
            "63/63 [==============================] - 0s 1ms/step\n",
            "63/63 [==============================] - 0s 1ms/step\n"
          ]
        },
        {
          "metadata": {
            "tags": null
          },
          "name": "stderr",
          "output_type": "stream",
          "text": [
            "[I 2024-01-06 13:22:46,687] Trial 8 finished with value: 0.5777316106736419 and parameters: {'learning_rate': 0.007876412039635048, 'neurons_layer_1': 432, 'neurons_layer_2': 192, 'neurons_layer_3': 144, 'batch_size': 16, 'epochs': 51, 'regularization': 'none'}. Best is trial 8 with value: 0.5777316106736419.\n"
          ]
        },
        {
          "metadata": {
            "tags": null
          },
          "name": "stdout",
          "output_type": "stream",
          "text": [
            "63/63 [==============================] - 0s 1ms/step\n",
            "63/63 [==============================] - 0s 1ms/step\n",
            "63/63 [==============================] - 0s 1ms/step\n",
            "63/63 [==============================] - 0s 1ms/step\n",
            "63/63 [==============================] - 0s 1ms/step\n"
          ]
        },
        {
          "metadata": {
            "tags": null
          },
          "name": "stderr",
          "output_type": "stream",
          "text": [
            "[I 2024-01-06 13:25:21,125] Trial 9 finished with value: -0.00034950905641584207 and parameters: {'learning_rate': 0.007965649660547401, 'neurons_layer_1': 368, 'neurons_layer_2': 336, 'neurons_layer_3': 128, 'batch_size': 16, 'epochs': 26, 'regularization': 'l1', 'l1_reg': 0.07755667700511662}. Best is trial 8 with value: 0.5777316106736419.\n"
          ]
        },
        {
          "metadata": {
            "tags": null
          },
          "name": "stdout",
          "output_type": "stream",
          "text": [
            "63/63 [==============================] - 0s 1ms/step\n",
            "63/63 [==============================] - 0s 1ms/step\n",
            "63/63 [==============================] - 0s 1ms/step\n",
            "63/63 [==============================] - 0s 1ms/step\n",
            "63/63 [==============================] - 0s 1ms/step\n"
          ]
        },
        {
          "metadata": {
            "tags": null
          },
          "name": "stderr",
          "output_type": "stream",
          "text": [
            "[I 2024-01-06 13:27:05,319] Trial 10 finished with value: 0.5842458402738475 and parameters: {'learning_rate': 0.0016465735057069027, 'neurons_layer_1': 768, 'neurons_layer_2': 32, 'neurons_layer_3': 80, 'batch_size': 32, 'epochs': 35, 'regularization': 'none'}. Best is trial 10 with value: 0.5842458402738475.\n"
          ]
        },
        {
          "metadata": {
            "tags": null
          },
          "name": "stdout",
          "output_type": "stream",
          "text": [
            "63/63 [==============================] - 0s 1ms/step\n",
            "63/63 [==============================] - 0s 1ms/step\n",
            "63/63 [==============================] - 0s 1ms/step\n",
            "63/63 [==============================] - 0s 1ms/step\n",
            "63/63 [==============================] - 0s 1ms/step\n"
          ]
        },
        {
          "metadata": {
            "tags": null
          },
          "name": "stderr",
          "output_type": "stream",
          "text": [
            "[I 2024-01-06 13:29:05,311] Trial 11 finished with value: 0.5970324986605648 and parameters: {'learning_rate': 0.0015640065767859258, 'neurons_layer_1': 784, 'neurons_layer_2': 32, 'neurons_layer_3': 80, 'batch_size': 32, 'epochs': 41, 'regularization': 'none'}. Best is trial 11 with value: 0.5970324986605648.\n"
          ]
        },
        {
          "metadata": {
            "tags": null
          },
          "name": "stdout",
          "output_type": "stream",
          "text": [
            "63/63 [==============================] - 0s 1ms/step\n",
            "63/63 [==============================] - 0s 1ms/step\n",
            "63/63 [==============================] - 0s 1ms/step\n",
            "63/63 [==============================] - 0s 1ms/step\n",
            "63/63 [==============================] - 0s 1ms/step\n"
          ]
        },
        {
          "metadata": {
            "tags": null
          },
          "name": "stderr",
          "output_type": "stream",
          "text": [
            "[I 2024-01-06 13:30:58,352] Trial 12 finished with value: 0.6108849074665503 and parameters: {'learning_rate': 0.0012157205772678431, 'neurons_layer_1': 800, 'neurons_layer_2': 16, 'neurons_layer_3': 80, 'batch_size': 32, 'epochs': 38, 'regularization': 'none'}. Best is trial 12 with value: 0.6108849074665503.\n"
          ]
        },
        {
          "metadata": {
            "tags": null
          },
          "name": "stdout",
          "output_type": "stream",
          "text": [
            "63/63 [==============================] - 0s 1ms/step\n",
            "63/63 [==============================] - 0s 1ms/step\n",
            "63/63 [==============================] - 0s 1ms/step\n",
            "63/63 [==============================] - 0s 1ms/step\n",
            "63/63 [==============================] - 0s 1ms/step\n"
          ]
        },
        {
          "metadata": {
            "tags": null
          },
          "name": "stderr",
          "output_type": "stream",
          "text": [
            "[I 2024-01-06 13:33:03,825] Trial 13 finished with value: 0.61314686779975 and parameters: {'learning_rate': 0.0008152339372851421, 'neurons_layer_1': 880, 'neurons_layer_2': 96, 'neurons_layer_3': 80, 'batch_size': 32, 'epochs': 42, 'regularization': 'none'}. Best is trial 13 with value: 0.61314686779975.\n"
          ]
        },
        {
          "metadata": {
            "tags": null
          },
          "name": "stdout",
          "output_type": "stream",
          "text": [
            "63/63 [==============================] - 0s 1ms/step\n",
            "63/63 [==============================] - 0s 1ms/step\n",
            "63/63 [==============================] - 0s 2ms/step\n",
            "63/63 [==============================] - 0s 1ms/step\n",
            "63/63 [==============================] - 0s 1ms/step\n"
          ]
        },
        {
          "metadata": {
            "tags": null
          },
          "name": "stderr",
          "output_type": "stream",
          "text": [
            "[I 2024-01-06 13:35:06,771] Trial 14 finished with value: 0.6203607772271791 and parameters: {'learning_rate': 0.0001907952213340274, 'neurons_layer_1': 960, 'neurons_layer_2': 112, 'neurons_layer_3': 16, 'batch_size': 32, 'epochs': 42, 'regularization': 'none'}. Best is trial 14 with value: 0.6203607772271791.\n"
          ]
        },
        {
          "metadata": {
            "tags": null
          },
          "name": "stdout",
          "output_type": "stream",
          "text": [
            "63/63 [==============================] - 0s 1ms/step\n",
            "63/63 [==============================] - 0s 1ms/step\n",
            "63/63 [==============================] - 0s 1ms/step\n",
            "63/63 [==============================] - 0s 1ms/step\n",
            "63/63 [==============================] - 0s 1ms/step\n"
          ]
        },
        {
          "metadata": {
            "tags": null
          },
          "name": "stderr",
          "output_type": "stream",
          "text": [
            "[I 2024-01-06 13:37:26,520] Trial 15 finished with value: 0.6042411691097243 and parameters: {'learning_rate': 0.0030347976538390564, 'neurons_layer_1': 1024, 'neurons_layer_2': 128, 'neurons_layer_3': 16, 'batch_size': 32, 'epochs': 48, 'regularization': 'none'}. Best is trial 14 with value: 0.6203607772271791.\n"
          ]
        },
        {
          "metadata": {
            "tags": null
          },
          "name": "stdout",
          "output_type": "stream",
          "text": [
            "63/63 [==============================] - 0s 1ms/step\n",
            "63/63 [==============================] - 0s 1ms/step\n",
            "63/63 [==============================] - 0s 1ms/step\n",
            "63/63 [==============================] - 0s 1ms/step\n",
            "63/63 [==============================] - 0s 1ms/step\n"
          ]
        },
        {
          "metadata": {
            "tags": null
          },
          "name": "stderr",
          "output_type": "stream",
          "text": [
            "[I 2024-01-06 13:40:37,090] Trial 16 finished with value: 0.6169829876834484 and parameters: {'learning_rate': 0.0002523299895961185, 'neurons_layer_1': 912, 'neurons_layer_2': 112, 'neurons_layer_3': 16, 'batch_size': 32, 'epochs': 67, 'regularization': 'none'}. Best is trial 14 with value: 0.6203607772271791.\n"
          ]
        },
        {
          "metadata": {
            "tags": null
          },
          "name": "stdout",
          "output_type": "stream",
          "text": [
            "63/63 [==============================] - 0s 1ms/step\n",
            "63/63 [==============================] - 0s 1ms/step\n",
            "63/63 [==============================] - 0s 1ms/step\n",
            "63/63 [==============================] - 0s 2ms/step\n",
            "63/63 [==============================] - 0s 1ms/step\n"
          ]
        },
        {
          "metadata": {
            "tags": null
          },
          "name": "stderr",
          "output_type": "stream",
          "text": [
            "[I 2024-01-06 13:41:43,674] Trial 17 finished with value: 0.592659730864426 and parameters: {'learning_rate': 0.003538290494371166, 'neurons_layer_1': 672, 'neurons_layer_2': 128, 'neurons_layer_3': 16, 'batch_size': 128, 'epochs': 69, 'regularization': 'l2', 'l2_reg': 1.2634019073235722e-05}. Best is trial 14 with value: 0.6203607772271791.\n"
          ]
        },
        {
          "metadata": {
            "tags": null
          },
          "name": "stdout",
          "output_type": "stream",
          "text": [
            "63/63 [==============================] - 0s 1ms/step\n",
            "63/63 [==============================] - 0s 1ms/step\n",
            "63/63 [==============================] - 0s 1ms/step\n",
            "63/63 [==============================] - 0s 1ms/step\n",
            "63/63 [==============================] - 0s 2ms/step\n"
          ]
        },
        {
          "metadata": {
            "tags": null
          },
          "name": "stderr",
          "output_type": "stream",
          "text": [
            "[I 2024-01-06 13:46:37,970] Trial 18 finished with value: -0.0009478506058916203 and parameters: {'learning_rate': 0.0031295551679926628, 'neurons_layer_1': 928, 'neurons_layer_2': 176, 'neurons_layer_3': 48, 'batch_size': 32, 'epochs': 97, 'regularization': 'l1_l2', 'l1_reg': 1.8275356347037107e-05, 'l2_reg': 0.07542316151707416}. Best is trial 14 with value: 0.6203607772271791.\n"
          ]
        },
        {
          "metadata": {
            "tags": null
          },
          "name": "stdout",
          "output_type": "stream",
          "text": [
            "63/63 [==============================] - 0s 1ms/step\n",
            "63/63 [==============================] - 0s 2ms/step\n",
            "63/63 [==============================] - 0s 1ms/step\n",
            "63/63 [==============================] - 0s 1ms/step\n",
            "63/63 [==============================] - 0s 1ms/step\n"
          ]
        },
        {
          "metadata": {
            "tags": null
          },
          "name": "stderr",
          "output_type": "stream",
          "text": [
            "[I 2024-01-06 13:50:04,951] Trial 19 finished with value: 0.6139274193565825 and parameters: {'learning_rate': 0.00014835896634744002, 'neurons_layer_1': 880, 'neurons_layer_2': 512, 'neurons_layer_3': 16, 'batch_size': 32, 'epochs': 72, 'regularization': 'none'}. Best is trial 14 with value: 0.6203607772271791.\n"
          ]
        },
        {
          "metadata": {
            "tags": null
          },
          "name": "stdout",
          "output_type": "stream",
          "text": [
            "63/63 [==============================] - 0s 1ms/step\n",
            "63/63 [==============================] - 0s 1ms/step\n",
            "63/63 [==============================] - 0s 1ms/step\n",
            "63/63 [==============================] - 0s 1ms/step\n",
            "63/63 [==============================] - 0s 1ms/step\n"
          ]
        },
        {
          "metadata": {
            "tags": null
          },
          "name": "stderr",
          "output_type": "stream",
          "text": [
            "[I 2024-01-06 13:52:49,780] Trial 20 finished with value: 0.5829845912343007 and parameters: {'learning_rate': 0.004016546816101202, 'neurons_layer_1': 688, 'neurons_layer_2': 112, 'neurons_layer_3': 48, 'batch_size': 32, 'epochs': 57, 'regularization': 'none'}. Best is trial 14 with value: 0.6203607772271791.\n"
          ]
        },
        {
          "metadata": {
            "tags": null
          },
          "name": "stdout",
          "output_type": "stream",
          "text": [
            "63/63 [==============================] - 0s 1ms/step\n",
            "63/63 [==============================] - 0s 1ms/step\n",
            "63/63 [==============================] - 0s 1ms/step\n",
            "63/63 [==============================] - 0s 1ms/step\n",
            "63/63 [==============================] - 0s 1ms/step\n"
          ]
        },
        {
          "metadata": {
            "tags": null
          },
          "name": "stderr",
          "output_type": "stream",
          "text": [
            "[I 2024-01-06 13:56:28,789] Trial 21 finished with value: 0.6281998237199552 and parameters: {'learning_rate': 0.00016275683513421806, 'neurons_layer_1': 896, 'neurons_layer_2': 512, 'neurons_layer_3': 16, 'batch_size': 32, 'epochs': 77, 'regularization': 'none'}. Best is trial 21 with value: 0.6281998237199552.\n"
          ]
        },
        {
          "metadata": {
            "tags": null
          },
          "name": "stdout",
          "output_type": "stream",
          "text": [
            "63/63 [==============================] - 0s 1ms/step\n",
            "63/63 [==============================] - 0s 1ms/step\n",
            "63/63 [==============================] - 0s 1ms/step\n",
            "63/63 [==============================] - 0s 1ms/step\n",
            "63/63 [==============================] - 0s 1ms/step\n"
          ]
        },
        {
          "metadata": {
            "tags": null
          },
          "name": "stderr",
          "output_type": "stream",
          "text": [
            "[I 2024-01-06 14:00:30,411] Trial 22 finished with value: 0.5796248380483758 and parameters: {'learning_rate': 0.0022986225399605647, 'neurons_layer_1': 1024, 'neurons_layer_2': 448, 'neurons_layer_3': 32, 'batch_size': 32, 'epochs': 85, 'regularization': 'none'}. Best is trial 21 with value: 0.6281998237199552.\n"
          ]
        },
        {
          "metadata": {
            "tags": null
          },
          "name": "stdout",
          "output_type": "stream",
          "text": [
            "63/63 [==============================] - 0s 1ms/step\n",
            "63/63 [==============================] - 0s 1ms/step\n",
            "63/63 [==============================] - 0s 1ms/step\n",
            "63/63 [==============================] - 0s 1ms/step\n",
            "63/63 [==============================] - 0s 1ms/step\n"
          ]
        },
        {
          "metadata": {
            "tags": null
          },
          "name": "stderr",
          "output_type": "stream",
          "text": [
            "[I 2024-01-06 14:03:41,344] Trial 23 finished with value: 0.6177875940136491 and parameters: {'learning_rate': 0.0007354962594476521, 'neurons_layer_1': 848, 'neurons_layer_2': 304, 'neurons_layer_3': 16, 'batch_size': 32, 'epochs': 66, 'regularization': 'none'}. Best is trial 21 with value: 0.6281998237199552.\n"
          ]
        },
        {
          "metadata": {
            "tags": null
          },
          "name": "stdout",
          "output_type": "stream",
          "text": [
            "63/63 [==============================] - 0s 1ms/step\n",
            "63/63 [==============================] - 0s 1ms/step\n",
            "63/63 [==============================] - 0s 1ms/step\n",
            "63/63 [==============================] - 0s 2ms/step\n",
            "63/63 [==============================] - 0s 1ms/step\n"
          ]
        },
        {
          "metadata": {
            "tags": null
          },
          "name": "stderr",
          "output_type": "stream",
          "text": [
            "[I 2024-01-06 14:05:00,014] Trial 24 finished with value: 0.60545659995626 and parameters: {'learning_rate': 0.0019523952201491515, 'neurons_layer_1': 816, 'neurons_layer_2': 352, 'neurons_layer_3': 64, 'batch_size': 128, 'epochs': 82, 'regularization': 'none'}. Best is trial 21 with value: 0.6281998237199552.\n"
          ]
        },
        {
          "metadata": {
            "tags": null
          },
          "name": "stdout",
          "output_type": "stream",
          "text": [
            "63/63 [==============================] - 0s 1ms/step\n",
            "63/63 [==============================] - 0s 1ms/step\n",
            "63/63 [==============================] - 0s 1ms/step\n",
            "63/63 [==============================] - 0s 1ms/step\n",
            "63/63 [==============================] - 0s 1ms/step\n"
          ]
        },
        {
          "metadata": {
            "tags": null
          },
          "name": "stderr",
          "output_type": "stream",
          "text": [
            "[I 2024-01-06 14:06:37,564] Trial 25 finished with value: 0.6080250862949754 and parameters: {'learning_rate': 0.0007746533936761466, 'neurons_layer_1': 848, 'neurons_layer_2': 496, 'neurons_layer_3': 112, 'batch_size': 64, 'epochs': 62, 'regularization': 'none'}. Best is trial 21 with value: 0.6281998237199552.\n"
          ]
        },
        {
          "metadata": {
            "tags": null
          },
          "name": "stdout",
          "output_type": "stream",
          "text": [
            "63/63 [==============================] - 0s 1ms/step\n",
            "63/63 [==============================] - 0s 1ms/step\n",
            "63/63 [==============================] - 0s 1ms/step\n",
            "63/63 [==============================] - 0s 1ms/step\n",
            "63/63 [==============================] - 0s 1ms/step\n"
          ]
        },
        {
          "metadata": {
            "tags": null
          },
          "name": "stderr",
          "output_type": "stream",
          "text": [
            "[I 2024-01-06 14:11:03,172] Trial 26 finished with value: -0.0006541583920747218 and parameters: {'learning_rate': 0.002465185903809936, 'neurons_layer_1': 720, 'neurons_layer_2': 304, 'neurons_layer_3': 32, 'batch_size': 32, 'epochs': 88, 'regularization': 'l1_l2', 'l1_reg': 0.0017704546047202045, 'l2_reg': 2.1532663319228744e-05}. Best is trial 21 with value: 0.6281998237199552.\n"
          ]
        },
        {
          "metadata": {
            "tags": null
          },
          "name": "stdout",
          "output_type": "stream",
          "text": [
            "63/63 [==============================] - 0s 1ms/step\n",
            "63/63 [==============================] - 0s 1ms/step\n",
            "63/63 [==============================] - 0s 1ms/step\n",
            "63/63 [==============================] - 0s 1ms/step\n",
            "63/63 [==============================] - 0s 1ms/step\n"
          ]
        },
        {
          "metadata": {
            "tags": null
          },
          "name": "stderr",
          "output_type": "stream",
          "text": [
            "[I 2024-01-06 14:14:43,139] Trial 27 finished with value: 0.1099227880262488 and parameters: {'learning_rate': 0.004438829604623509, 'neurons_layer_1': 960, 'neurons_layer_2': 416, 'neurons_layer_3': 32, 'batch_size': 32, 'epochs': 74, 'regularization': 'l1', 'l1_reg': 0.00012812650071240703}. Best is trial 21 with value: 0.6281998237199552.\n"
          ]
        },
        {
          "metadata": {
            "tags": null
          },
          "name": "stdout",
          "output_type": "stream",
          "text": [
            "63/63 [==============================] - 0s 1ms/step\n",
            "63/63 [==============================] - 0s 1ms/step\n",
            "63/63 [==============================] - 0s 1ms/step\n",
            "63/63 [==============================] - 0s 1ms/step\n",
            "63/63 [==============================] - 0s 2ms/step\n"
          ]
        },
        {
          "metadata": {
            "tags": null
          },
          "name": "stderr",
          "output_type": "stream",
          "text": [
            "[I 2024-01-06 14:19:29,946] Trial 28 finished with value: 0.5823802184370038 and parameters: {'learning_rate': 0.0009536722373985723, 'neurons_layer_1': 288, 'neurons_layer_2': 464, 'neurons_layer_3': 64, 'batch_size': 32, 'epochs': 99, 'regularization': 'l2', 'l2_reg': 0.0001438235272053717}. Best is trial 21 with value: 0.6281998237199552.\n"
          ]
        },
        {
          "metadata": {
            "tags": null
          },
          "name": "stdout",
          "output_type": "stream",
          "text": [
            "63/63 [==============================] - 0s 1ms/step\n",
            "63/63 [==============================] - 0s 1ms/step\n",
            "63/63 [==============================] - 0s 1ms/step\n",
            "63/63 [==============================] - 0s 1ms/step\n",
            "63/63 [==============================] - 0s 1ms/step\n"
          ]
        },
        {
          "metadata": {
            "tags": null
          },
          "name": "stderr",
          "output_type": "stream",
          "text": [
            "[I 2024-01-06 14:20:22,141] Trial 29 finished with value: 0.5969141715552233 and parameters: {'learning_rate': 0.00036599064163371324, 'neurons_layer_1': 576, 'neurons_layer_2': 400, 'neurons_layer_3': 112, 'batch_size': 64, 'epochs': 31, 'regularization': 'none'}. Best is trial 21 with value: 0.6281998237199552.\n"
          ]
        },
        {
          "metadata": {
            "tags": null
          },
          "name": "stdout",
          "output_type": "stream",
          "text": [
            "63/63 [==============================] - 0s 1ms/step\n",
            "63/63 [==============================] - 0s 1ms/step\n",
            "63/63 [==============================] - 0s 1ms/step\n",
            "63/63 [==============================] - 0s 1ms/step\n",
            "63/63 [==============================] - 0s 1ms/step\n"
          ]
        },
        {
          "metadata": {
            "tags": null
          },
          "name": "stderr",
          "output_type": "stream",
          "text": [
            "[I 2024-01-06 14:22:39,143] Trial 30 finished with value: 0.6119153581360817 and parameters: {'learning_rate': 0.002499112163682224, 'neurons_layer_1': 720, 'neurons_layer_2': 208, 'neurons_layer_3': 64, 'batch_size': 32, 'epochs': 46, 'regularization': 'none'}. Best is trial 21 with value: 0.6281998237199552.\n"
          ]
        },
        {
          "metadata": {
            "tags": null
          },
          "name": "stdout",
          "output_type": "stream",
          "text": [
            "63/63 [==============================] - 0s 1ms/step\n",
            "63/63 [==============================] - 0s 1ms/step\n",
            "63/63 [==============================] - 0s 1ms/step\n",
            "63/63 [==============================] - 0s 1ms/step\n",
            "63/63 [==============================] - 0s 1ms/step\n"
          ]
        },
        {
          "metadata": {
            "tags": null
          },
          "name": "stderr",
          "output_type": "stream",
          "text": [
            "[I 2024-01-06 14:25:47,585] Trial 31 finished with value: 0.6160525005685992 and parameters: {'learning_rate': 0.0001746009393944048, 'neurons_layer_1': 912, 'neurons_layer_2': 64, 'neurons_layer_3': 16, 'batch_size': 32, 'epochs': 65, 'regularization': 'none'}. Best is trial 21 with value: 0.6281998237199552.\n"
          ]
        },
        {
          "metadata": {
            "tags": null
          },
          "name": "stdout",
          "output_type": "stream",
          "text": [
            "63/63 [==============================] - 0s 1ms/step\n",
            "63/63 [==============================] - 0s 1ms/step\n",
            "63/63 [==============================] - 0s 1ms/step\n",
            "63/63 [==============================] - 0s 1ms/step\n",
            "63/63 [==============================] - 0s 1ms/step\n"
          ]
        },
        {
          "metadata": {
            "tags": null
          },
          "name": "stderr",
          "output_type": "stream",
          "text": [
            "[I 2024-01-06 14:28:32,583] Trial 32 finished with value: 0.6067038772291695 and parameters: {'learning_rate': 0.001272534526171498, 'neurons_layer_1': 960, 'neurons_layer_2': 160, 'neurons_layer_3': 32, 'batch_size': 32, 'epochs': 57, 'regularization': 'none'}. Best is trial 21 with value: 0.6281998237199552.\n"
          ]
        },
        {
          "metadata": {
            "tags": null
          },
          "name": "stdout",
          "output_type": "stream",
          "text": [
            "63/63 [==============================] - 0s 1ms/step\n",
            "63/63 [==============================] - 0s 1ms/step\n",
            "63/63 [==============================] - 0s 1ms/step\n",
            "63/63 [==============================] - 0s 1ms/step\n",
            "63/63 [==============================] - 0s 1ms/step\n"
          ]
        },
        {
          "metadata": {
            "tags": null
          },
          "name": "stderr",
          "output_type": "stream",
          "text": [
            "[I 2024-01-06 14:29:46,338] Trial 33 finished with value: 0.6012688428214622 and parameters: {'learning_rate': 0.0006851766019878998, 'neurons_layer_1': 848, 'neurons_layer_2': 240, 'neurons_layer_3': 16, 'batch_size': 128, 'epochs': 77, 'regularization': 'none'}. Best is trial 21 with value: 0.6281998237199552.\n"
          ]
        },
        {
          "metadata": {
            "tags": null
          },
          "name": "stdout",
          "output_type": "stream",
          "text": [
            "63/63 [==============================] - 0s 1ms/step\n",
            "63/63 [==============================] - 0s 1ms/step\n",
            "63/63 [==============================] - 0s 2ms/step\n",
            "63/63 [==============================] - 0s 1ms/step\n",
            "63/63 [==============================] - 0s 1ms/step\n"
          ]
        },
        {
          "metadata": {
            "tags": null
          },
          "name": "stderr",
          "output_type": "stream",
          "text": [
            "[I 2024-01-06 14:32:56,559] Trial 34 finished with value: 0.6350217588166369 and parameters: {'learning_rate': 0.00014245324321009346, 'neurons_layer_1': 1008, 'neurons_layer_2': 288, 'neurons_layer_3': 240, 'batch_size': 32, 'epochs': 66, 'regularization': 'none'}. Best is trial 34 with value: 0.6350217588166369.\n"
          ]
        },
        {
          "metadata": {
            "tags": null
          },
          "name": "stdout",
          "output_type": "stream",
          "text": [
            "63/63 [==============================] - 0s 1ms/step\n",
            "63/63 [==============================] - 0s 1ms/step\n",
            "63/63 [==============================] - 0s 1ms/step\n",
            "63/63 [==============================] - 0s 1ms/step\n",
            "63/63 [==============================] - 0s 1ms/step\n"
          ]
        },
        {
          "metadata": {
            "tags": null
          },
          "name": "stderr",
          "output_type": "stream",
          "text": [
            "[I 2024-01-06 14:35:03,551] Trial 35 finished with value: -0.0008679585378271515 and parameters: {'learning_rate': 0.0018327645334581348, 'neurons_layer_1': 1024, 'neurons_layer_2': 304, 'neurons_layer_3': 240, 'batch_size': 64, 'epochs': 81, 'regularization': 'l2', 'l2_reg': 0.06544129512922182}. Best is trial 34 with value: 0.6350217588166369.\n"
          ]
        },
        {
          "metadata": {
            "tags": null
          },
          "name": "stdout",
          "output_type": "stream",
          "text": [
            "63/63 [==============================] - 0s 1ms/step\n",
            "63/63 [==============================] - 0s 1ms/step\n",
            "63/63 [==============================] - 0s 1ms/step\n",
            "63/63 [==============================] - 0s 1ms/step\n",
            "63/63 [==============================] - 0s 1ms/step\n"
          ]
        },
        {
          "metadata": {
            "tags": null
          },
          "name": "stderr",
          "output_type": "stream",
          "text": [
            "[I 2024-01-06 14:38:06,891] Trial 36 finished with value: -0.0017378101566706493 and parameters: {'learning_rate': 0.009795183426588559, 'neurons_layer_1': 624, 'neurons_layer_2': 384, 'neurons_layer_3': 224, 'batch_size': 32, 'epochs': 62, 'regularization': 'l1', 'l1_reg': 0.012619220026622779}. Best is trial 34 with value: 0.6350217588166369.\n"
          ]
        },
        {
          "metadata": {
            "tags": null
          },
          "name": "stdout",
          "output_type": "stream",
          "text": [
            "63/63 [==============================] - 0s 1ms/step\n",
            "63/63 [==============================] - 0s 1ms/step\n",
            "63/63 [==============================] - 0s 1ms/step\n",
            "63/63 [==============================] - 0s 1ms/step\n",
            "63/63 [==============================] - 0s 1ms/step\n"
          ]
        },
        {
          "metadata": {
            "tags": null
          },
          "name": "stderr",
          "output_type": "stream",
          "text": [
            "[I 2024-01-06 14:38:25,777] Trial 37 finished with value: -0.0010115863499716936 and parameters: {'learning_rate': 0.006047877120175672, 'neurons_layer_1': 992, 'neurons_layer_2': 272, 'neurons_layer_3': 192, 'batch_size': 128, 'epochs': 12, 'regularization': 'l1_l2', 'l1_reg': 0.0008935528704115688, 'l2_reg': 0.0001259752570737734}. Best is trial 34 with value: 0.6350217588166369.\n"
          ]
        },
        {
          "metadata": {
            "tags": null
          },
          "name": "stdout",
          "output_type": "stream",
          "text": [
            "63/63 [==============================] - 0s 1ms/step\n",
            "63/63 [==============================] - 0s 1ms/step\n",
            "63/63 [==============================] - 0s 1ms/step\n",
            "63/63 [==============================] - 0s 1ms/step\n",
            "63/63 [==============================] - 0s 1ms/step\n"
          ]
        },
        {
          "metadata": {
            "tags": null
          },
          "name": "stderr",
          "output_type": "stream",
          "text": [
            "[I 2024-01-06 14:41:04,412] Trial 38 finished with value: 0.6033184856330026 and parameters: {'learning_rate': 0.0012449114899977136, 'neurons_layer_1': 944, 'neurons_layer_2': 320, 'neurons_layer_3': 160, 'batch_size': 32, 'epochs': 54, 'regularization': 'none'}. Best is trial 34 with value: 0.6350217588166369.\n"
          ]
        },
        {
          "metadata": {
            "tags": null
          },
          "name": "stdout",
          "output_type": "stream",
          "text": [
            "63/63 [==============================] - 0s 1ms/step\n",
            "63/63 [==============================] - 0s 1ms/step\n",
            "63/63 [==============================] - 0s 2ms/step\n",
            "63/63 [==============================] - 0s 1ms/step\n",
            "63/63 [==============================] - 0s 1ms/step\n"
          ]
        },
        {
          "metadata": {
            "tags": null
          },
          "name": "stderr",
          "output_type": "stream",
          "text": [
            "[I 2024-01-06 14:45:24,702] Trial 39 finished with value: 0.5746937438956646 and parameters: {'learning_rate': 0.004798351703652326, 'neurons_layer_1': 752, 'neurons_layer_2': 224, 'neurons_layer_3': 256, 'batch_size': 32, 'epochs': 91, 'regularization': 'none'}. Best is trial 34 with value: 0.6350217588166369.\n"
          ]
        },
        {
          "metadata": {
            "tags": null
          },
          "name": "stdout",
          "output_type": "stream",
          "text": [
            "63/63 [==============================] - 0s 1ms/step\n",
            "63/63 [==============================] - 0s 1ms/step\n",
            "63/63 [==============================] - 0s 1ms/step\n",
            "63/63 [==============================] - 0s 1ms/step\n",
            "63/63 [==============================] - 0s 1ms/step\n"
          ]
        },
        {
          "metadata": {
            "tags": null
          },
          "name": "stderr",
          "output_type": "stream",
          "text": [
            "[I 2024-01-06 14:47:17,079] Trial 40 finished with value: 0.588594784516267 and parameters: {'learning_rate': 0.0006547209565220162, 'neurons_layer_1': 864, 'neurons_layer_2': 480, 'neurons_layer_3': 208, 'batch_size': 64, 'epochs': 72, 'regularization': 'l1', 'l1_reg': 1.2360579023480274e-05}. Best is trial 34 with value: 0.6350217588166369.\n"
          ]
        },
        {
          "metadata": {
            "tags": null
          },
          "name": "stdout",
          "output_type": "stream",
          "text": [
            "63/63 [==============================] - 0s 1ms/step\n",
            "63/63 [==============================] - 0s 1ms/step\n",
            "63/63 [==============================] - 0s 1ms/step\n",
            "63/63 [==============================] - 0s 1ms/step\n",
            "63/63 [==============================] - 0s 1ms/step\n"
          ]
        },
        {
          "metadata": {
            "tags": null
          },
          "name": "stderr",
          "output_type": "stream",
          "text": [
            "[I 2024-01-06 14:50:26,322] Trial 41 finished with value: 0.6270551283703194 and parameters: {'learning_rate': 0.00012476792686007677, 'neurons_layer_1': 944, 'neurons_layer_2': 80, 'neurons_layer_3': 32, 'batch_size': 32, 'epochs': 67, 'regularization': 'none'}. Best is trial 34 with value: 0.6350217588166369.\n"
          ]
        },
        {
          "metadata": {
            "tags": null
          },
          "name": "stdout",
          "output_type": "stream",
          "text": [
            "63/63 [==============================] - 0s 1ms/step\n",
            "63/63 [==============================] - 0s 1ms/step\n",
            "63/63 [==============================] - 0s 1ms/step\n",
            "63/63 [==============================] - 0s 1ms/step\n",
            "63/63 [==============================] - 0s 1ms/step\n"
          ]
        },
        {
          "metadata": {
            "tags": null
          },
          "name": "stderr",
          "output_type": "stream",
          "text": [
            "[I 2024-01-06 14:54:08,072] Trial 42 finished with value: 0.6244761765901138 and parameters: {'learning_rate': 0.00014216867668666132, 'neurons_layer_1': 976, 'neurons_layer_2': 80, 'neurons_layer_3': 32, 'batch_size': 32, 'epochs': 76, 'regularization': 'none'}. Best is trial 34 with value: 0.6350217588166369.\n"
          ]
        },
        {
          "output_type": "stream",
          "name": "stdout",
          "text": [
            "63/63 [==============================] - 0s 1ms/step\n",
            "63/63 [==============================] - 0s 1ms/step\n",
            "63/63 [==============================] - 0s 1ms/step\n",
            "63/63 [==============================] - 0s 1ms/step\n",
            "63/63 [==============================] - 0s 1ms/step\n"
          ]
        },
        {
          "output_type": "stream",
          "name": "stderr",
          "text": [
            "[I 2024-01-06 14:57:54,570] Trial 43 finished with value: 0.6273341393099988 and parameters: {'learning_rate': 0.00017133373658047873, 'neurons_layer_1': 992, 'neurons_layer_2': 64, 'neurons_layer_3': 48, 'batch_size': 32, 'epochs': 78, 'regularization': 'none'}. Best is trial 34 with value: 0.6350217588166369.\n"
          ]
        },
        {
          "output_type": "stream",
          "name": "stdout",
          "text": [
            "63/63 [==============================] - 0s 2ms/step\n",
            "63/63 [==============================] - 0s 1ms/step\n",
            "63/63 [==============================] - 0s 1ms/step\n",
            "63/63 [==============================] - 0s 1ms/step\n",
            "63/63 [==============================] - 0s 2ms/step\n"
          ]
        },
        {
          "output_type": "stream",
          "name": "stderr",
          "text": [
            "[I 2024-01-06 15:05:22,220] Trial 44 finished with value: 0.6204567115988198 and parameters: {'learning_rate': 0.001518005614903527, 'neurons_layer_1': 992, 'neurons_layer_2': 48, 'neurons_layer_3': 64, 'batch_size': 16, 'epochs': 78, 'regularization': 'none'}. Best is trial 34 with value: 0.6350217588166369.\n"
          ]
        },
        {
          "output_type": "stream",
          "name": "stdout",
          "text": [
            "63/63 [==============================] - 0s 2ms/step\n",
            "63/63 [==============================] - 0s 2ms/step\n",
            "63/63 [==============================] - 0s 2ms/step\n",
            "63/63 [==============================] - 0s 1ms/step\n",
            "63/63 [==============================] - 0s 2ms/step\n"
          ]
        },
        {
          "output_type": "stream",
          "name": "stderr",
          "text": [
            "[I 2024-01-06 15:09:18,132] Trial 45 finished with value: 0.6027042743720546 and parameters: {'learning_rate': 0.0020435117326025446, 'neurons_layer_1': 912, 'neurons_layer_2': 80, 'neurons_layer_3': 48, 'batch_size': 32, 'epochs': 76, 'regularization': 'none'}. Best is trial 34 with value: 0.6350217588166369.\n"
          ]
        },
        {
          "output_type": "stream",
          "name": "stdout",
          "text": [
            "63/63 [==============================] - 0s 2ms/step\n",
            "63/63 [==============================] - 0s 2ms/step\n",
            "63/63 [==============================] - 0s 2ms/step\n",
            "63/63 [==============================] - 0s 2ms/step\n",
            "63/63 [==============================] - 0s 2ms/step\n"
          ]
        },
        {
          "output_type": "stream",
          "name": "stderr",
          "text": [
            "[I 2024-01-06 15:13:42,170] Trial 46 finished with value: 0.21524548955255565 and parameters: {'learning_rate': 0.001192020295461517, 'neurons_layer_1': 464, 'neurons_layer_2': 16, 'neurons_layer_3': 96, 'batch_size': 32, 'epochs': 83, 'regularization': 'l2', 'l2_reg': 0.011825526237400939}. Best is trial 34 with value: 0.6350217588166369.\n"
          ]
        },
        {
          "output_type": "stream",
          "name": "stdout",
          "text": [
            "63/63 [==============================] - 0s 2ms/step\n",
            "63/63 [==============================] - 0s 2ms/step\n",
            "63/63 [==============================] - 0s 1ms/step\n",
            "63/63 [==============================] - 0s 1ms/step\n",
            "63/63 [==============================] - 0s 2ms/step\n"
          ]
        },
        {
          "output_type": "stream",
          "name": "stderr",
          "text": [
            "[I 2024-01-06 15:17:24,280] Trial 47 finished with value: 0.632347487052404 and parameters: {'learning_rate': 0.00010301825165127948, 'neurons_layer_1': 992, 'neurons_layer_2': 160, 'neurons_layer_3': 176, 'batch_size': 32, 'epochs': 70, 'regularization': 'none'}. Best is trial 34 with value: 0.6350217588166369.\n"
          ]
        },
        {
          "output_type": "stream",
          "name": "stdout",
          "text": [
            "63/63 [==============================] - 0s 1ms/step\n",
            "63/63 [==============================] - 0s 2ms/step\n",
            "63/63 [==============================] - 0s 2ms/step\n",
            "63/63 [==============================] - 0s 1ms/step\n",
            "63/63 [==============================] - 0s 2ms/step\n"
          ]
        },
        {
          "output_type": "stream",
          "name": "stderr",
          "text": [
            "[I 2024-01-06 15:25:02,654] Trial 48 finished with value: -0.0008762982586660861 and parameters: {'learning_rate': 0.007114591255622358, 'neurons_layer_1': 176, 'neurons_layer_2': 144, 'neurons_layer_3': 160, 'batch_size': 16, 'epochs': 70, 'regularization': 'l1_l2', 'l1_reg': 0.00046783406625028155, 'l2_reg': 0.00010642825575951143}. Best is trial 34 with value: 0.6350217588166369.\n"
          ]
        },
        {
          "output_type": "stream",
          "name": "stdout",
          "text": [
            "63/63 [==============================] - 0s 2ms/step\n",
            "63/63 [==============================] - 0s 2ms/step\n",
            "63/63 [==============================] - 0s 2ms/step\n",
            "63/63 [==============================] - 0s 1ms/step\n",
            "63/63 [==============================] - 0s 2ms/step\n"
          ]
        },
        {
          "output_type": "stream",
          "name": "stderr",
          "text": [
            "[I 2024-01-06 15:28:12,929] Trial 49 finished with value: 0.583278563584855 and parameters: {'learning_rate': 0.009169943822937099, 'neurons_layer_1': 1024, 'neurons_layer_2': 176, 'neurons_layer_3': 128, 'batch_size': 32, 'epochs': 61, 'regularization': 'none'}. Best is trial 34 with value: 0.6350217588166369.\n"
          ]
        }
      ]
    },
    {
      "cell_type": "code",
      "source": [
        "optuna.visualization.matplotlib.plot_optimization_history(study_svr)"
      ],
      "metadata": {
        "colab": {
          "base_uri": "https://localhost:8080/",
          "height": 536
        },
        "id": "gHnMgFiMw1oU",
        "outputId": "d73109c0-9f71-4a14-d717-e8333fc3325f"
      },
      "execution_count": 9,
      "outputs": [
        {
          "output_type": "stream",
          "name": "stderr",
          "text": [
            "<ipython-input-9-b7f3a9c196e1>:1: ExperimentalWarning: plot_optimization_history is experimental (supported from v2.2.0). The interface can change in the future.\n",
            "  optuna.visualization.matplotlib.plot_optimization_history(study_svr)\n"
          ]
        },
        {
          "output_type": "execute_result",
          "data": {
            "text/plain": [
              "<Axes: title={'center': 'Optimization History Plot'}, xlabel='Trial', ylabel='Objective Value'>"
            ]
          },
          "metadata": {},
          "execution_count": 9
        },
        {
          "output_type": "display_data",
          "data": {
            "text/plain": [
              "<Figure size 640x480 with 1 Axes>"
            ],
            "image/png": "[encoded data removed]"
          },
          "metadata": {}
        }
      ]
    },
    {
      "cell_type": "code",
      "source": [
        "from optuna.visualization import matplotlib as optuna_matplotlib\n",
        "import matplotlib.pyplot as plt\n",
        "optuna.visualization.matplotlib.plot_optimization_history(study_svr)\n",
        "\n",
        "optuna.visualization.matplotlib.plot_optimization_history(study_svr)\n",
        "optuna_matplotlib.plot_optimization_history(study_svr)\n",
        "\n",
        "plt.ylim(0, 1)\n",
        "\n",
        "# Show the plot\n",
        "plt.show()"
      ],
      "metadata": {
        "colab": {
          "base_uri": "https://localhost:8080/",
          "height": 1000
        },
        "id": "qLOXz7zPw7PF",
        "outputId": "443b0a36-c10f-4305-ce03-49fb36f58624"
      },
      "execution_count": 10,
      "outputs": [
        {
          "output_type": "stream",
          "name": "stderr",
          "text": [
            "<ipython-input-10-62749383f84c>:3: ExperimentalWarning: plot_optimization_history is experimental (supported from v2.2.0). The interface can change in the future.\n",
            "  optuna.visualization.matplotlib.plot_optimization_history(study_svr)\n",
            "<ipython-input-10-62749383f84c>:5: ExperimentalWarning: plot_optimization_history is experimental (supported from v2.2.0). The interface can change in the future.\n",
            "  optuna.visualization.matplotlib.plot_optimization_history(study_svr)\n",
            "<ipython-input-10-62749383f84c>:6: ExperimentalWarning: plot_optimization_history is experimental (supported from v2.2.0). The interface can change in the future.\n",
            "  optuna_matplotlib.plot_optimization_history(study_svr)\n"
          ]
        },
        {
          "output_type": "display_data",
          "data": {
            "text/plain": [
              "<Figure size 640x480 with 1 Axes>"
            ],
            "image/png": "[encoded data removed]"
          },
          "metadata": {}
        },
        {
          "output_type": "display_data",
          "data": {
            "text/plain": [
              "<Figure size 640x480 with 1 Axes>"
            ],
            "image/png": "[encoded data removed]"
          },
          "metadata": {}
        },
        {
          "output_type": "display_data",
          "data": {
            "text/plain": [
              "<Figure size 640x480 with 1 Axes>"
            ],
            "image/png": "[encoded data removed]"
          },
          "metadata": {}
        }
      ]
    }
  ]
}